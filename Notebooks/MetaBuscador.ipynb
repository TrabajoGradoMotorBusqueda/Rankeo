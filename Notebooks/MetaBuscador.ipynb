{
 "cells": [
  {
   "cell_type": "markdown",
   "metadata": {},
   "source": [
    "### Cargamos Ontologia y Vocabulario"
   ]
  },
  {
   "cell_type": "code",
   "execution_count": 112,
   "metadata": {},
   "outputs": [],
   "source": [
    "from ontologia import *"
   ]
  },
  {
   "cell_type": "code",
   "execution_count": 7,
   "metadata": {},
   "outputs": [
    {
     "data": {
      "text/plain": [
       "True"
      ]
     },
     "execution_count": 7,
     "metadata": {},
     "output_type": "execute_result"
    }
   ],
   "source": [
    "import sys\n",
    "# insert at 1, 0 is the script path (or '' in REPL)\n",
    "sys.path.insert(1, '../Scripts')\n",
    "import pandas as pd \n",
    "from ontologia import *\n",
    "import ast\n",
    "import difflib\n",
    "#Frequency\n",
    "from collections import Counter \n",
    "from itertools import repeat, chain \n",
    "\n",
    "#ElasticSearch\n",
    "from gensim.models.doc2vec import Doc2Vec, TaggedDocument\n",
    "from gensim.models import Word2Vec\n",
    "from time import time\n",
    "\n",
    "from numpy import (\n",
    "    dot, float32 as REAL\n",
    ")\n",
    "import numpy as np\n",
    "from elasticsearch import Elasticsearch\n",
    "\n",
    "\n",
    "#Lectura de lemas \n",
    "import json\n",
    "with open('./Vocabulario/diccionario-lemas.json', 'r') as f:\n",
    "    diccionario_lemas = json.loads(f.read())\n",
    "\n",
    "lemas = list(diccionario_lemas.keys())\n",
    "\n",
    "es = Elasticsearch()\n",
    "es.ping()"
   ]
  },
  {
   "cell_type": "code",
   "execution_count": 8,
   "metadata": {},
   "outputs": [],
   "source": [
    "modeloD2V = Doc2Vec.load(\"./Modelos/modelo2_FINALD2V.model\")"
   ]
  },
  {
   "cell_type": "markdown",
   "metadata": {},
   "source": [
    "**Palabras a Buscar**"
   ]
  },
  {
   "cell_type": "code",
   "execution_count": 9,
   "metadata": {},
   "outputs": [],
   "source": [
    "words = ['gestor', 'conocimiento']"
   ]
  },
  {
   "cell_type": "markdown",
   "metadata": {},
   "source": [
    "#### Consulta de Palabras mas similares y en contexto"
   ]
  },
  {
   "cell_type": "code",
   "execution_count": 28,
   "metadata": {},
   "outputs": [
    {
     "data": {
      "text/plain": [
       "[('gestor', 0.81737363),\n",
       " ('conocimiento', 0.8173736),\n",
       " ('debilmente', 0.77090985),\n",
       " ('umayux', 0.74467164),\n",
       " ('sgbd', 0.7438246),\n",
       " ('sparql', 0.7421229),\n",
       " ('rdf', 0.71533084),\n",
       " ('postgresql', 0.7092361),\n",
       " ('ontologias', 0.707866),\n",
       " ('fundamentandose', 0.69965184),\n",
       " ('solicitada', 0.690233),\n",
       " ('maskana', 0.6835666),\n",
       " ('motor', 0.6802874),\n",
       " ('transformarla', 0.677389),\n",
       " ('facilite', 0.66182),\n",
       " ('adquieran', 0.66137993),\n",
       " ('buscador', 0.6595822),\n",
       " ('digitalizados', 0.6512728),\n",
       " ('flock', 0.6399753),\n",
       " ('robusto', 0.6398908)]"
      ]
     },
     "execution_count": 28,
     "metadata": {},
     "output_type": "execute_result"
    }
   ],
   "source": [
    "#Retrive Vectors\n",
    "keywords = []\n",
    "for word in words:\n",
    "    term = {\"term\": {\"palabra\": \"\"}}\n",
    "    term['term']['palabra'] = word\n",
    "    keywords.append(term)\n",
    "\n",
    "\n",
    "#Aqui Añadimos las palabras\n",
    "query_vecs = {\n",
    "    \"query\":{\n",
    "        \"bool\":{\n",
    "            \"should\":keywords\n",
    "        }\n",
    "    },\n",
    "    \"_source\": [\"palabra\", \"norm_vec\"]\n",
    "}\n",
    "#Calculo del Vector\n",
    "vectores = es.search(index='palabras', body=query_vecs)['hits']['hits']\n",
    "norm_vecs = [vector['_source']['norm_vec'] for vector in vectores]\n",
    "vector_mean = np.array(norm_vecs).mean(axis=0)\n",
    "unit_vec = vector_mean / np.linalg.norm(vector_mean)\n",
    "\n",
    "#Most similar Words\n",
    "query_sims = {\n",
    "  \"query\": {\n",
    "    \"script_score\": {\n",
    "      \"query\": {\n",
    "        \"match_all\": {}\n",
    "       },\n",
    "      \"script\": {\n",
    "        \"id\": \"dot_product\",\n",
    "        \"params\": {\n",
    "          \"query_vector\": unit_vec\n",
    "        }\n",
    "      }\n",
    "    }\n",
    "  },\n",
    "  \"size\": 20,\n",
    "  \"_source\": [\"palabra\", \"index\"]\n",
    "}\n",
    "most_similar_words = es.search(index='palabras', body=query_sims)['hits']['hits']\n",
    "most_similar_words = [(palabra['_source']['palabra'], palabra['_score']) for palabra in most_similar_words]\n",
    "most_similar_words"
   ]
  },
  {
   "cell_type": "markdown",
   "metadata": {},
   "source": [
    "#### Consulta en Ontologia"
   ]
  },
  {
   "cell_type": "code",
   "execution_count": 58,
   "metadata": {},
   "outputs": [
    {
     "name": "stdout",
     "output_type": "stream",
     "text": [
      "422 - MOTOR DE BÚSQUEDA INTELIGENTE DE INFORMES DE INVESTIGACIÓN BASADO EN RECURSOS SEMÁNTICOS PARA EL SISTEMA DE INVESTIGACIONES DE LA UNIVERSIDAD DE NARIÑO\n",
      "443 - UMAYUX: UN MODELO DE SOFTWARE DE GESTION DE CONOCIMIENTO SOPORTADO EN UNA ONTOLOGIA DINAMICA DEBILMENTE ACOPLADO CON UN GESTOR DE BASE DE DATOS PARA LA UNIVERSIDAD DE NARIÑO\n",
      "320 - APROXIMACIÓN AL PENSAMIENTO JURÍDICO NARIÑENSE DESDE LAS FIGURAS DE JOSÉ RAFAEL SAÑUDO Y ERNESTO VELA ANGULO.\n",
      "438 - SITAPP: UNA APLICACIÓN INTELIGENTE PARA DISPOSITIVOS MÓVILES DEL SISTEMA DE RUTAS DE TRANSPORTE URBANO DEL MUNICIPIO DE PASTO\n",
      "9 - Análisis de factores de aprendizaje en seguridad alimentaria con comunidades rurales en el municipio de Pasto, departamento de Nariño.\n"
     ]
    }
   ],
   "source": [
    "words_ontologia=[word[0] for word in most_similar_words]\n",
    "\n",
    "#Palabras en plural o muy similares\n",
    "more_words=[]\n",
    "for word in words:\n",
    "    additional = difflib.get_close_matches(word, diccionario_lemas.keys(), n=5, cutoff=0.90)\n",
    "    more_words.extend(additional[1:])\n",
    "    \n",
    "#Añadir palabras finales\n",
    "words_ontologia.extend(more_words)\n",
    "# Recuperacion con OR2\n",
    "\n",
    "words_instances=[]\n",
    "\n",
    "for word in words_ontologia:\n",
    "    instance = ontologia.search(descripcion_palabra=word)\n",
    "    words_instances.extend(instance)\n",
    "\n",
    "#print(words_instances)\n",
    "docs = []\n",
    "for word in words_instances:\n",
    "    for doc in word.palabra_describe_pi:\n",
    "        docs.append(doc)\n",
    "        \n",
    "\n",
    "# sorting on bais of frequency of elements \n",
    "# result_ontologia = list(chain(i for i, c in Counter(id_docs).most_common()))\n",
    "result_ontologia = list(chain(i for i, c in Counter(docs).most_common())) \n",
    "id_ontologia = [id_pi.get_id_proyecto_investigacion()[0] for id_pi in result_ontologia]\n",
    "\n",
    "  \n",
    "# printing final result \n",
    "# print(\"final list\", str(result), \"Cantidad:\",len(result)) \n",
    "for index, doc in enumerate(result_ontologia[:5]):\n",
    "    title = doc.get_titulo_proyecto_investigacion()\n",
    "    id_pi = doc.get_id_proyecto_investigacion()\n",
    "    print(f'{id_pi[0]} - {title[0]}')"
   ]
  },
  {
   "cell_type": "markdown",
   "metadata": {},
   "source": [
    "#### Consulta de Documentos mas similares y en contexto"
   ]
  },
  {
   "cell_type": "code",
   "execution_count": 123,
   "metadata": {},
   "outputs": [
    {
     "data": {
      "text/plain": [
       "'gestor conocimiento'"
      ]
     },
     "execution_count": 123,
     "metadata": {},
     "output_type": "execute_result"
    }
   ],
   "source": [
    "' '.join(words)"
   ]
  },
  {
   "cell_type": "code",
   "execution_count": 125,
   "metadata": {},
   "outputs": [
    {
     "data": {
      "text/plain": [
       "[(443, 0.66235775),\n",
       " (438, 0.6223273),\n",
       " (422, 0.6201896),\n",
       " (417, 0.6085159),\n",
       " (435, 0.60569215),\n",
       " (139, 0.56078124),\n",
       " (337, 0.5443832),\n",
       " (306, 0.5406774),\n",
       " (65, 0.53958386),\n",
       " (425, 0.53944224),\n",
       " (444, 0.53565085),\n",
       " (445, 0.53490525),\n",
       " (21, 0.53432727),\n",
       " (407, 0.52386117),\n",
       " (311, 0.5203832),\n",
       " (316, 0.5185517),\n",
       " (197, 0.50988),\n",
       " (436, 0.5038429),\n",
       " (24, 0.50227654),\n",
       " (315, 0.49949726),\n",
       " (186, 0.49746048),\n",
       " (290, 0.49744958),\n",
       " (289, 0.49667418),\n",
       " (184, 0.49478057),\n",
       " (390, 0.4924835),\n",
       " (183, 0.49125305),\n",
       " (182, 0.49119693),\n",
       " (185, 0.49052423),\n",
       " (20, 0.4829776),\n",
       " (319, 0.4790032),\n",
       " (44, 0.47827286),\n",
       " (404, 0.47826412),\n",
       " (123, 0.47139874),\n",
       " (11, 0.47028577),\n",
       " (240, 0.46992493),\n",
       " (310, 0.46885532),\n",
       " (291, 0.46796596),\n",
       " (403, 0.4669853),\n",
       " (296, 0.46383485),\n",
       " (19, 0.46351784),\n",
       " (221, 0.46308765),\n",
       " (193, 0.46277997),\n",
       " (344, 0.4618602),\n",
       " (258, 0.46172166),\n",
       " (437, 0.4616627),\n",
       " (49, 0.46124566),\n",
       " (276, 0.45824677),\n",
       " (116, 0.45591488),\n",
       " (59, 0.45519447),\n",
       " (420, 0.4534743),\n",
       " (410, 0.45316967),\n",
       " (381, 0.45255765),\n",
       " (261, 0.45192352),\n",
       " (266, 0.45161682),\n",
       " (374, 0.45080006),\n",
       " (234, 0.45060912),\n",
       " (376, 0.44805136),\n",
       " (318, 0.4472129),\n",
       " (215, 0.44604817),\n",
       " (324, 0.4455935),\n",
       " (292, 0.44514358),\n",
       " (272, 0.44480267),\n",
       " (216, 0.44389153),\n",
       " (349, 0.44364008),\n",
       " (363, 0.4426231),\n",
       " (371, 0.44134417),\n",
       " (375, 0.4395701),\n",
       " (380, 0.4392469),\n",
       " (446, 0.43771118),\n",
       " (260, 0.43765333),\n",
       " (268, 0.4365004),\n",
       " (106, 0.43390986),\n",
       " (322, 0.4336865),\n",
       " (143, 0.43254694),\n",
       " (342, 0.4319162),\n",
       " (48, 0.43039966),\n",
       " (161, 0.43027005),\n",
       " (199, 0.42924958),\n",
       " (250, 0.42828614),\n",
       " (124, 0.42788208),\n",
       " (111, 0.42755458),\n",
       " (150, 0.42651156),\n",
       " (249, 0.42580774),\n",
       " (368, 0.42559275),\n",
       " (137, 0.42367476),\n",
       " (405, 0.4230224),\n",
       " (338, 0.4229865),\n",
       " (335, 0.42177358),\n",
       " (294, 0.42160678),\n",
       " (301, 0.41965517),\n",
       " (263, 0.41928723),\n",
       " (361, 0.41895032),\n",
       " (297, 0.41793188),\n",
       " (22, 0.41771924),\n",
       " (58, 0.41719902),\n",
       " (238, 0.4157105),\n",
       " (299, 0.41547516),\n",
       " (430, 0.415391),\n",
       " (287, 0.41502252),\n",
       " (91, 0.41495973),\n",
       " (293, 0.4149182),\n",
       " (271, 0.41485548),\n",
       " (406, 0.41480526),\n",
       " (414, 0.41442254),\n",
       " (102, 0.41385317),\n",
       " (134, 0.41371003),\n",
       " (235, 0.4123231),\n",
       " (308, 0.41223308),\n",
       " (41, 0.4119769),\n",
       " (237, 0.41069365),\n",
       " (37, 0.41057253),\n",
       " (85, 0.40960994),\n",
       " (441, 0.40924495),\n",
       " (219, 0.40899318),\n",
       " (439, 0.40898764),\n",
       " (307, 0.40891042),\n",
       " (71, 0.40879962),\n",
       " (40, 0.40865585),\n",
       " (201, 0.40788457),\n",
       " (298, 0.40759107),\n",
       " (104, 0.40729922),\n",
       " (373, 0.4072443),\n",
       " (96, 0.40672198),\n",
       " (53, 0.40548953),\n",
       " (242, 0.40474167),\n",
       " (28, 0.40339535),\n",
       " (77, 0.4029619),\n",
       " (220, 0.4028077),\n",
       " (52, 0.40263024),\n",
       " (43, 0.40236676),\n",
       " (411, 0.4016086),\n",
       " (440, 0.40124556),\n",
       " (18, 0.40122226),\n",
       " (451, 0.40119994),\n",
       " (108, 0.40055308),\n",
       " (181, 0.39910173),\n",
       " (450, 0.39858156),\n",
       " (379, 0.3984813),\n",
       " (214, 0.3977655),\n",
       " (168, 0.3971857),\n",
       " (246, 0.3971348),\n",
       " (333, 0.39675015),\n",
       " (267, 0.39638376),\n",
       " (76, 0.39615974),\n",
       " (60, 0.39570498),\n",
       " (10, 0.39543915),\n",
       " (202, 0.3945348),\n",
       " (343, 0.3938047),\n",
       " (313, 0.39357305),\n",
       " (42, 0.39346054),\n",
       " (17, 0.3933486),\n",
       " (423, 0.39318702),\n",
       " (9, 0.39302382),\n",
       " (334, 0.39274448),\n",
       " (400, 0.39256984),\n",
       " (100, 0.3925395),\n",
       " (99, 0.39236316),\n",
       " (26, 0.39190722),\n",
       " (265, 0.3916971),\n",
       " (314, 0.39157665),\n",
       " (251, 0.39144963),\n",
       " (413, 0.3904261),\n",
       " (171, 0.3903823),\n",
       " (29, 0.3902612),\n",
       " (370, 0.3901864)]"
      ]
     },
     "execution_count": 125,
     "metadata": {},
     "output_type": "execute_result"
    }
   ],
   "source": [
    "#Cantidad de Documentos \n",
    "limit_docs = len(id_ontologia)\n",
    "\n",
    "infer_vec = [modeloD2V.infer_vector(words)]\n",
    "vec_mean_doc = np.array(infer_vec).mean(axis=0)\n",
    "unit_vec_doc = vec_mean_doc / np.linalg.norm(vec_mean_doc)\n",
    "\n",
    "query_sims_docs = {\n",
    "  \"query\": {\n",
    "    \"script_score\": {\n",
    "      \"query\": {\n",
    "        \"match_all\": {}\n",
    "       },\n",
    "      \"script\": {\n",
    "        \"id\": \"dot_product\",\n",
    "        \"params\": {\n",
    "          \"query_vector\": unit_vec_doc\n",
    "        }\n",
    "      }\n",
    "    }\n",
    "  },\n",
    "  \"size\": limit_docs,\n",
    "  \"_source\": [\"tag\"]\n",
    "}\n",
    "\n",
    "most_similar_docs = es.search(index='documentos', body=query_sims_docs)['hits']['hits']\n",
    "most_similar_docs = [(doc['_source']['tag'], doc['_score']) for doc in most_similar_docs]\n",
    "id_D2V = [id_pi[0] for id_pi in most_similar_docs]\n",
    "most_similar_docs"
   ]
  },
  {
   "cell_type": "code",
   "execution_count": 126,
   "metadata": {},
   "outputs": [
    {
     "name": "stdout",
     "output_type": "stream",
     "text": [
      "165\n",
      "165\n"
     ]
    }
   ],
   "source": [
    "print(len(id_ontologia))\n",
    "print(len(id_D2V))"
   ]
  },
  {
   "cell_type": "markdown",
   "metadata": {},
   "source": [
    "## Comparacion de Resultados y Presentación Final"
   ]
  },
  {
   "cell_type": "code",
   "execution_count": 127,
   "metadata": {},
   "outputs": [
    {
     "name": "stdout",
     "output_type": "stream",
     "text": [
      "[422, 443, 320, 438, 9, 34, 62, 63, 64, 190, 193, 204, 230, 231, 247, 248, 292, 293, 304, 311, 312, 337, 352, 375, 431, 433, 444, 1, 38, 281, 3, 4, 6, 7, 8, 10, 13, 14, 21, 24, 25, 28, 30, 39, 48, 49, 53, 55, 58, 65, 68, 73, 75, 77, 80, 83, 91, 94, 98, 103, 106, 107, 111, 117, 119, 122, 126, 127, 131, 143, 154, 157, 159, 160, 163, 168, 170, 177, 180, 188, 191, 196, 198, 201, 202, 205, 212, 214, 219, 220, 223, 224, 229, 232, 238, 251, 261, 263, 266, 271, 272, 276, 280, 282, 284, 286, 288, 291, 305, 308, 310, 321, 329, 331, 332, 334, 336, 338, 343, 345, 346, 349, 350, 360, 368, 371, 376, 377, 380, 382, 394, 405, 407, 409, 416, 417, 430, 441, 445, 448, 435, 104, 173, 197, 235, 255, 324, 395, 399, 400, 403, 12, 18, 47, 56, 71, 203, 218, 226, 233, 243, 245, 410, 419, 451]\n",
      "[443, 438, 422, 417, 435, 139, 337, 306, 65, 425, 444, 445, 21, 407, 311, 316, 197, 436, 24, 315, 186, 290, 289, 184, 390, 183, 182, 185, 20, 319, 44, 404, 123, 11, 240, 310, 291, 403, 296, 19, 221, 193, 344, 258, 437, 49, 276, 116, 59, 420, 410, 381, 261, 266, 374, 234, 376, 318, 215, 324, 292, 272, 216, 349, 363, 371, 375, 380, 446, 260, 268, 106, 322, 143, 342, 48, 161, 199, 250, 124, 111, 150, 249, 368, 137, 405, 338, 335, 294, 301, 263, 361, 297, 22, 58, 238, 299, 430, 287, 91, 293, 271, 406, 414, 102, 134, 235, 308, 41, 237, 37, 85, 441, 219, 439, 307, 71, 40, 201, 298, 104, 373, 96, 53, 242, 28, 77, 220, 52, 43, 411, 440, 18, 451, 108, 181, 450, 379, 214, 168, 246, 333, 267, 76, 60, 10, 202, 343, 313, 42, 17, 423, 9, 334, 400, 100, 99, 26, 265, 314, 251, 413, 171, 29, 370]\n"
     ]
    }
   ],
   "source": [
    "print(id_ontologia)\n",
    "print(id_D2V)"
   ]
  },
  {
   "cell_type": "code",
   "execution_count": 129,
   "metadata": {},
   "outputs": [
    {
     "data": {
      "text/plain": [
       "225"
      ]
     },
     "execution_count": 129,
     "metadata": {},
     "output_type": "execute_result"
    }
   ],
   "source": [
    "final_search = []\n",
    "for onto, d2v in zip(id_ontologia, id_D2V):\n",
    "    if onto == d2v:\n",
    "        final_search.append(onto)\n",
    "        continue\n",
    "    else:\n",
    "        if (onto not in final_search) and (d2v not in final_search):\n",
    "            final_search.append(onto)\n",
    "            final_search.append(d2v)\n",
    "len(final_search)"
   ]
  },
  {
   "cell_type": "code",
   "execution_count": 115,
   "metadata": {},
   "outputs": [
    {
     "data": {
      "text/plain": [
       "owlready2.namespace.Ontology"
      ]
     },
     "execution_count": 115,
     "metadata": {},
     "output_type": "execute_result"
    }
   ],
   "source": [
    "type(ontologia)"
   ]
  },
  {
   "cell_type": "code",
   "execution_count": 131,
   "metadata": {},
   "outputs": [
    {
     "name": "stdout",
     "output_type": "stream",
     "text": [
      "['MOTOR DE BÚSQUEDA INTELIGENTE DE INFORMES DE INVESTIGACIÓN BASADO EN RECURSOS SEMÁNTICOS PARA EL SISTEMA DE INVESTIGACIONES DE LA UNIVERSIDAD DE NARIÑO']\n",
      "['UMAYUX: UN MODELO DE SOFTWARE DE GESTION DE CONOCIMIENTO SOPORTADO EN UNA ONTOLOGIA DINAMICA DEBILMENTE ACOPLADO CON UN GESTOR DE BASE DE DATOS PARA LA UNIVERSIDAD DE NARIÑO']\n",
      "['SITAPP: UNA APLICACIÓN INTELIGENTE PARA DISPOSITIVOS MÓVILES DEL SISTEMA DE RUTAS DE TRANSPORTE URBANO DEL MUNICIPIO DE PASTO']\n",
      "['MAKIPURAY: UNA HERRAMIENTA WEB DE INTELIGENCIA DE NEGOCIOS PARA EL DESCUBRIMIENTO DE CONOCIMIENTO ORIENTADA A LAS PYME DEL DEPARTAMENTO DE NARIÑO']\n",
      "['Análisis de factores de aprendizaje en seguridad alimentaria con comunidades rurales en el municipio de Pasto, departamento de Nariño.']\n",
      "['Rikhuna: Visor cartográfico inteligente de direcciones urbanas y sitios de interés del municipio de Pasto basado en PostGIS.']\n",
      "['CARACTERIZACIÓN AEROBIA Y ANAEROBIA DEL ÁREA DE INFLUENCIA DE LA PRODUCCIÓN DE TRUCHA ARCOÍRIS (Oncorhynchus mykiss) DE LA ESTACIÓN PISCÍCOLA INTIYACO EN EL LAGO GUAMUEZ DEPARTAMENTO DE NARIÑO']\n",
      "['Evaluación de la actividad antimicrobiana de Peperomia subspathulata y Cordia acuta']\n",
      "['Desarrollo de una estrategia pedagógica que facilite la articulación de las prácticas del dibujo analógico y digital en diseño industrial, a través del uso de herramientas tecnológicas']\n",
      "['CONSTRUCCIÓN DE UN REPOSITORIO LIMPIO DE DATOS PARA LA DETECCIÓN DE PATRONES DE EVENTOS ERUPTIVOS DEL VOLCÁN GALERAS CON TÉCNICAS DE MINERÍA DE DATOS']\n",
      "['Desarrollo de una metodología de visualización interactiva y eficaz de información en Big Data.']\n",
      "['Working Memory Training and its Effect on Second Language Low Performance Students.']\n",
      "['Desarrollo y Aplicación de la Tecnología de Oxidación Avanzada PCFH para Mejorar la Calidad del Agua Potable en el Departamento de Nariño']\n",
      "['DESCUBRIMIENTO DE FACTORES ASOCIADOS AL DESEMPEÑO ACADÉMICO EN LAS PRUEBAS SABER 11° DE LOS ESTUDIANTES DE LAS INSTITUCIONES EDUCATIVAS DEL DEPARTAMENTO DE NARIÑO CON TÉCNICAS DESCRIPTIVAS DE MINERÍA DE DATOS']\n",
      "['Fortalecimiento asociativo y productivo de los pequeños y medianos cultivadores de trucha de los municipios de Guachucal, Cumbal y Potosí del departamento de Nariño a través de la red empresarial como estrategia asociativa']\n",
      "['PARLANA: Sistema Experto para determinar el nivel de inglés según el Marco Común Europeo para las Lenguas en los estudiantes de la Facultad de Ingeniería de la Universidad de Nariño.']\n",
      "['Fortalecimiento de las actitudes tendientes a prevenir las manifestaciones de violencia basada en género en administrativos, docentes y estudiantes en la Universidad de Nariño']\n",
      "['UN APLICACIÓN DE BASES DE DATOS NoSQL PARA LA GESTIÓN DE INFORMACIÓN DE EGRESADOS DEL PROGRAMA DE INGENIERÍA DE SISTEMAS DE LA UNIVERSIDAD DE NARIÑO']\n",
      "['HONGOS FITOPATÓGENOS ASOCIADOS AL LAUREL DE CERA Morella pubescens']\n",
      "['UN MERCADO DE DATOS PARA EL ANÁLISIS MULTIDIMENSIONAL DE LAS PRUEBAS SABER 5 DE LAS INSTITUCIONES EDUCATIVAS DE LOS MUNICIPIOS DE LA SUBREGIÓN DE OBANDO DEL DEPARTAMENTO DE NARIÑO']\n",
      "['La historia crítica del arte en Nariño']\n",
      "['APLICACIÓN DE LA MINERÍA DE DATOS EN LA DETECCIÓN DE PATRONES DE DESEMPEÑO EN LAS COMPETENCIAS GENÉRICAS DE LAS PRUEBAS SABER PRO 2012, 2013 y 2014 DE LOS ESTUDIANTES DE LOS PROGRAMAS PROFESIONALES DE LA UNIVERSIDAD DE NARIÑO']\n",
      "['La lucha territorial de los indígenas en La Guerra de los Conventillos y otras revueltas locales.']\n",
      "['IMARAÑA: UNA HERRAMIENTA WEB DE ANALÍTICA DE DATOS BASADA EN EL LENGUAJE R PARA SOPORTAR LA TOMA DE DECISIONES EN LAS PYMES DEL DEPARTAMENTO DE NARIÑO']\n",
      "['Modelo de Gestión Humana con Enfoque en Competencias Aplicable a Empresas del Sector Servicio de la Ciudad de Pasto']\n",
      "['ANÁLISIS DE FUNCIONALIDAD DE LA HERRAMIENTA DE INTELIGENCIA DE NEGOCIOS DE SOFTWARE LIBRE SPAGO BI ORIENTADA AL USO EN LAS PYMES DE LA REGIÓN']\n",
      "['Modelo de Gestión Humana con Enfoque en Competencias Aplicable a Empresas del Sector Servicio de la Ciudad de Pasto']\n",
      "['Aplicación para Android para el cálculo de la amenaza relativa por flujos piroclásticos']\n",
      "['Sistema de aprendizaje interactivo para la apropiación del conocimiento agroforestal']\n",
      "['Georreferenciación a nivel de direcciones urbanas de eventos delictivos fatales y no fatales a partir de la información almacenada en el Observatorio del Delito del Municipio de Pasto']\n",
      "['Sistema de Información Integral Hacia la Estandarización de los Procesos de Producción de Cafés Especiales en el Municipio de Buesaco']\n",
      "['SÍNTESIS DE UN NUEVO 1,4-BIS(3-ETOXI-1,2,4-TRIAZOLIL)BENCENO POR REACCIÓN DEL TEREFTALOILTIOCARBAMATO DE O-ETILO O DEL TEREFTALOILIMIDOTIOCARBONATO DE O,S-DIETILO CON HIDRAZINA']\n",
      "['VALIDACIÓN DE HERRAMIENTAS DIDÁCTICAS PARA LA ENSEÑANZA AGROFORESTAL, EN LAS VEREDAS SAN FELIPE, NUEVA CAMPILLA Y MARQUEZA, DEPARTAMENTO DE NARIÑO']\n",
      "['APLICACIÓN DE TÉCNICAS DE MINERÍA DE DATOS PARA EL DESCUBRIMIENTO DE FACTORES ASOCIADOS AL DESEMPEÑO ACADÉMICO EN LAS PRUEBAS SABER 5° DE LOS ESTUDIANTES DE LAS INSTITUCIONES EDUCATIVAS DEL DEPARTAMENTO DE NARIÑO.']\n",
      "['ANÁLISIS DE LA CONTRIBUCIÓN SOCIOECONÓMICA DE LAS MUJERES TRABAJADORAS EN LAS ZONAS RURALES DEL MUNICIPIO DE GUACHUCAL-DEPARTAMENTO DE NARIÑO. 2018']\n",
      "['FACTORES SOCIOECONÓMICOS QUE INFLUYEN EN LA INTENCIÓN EMPRENDEDORA DE LOS ESTUDIANTES DE PREGRADO DEL PROGRAMA DE ADMINISTRACIÓN DE EMPRESAS DE LA UNIVERSIDAD MARIANA SEDE PASTO']\n",
      "['DISEÑO COLABORATIVO DE ESTRATEGIAS INTEGRALES PARA LUGARES DE ESPARCIMIENTO JUVENIL EN LA CIUDAD DE PASTO QUE FORTALEZCAN SU RECONOCIMIENTO E IMPULSEN EL TURISMO URBANO CON PROPIOS Y TURISTAS']\n",
      "['SÍNTESIS, CARACTERIZACIÓN ESTRUCTURAL, ACTIVIDAD ANTIFÚNGICA Y RELACIONES CUANTITATIVAS DE ESTRUCTURA-ACTIVIDAD DE NUEVOS 1,2,4-TRIAZOLES']\n",
      "['Estudio de la Personalidad de los Gerentes de 12 Empresas Medianas con \"Goodwill\" en la Ciudad de San Juan de Pasto, Año 2017']\n",
      "['FACTORES SOCIOECONÓMICOS QUE INFLUYEN EN LA INTENCIÓN EMPRENDEDORA DE LOS ESTUDIANTES DE PREGRADO DEL PROGRAMA DE ADMINISTRACIÓN DE EMPRESAS DE LA UNIVERSIDAD DE NARIÑO EXTENSIÓN TÚQUERRES']\n",
      "['PROPUESTA DE EXTENSIÓN RURAL PARA AGRICULTORES MINIFUNDISTAS DE LA VEREDA MARQUEZA ALTA, MUNICIPIO DE TANGUA']\n",
      "['EVALUACIÓN DE LA REACCIÓN DE ALFA-ALQUILACIÓN DE LA L-PROLINA CON HALOGENUROS DE BENCILO COMO: BROMURO DE BENCILO, CLORURO DE 4-METOXIBENCILO Y CLORURO DE 4-METILBENCILO']\n",
      "['RECONOCIMIENTO INTERESPECIFICO DEL CANTO ENTRE Epipedobates boulengeri y E. narinensis (Anura: Dendrobatidae) DEL PACIFICO DE NARIÑO, COLOMBIA.']\n",
      "['FACTORES SOCIOECONÓMICOS QUE INFLUYEN EN LA INTENCIÓN EMPRENDEDORA DE LOS ESTUDIANTES DE PREGRADO DEL PROGRAMA DE ADMINISTRACIÓN DE EMPRESAS DE LA UNIVERSIDAD DE NARIÑO EXTENSIÓN IPIALES']\n",
      "['\"Diagnóstico del impacto de las iniciativas emprendedoras de los egresados del programa de diseño industrial de la Universidad de Nariño\"']\n",
      "['FACTORES SOCIOECONÓMICOS QUE INFLUYEN EN LA INTENCIÓN EMPRENDEDORA DE LOS ESTUDIANTES DE PREGRADO DEL PROGRAMA DE ADMINISTRACIÓN DE EMPRESAS DE LA UNIVERSIDAD DE NARIÑO SEDE PASTO PARA EL PERIODO 2018 - 2019']\n",
      "['CARACTERIZACIÓN DEL ESPACIO ECONÓMICO Y SOCIAL DE FRONTERA ENTRE COLOMBIA Y ECUADOR (EFSCE).']\n",
      "['Aplicación de funciones de Green a problemas con valores de frontera asociados con ecuaciones diferenciales ordinarias lineales con coeficientes variables no homogéneas de segundo orden']\n",
      "['Relevancia del plan o catálogo de cuentas de cara al nuevo marco técnico normativo en el proceso de enseñanza-aprendizaje de la contabilidad en los programas de contaduría pública en las universidades de la ciudad de Pasto']\n",
      "['APROPIACIÓN DEL SISTEMA DE CONTROL DE VERSIONES DE CÓDIGO \"GIT\" PARA APOYAR A LAS ACTIVIDADES ACADÉMICAS DE LAS ÁREA DE PROGRAMACIÓN DEL DEPARTAMENTO DE SISTEMAS DE LA UNIVERSIDAD DE NARIÑO']\n",
      "['ACTIVIDAD ANTIBACTERIAL DE POLIFENOLES DEL AGUACATE (Persea americana var. Hass) SOBRE Helicobacter pylori AISLADO DE PACIENTES DE UNA ZONA DE ALTO RIESGO DE CANCER GASTRICO DEL DEPARTAMENTO DE NARIÑO.']\n",
      "['CATÁLISIS HETEROGÉNEA CON Ni Y Co EN UNA CÉLULA DE FLUJO IÓNICO SELECTIVO QUE UTILIZA LAS MOLÉCULAS OXIDABLES DE LOS EXCREMENTOS HUMANOS PARA PRODUCIR HIDRÓGENO.']\n",
      "['Actividad antibacterial y citotóxica in vitro de aceites vegetales de semillas de frutas tropicales y andinas.']\n",
      "['Fractales, matemáticas y algoritmos']\n",
      "['ALMACENAMIENTO DE CARBONO EN EL SUELO Y LA BIOMASA ARBOREA EN DIFERENTES SISTEMAS DE USO DEL SUELO DE LA ZONA ALTO ANDINA, DEPARTAMENTO DE NARIÑO.']\n",
      "['Estudio de las anomalías del experimento Large Hadron Collider beauty (LHCb) y los modelos mínimos para resonancias pesadas neutras']\n",
      "['Análisis curricular de programas de grado de la Facultad de Artes de la Universidad de Nariño con fines de reforma y acreditación. Caso: Diseño Gráfico.']\n",
      "['Análisis de la equidad territorial desde el enfoque del derecho a la ciudad: Caso de estudio distribución del espacio público en la ciudad de pasto 2018']\n",
      "['Análisis curricular de programas de pregrado de la Facultad de Artes de la Universidad de Nariño con fines de reforma y acreditación. Caso: Diseño Industrial']\n",
      "['MaCUNa Manzana Centro Universidad de Nariño. Estrategia para la rehabilitación urbana']\n",
      "['ANÁLISIS DE LA DIVERSIDAD BACTERIANA DEL CÁTODO DE UNA CELDA DE COMBUSTIBLE MICROBIANA REDUCTORA DE CROMO HEXAVALENTE - Cr(VI).']\n",
      "['ANÁLISIS DE ALGORITMOS PARALELOS PARA LA TAREA DE MINERÍA DE DATOS ASOCIACIÓN']\n",
      "['Análisis de los procesos creativos de los artesanos del Carnaval de Negros y Blancos de San Juan de Pasto en el desarrollo de las carrozas ganadoras periodo 2010-2019, para la preservación y transmisión de los saberes ancestrales hacia una memoria cultural a partir del uso del diseño, la innovación y las nuevas tecnologías.']\n",
      "['SISTEMA COMPUTACIONAL DE APOYO A LA GENERACIÓN DE HORARIOS DE CLASES PARA LA FACULTAD DE INGENIERÍA DE LA UNIVERSIDAD DE NARIÑO BASADO EN ALGORITMOS GENÉTICOS']\n",
      "['ANALISIS DEL VALOR AGREGADO GENERADO POR LA UNIVERSIDAD DE NARIÑO EN RELACION A LAS PRUEBAS SABER 11 - SABER PRO 2014-2016.']\n",
      "['FP-FLOCK: UN ALGORITMO PARA EL DESCUBRIMIENTO DE PATRONES DE AGRUPACIÓN DE OBJETOS MÓVILES EN BASES DE DATOS ESPACIO TEMPORALES']\n",
      "['APLICACIÓN DE UNA METODOLOGÍA de TRABAJO INTERDISCIPLINARIA, CON ENFOQUE DE ACCIÓN SIN DAÑO EN EL RELACIONAMIENTO ACADEMIA - COMUNIDAD PARA EL DESARROLLO LOCAL, EN LAS MICROCUENCAS DE MIRAFLORES MUNICIPIO DE TANGUA Y MIJITAYO MUNICIPIO DE PASTO, DEPARTAMENTO DE NARIÑO.']\n",
      "['Juegos de Aprendizaje Digital para Dispositivos Móviles (Fase 2)']\n",
      "['Calidad de Vida Laboral (CVL) en relación a los roles de género en docentes de la Universidad de Nariño.']\n",
      "['CW-TEAMS: Software para la conformación de grupos de trabajo colaborativo basado en algoritmos genéticos']\n",
      "['Caracterización del juego autóctono de la chaza de la región suroccidental del departamento de Nariño, para su implementación lúdica y educativa en entornos digitales a través de aplicaciones en realidad aumentada o virtual.']\n",
      "['OBTENCIÓN DE LA CURVA LUMINOSA Y ANÁLISIS ESPECTROSCÓPICO DEL COMETA C/2012 S1 (ISON)']\n",
      "['Comportamiento proecológico y austero en el personal administrativo, en el marco del Sistema de Gestión Ambiental de la Universidad de Nariño']\n",
      "['SISTEMAS DE INFORMACION GEOGRAFICA (SIG) Y EVALUACION MULTICRITERO (EMC) PARA LA IDENTIFICACION DE AREAS POTENCIALES PARA DISPOSICION FINAL DE RESIDUOS SOLIDOS Y PROPUESTA DE DISEÑO DE RELLENO SANITARIO EN EL MUNICIPIO DE BUESACO - NARIÑO']\n",
      "['Comprensión de la experiencia moral y el significado de cultura de paz en un grupo de agentes sociales, no gubernamentales y gubernamentales del departamento de Nariño -Colombia.']\n",
      "['Convivencia escolar entre estudiantes de la Institución Educativa Municipal Luis Delfín Insuasty Rodríguez INEM de Pasto: Encuentros y tensiones generacionales.']\n",
      "['Rápido Prototipado']\n",
      "['CRITERIOS DE EVALUACIÓN EMPLEADOS POR LOS DOCENTES EN LA EVALUACIÓN DE LA PRODUCCIÓN ESCRITA DE LOS ESTUDIANTES DE LA LICENCIATURA EN LENGUA CASTELLANA Y LITERATURA']\n",
      "['ESTRATEGIAS PEDAGOGICAS PARA CONSTRUIR LA PAZ EN LA REGION: CONTRIBUCIONES DE LA FACULTAD DE EDUCACIÓN, UNIVERSIDAD DE NARIÑO']\n",
      "['Desarrollo de microencapsulados a partir del aprovechamiento integral de limón Tahití (Citrus latifolia) en el departamento de Nariño']\n",
      "['DESARROLLO DE NANOCATALIZADORES METÁLICOS CON Pt, Ni Y Co PARA LA ELECTRO-OXIDACIÓN DE ACETALDEHIDO']\n",
      "['DETECCIÓN SEROLÓGICA Y MOLECULAR DE VIRUS ASOCIADOS A ACHIRA (Canna edulis Ker.) EN NARIÑO']\n",
      "['Justicia Social y Educación Matemática: Una mirada a la formación de maestros de matemáticas']\n",
      "['Didáctica universitaria, retos desde una realidad local.']\n",
      "['Estudio Teórico y Computacional de la Ecuación Diferencial Parcial Elíptica de Poisson']\n",
      "['Dinámica de las exportaciones del sector agrícola y su incidencia en el desarrollo rural sostenible en el departamento de Nariño en el periodo 2010-2015']\n",
      "['PATRONES BIOGEOGRÁFICOS DE DIVERSIDAD DE MURCIÉLAGOS EN COLOMBIA Y ÁREAS PRIORITARIAS PARA SU CONSERVACIÓN']\n",
      "['Diseño de sistemas de comunicaciones de onda milimétrica']\n",
      "['Principios activos de polifenoles de la semilla de aguacate (Persea americana var. Hass) con actividad anti-Helicobacter pylori aislado de una zona de Nariño con alto riesgo de cáncer gástrico']\n",
      "['DISEÑO Y ESTABLECIMIENTO DE UNA BIBLIOTECA BIOACÚSTICA DE REFERENCIA DE LAS AVES DEL SUROCCIDENTE COLOMBIANO COMO HERRAMIENTA DE APOYO A PROCESOS INVESTIGATIVOS DE LA UNIVERSIDAD DE NARIÑO']\n",
      "['Estudio de la modificación de nanopartículas de cobre y alúmina (Al2O3) con aminoácidos para mejorar la estabilidad termo-oxidativa del aceite de Ajonjolí (Sesamum Indicum L.).']\n",
      "['EFECTIVIDAD DE ESTRATEGIAS EDUCATIVAS, PARA MEJORAR CONOCIMIENTOS, ACTITUDES Y PRÁCTICAS SOBRE HIPERTENSIÓN ARTERIAL, EN PERSONAS AFILIADAS A LA EPS EMSSANAR, DENTRO DEL MARCO DEL MODELO DE ATENCIÓN INTEGRAL EN SALUD, EN EL MUNICIPIO DE IMUES - NARIÑO DURANTE EL PERIODO 2018 - 2019.']\n",
      "['La propiedad de Midy: una herramienta para distinguir números primos de compuestos']\n",
      "['EFECTO DEL CAMBIO DE USO DEL SUELO SOBRE LA CANTIDAD SUPERFICIAL DEL RECURSO HIDRICO EN LA MICROCUENCA MIJITAYO, MUNICIPIO DE PASTO, DEPARTAMENTO DE NARIÑO']\n",
      "['ESTUDIO DE LA PRODUCTIVIDAD EN EL CULTIVO DE CAMARONES EN TANQUES DE GEOMEBRANAS EN EL MUNICIPIO DE TUMACO, MEDIANTE LA IMPLEMENTACIÓN DE UN SISTEMA IOT DE MONITOREO Y CONTROL DE LAS VARIABLES OXÍGENO DISUELTO, TEMPERATURA Y AMONIO.']\n",
      "['Efecto del Sistema Electrónico para el Suministro de Contingencias en el Comportamiento en el Aula de Clases (SESCCA)']\n",
      "['APPAGA - APLICACIÓN MÓVIL PARA LA SENSIBILIZACIÓN ECOLÓGICA EN EL APROVECHAMIENTO RACIONAL DE LOS RECURSOS ENERGÉTICOS DIRIGIDA A LA COMUNIDAD EDUCATIVA DE LA UNIVERSIDAD DE NARIÑO. Sede Torobajo']\n",
      "['El papel de la mujer en la Ciencia, la tecnología y la innovación en el departamento de Nariño, 2018']\n",
      "['Inclusión de la Universidad de Nariño a la colaboración LAGO (Large Aperture Gamma Ray Burst Observatory) a través del Diseño, Construcción, e Instalación de un Tanque - Detector Cherenkov.']\n",
      "['Elementos teóricos y metodológicos para la construcción de una estrategia comunitaria de prevención de consumo de SPA en la Universidad de Nariño']\n",
      "['BETALAÍNAS DEL FRUTO DE PITAYA AMARILLA (Selenicereus megalanthus): IDENTIFICACIÓN, ESTABILIDAD Y ACTIVIDAD ANTIOXIDANTE IN VITRO.']\n",
      "['ESPECIES FORESTALES CON POTENCIAL AGROFORESTAL EN LA COSTA PACIFICA, MUNICIPIO DE TUMACO, DEPARTAMENTO DE NARIÑO.']\n",
      "['Propiedades psicométricas de una prueba para medir el pensamiento crítico a estudiantes de pregrado de Colombia, México y Chile.']\n",
      "['Estimación del riesgo por flujos de lodos de la quebrada Mijitayo de la ciudad de Pasto en el sector Tamasagra. Parte I']\n",
      "['Índice de Ciudad Creativa para la ciudad de Pasto']\n",
      "['ESTRATEGIAS PEDAGÓGICAS POR COMPETENCIAS EN LAS LICENCIATURAS EN BÁSICA CON ÉNFASIS EN: CIENCIAS SOCIALES- LEBCIS, CIENCIAS NATURALES Y EDUCACIÓN AMBIENTAL- LEBCINEA Y DISEÑO GRÁFICO DE LA UNIVERSIDAD DE NARIÑO: 2007-2014.']\n",
      "['DIAGNÓSTICO DEL SISTEMA ACTUAL DE MANEJO DE RESIDUOS EN SAN ANDRÉS DE TUMACO DE ACUERDO CON LA METODOLOGÍA DE LA GUÍA DE PLANEACIÓN ESTRATÉGICA PROPUESTA POR EL MINISTERIO DE VIVIENDA, AGUA Y SANEAMIENTO BÁSICO']\n",
      "['ESTUDIO DE LA CINÉTICA DE PÉRDIDA DE HUMEDAD Y ABSORCIÓN DE ACEITE DURANTE LA FRITURA DE ARVEJA (PISUM SATIVUM L), DE DOS VARIEDADES CULTIVADAS EN EL DEPARTAMENTO DE NARIÑO.']\n",
      "['El efecto del consumo de almidón en el crecimiento poblacional de bacterias termófilas y aminolíticas aisladas del volcán Chiles analizado desde un problema de control óptimo.']\n",
      "['Estudio de la variabilidad genética del camarón blanco Litopenaeus vannamei de la región del Pacífico Nariñense mediante análisis de secuencias de ADN por métodos bioinformáticos.']\n",
      "['ESTUDIO COMPUTACIONAL DEL EQUILIBRIO TAUTOMÉRICO EN 1,2,4-TRIAZOLES-3-AMINO-5-SUSTITUIDOS']\n",
      "['Estudio fenológico de la flora silvestre nativa con potencial para procesos de restauración ecológica en bosque altoandino del municipio de Pasto, departamento de Nariño']\n",
      "['Estudio químico y capacidad antioxidante de pigmentos tipo antocianinas presentes en dos especies de flores silvestres (Tibouchina urvilleana y Tibouchina mollis) del departamento de Nariño']\n",
      "['Etnoeducación, discursos y alteridad: La construcción del sujeto étnico negro desde un enfoque de la gubernamentalidad en Colombia, 1991-1998.']\n",
      "['Un modelo matemático sobre la dinámica del micobacterium tuberculosis']\n",
      "['EVALUACIÓN DE LA BIODIVERSIDAD EN SISTEMAS AGROFORESTALES DE LA MICROCUENCA MIJITAYO, MUNICIPIO DE PASTO, DEPARTAMENTO DE NARIÑO.']\n",
      "['OPTIMIZACIÓN DE LAS CONDICIONES PARA LA GENERACIÓN DE HIDRÓGENO A PARTIR DE LA ELECTRÓLISIS DE LA UREA PRESENTE EN LA ORINA USANDO UNA CELDA ELECTROQUIMICA DE CATODO Y ANODO SEPARADOS']\n",
      "['EVALUACIÓN DE LAS CARACTERÍSTICAS FISICOQUIMICAS, FISIOLOGICAS Y BROMATOLOGICAS DEL FRUTO DEL OBO (Spondias sp) PARA SU PROCESAMIENTO AGROINDUSTRIAL']\n",
      "['Procesos de acompañamiento en el aula realizado por los docentes tutores en el marco del Programa Todos a Aprender 2.0']\n",
      "['EVALUACIÓN DE TRES TIPOS FOTOBIORREACTORES PARA EL CULTIVO DE MICROALGAS EN EL LABORATORIO DE PRODUCTIVIDAD PRIMARIA DEL PROGRAMA INGENIERÍA EN PRODUCCIÓN ACUÍCOLA DE LA UNIVERSIDAD DE NARIÑO']\n",
      "['ERRORES CONCEPTUALES EN LOS DOCENTES DE CIENCIAS NATURALES Y EDUCACIÓN AMBIENTAL DE EDUCACIÓN BÁSICA PRIMARIA DE LAS NORMALES SUPERIORES DE NARIÑO Y PUTUMAYO']\n",
      "['EVALUACIÓN DE VARIABLES AGRONÓMICAS MEDIANTE VEHÍCULOS AÉREOS NO TRIPULADOS EN DOS ESPECIES DE IMPORTANCIA AGRONÓMICA EN EL MUNICIPIO DE PASTO, DEPARTAMENTO DE NARIÑO.']\n",
      "['Articulación de procesos de educación ambiental desde el enfoque de servicios ecosistémicos en el sendero ecológico del bosque altoandino de Botana, municipio de Pasto, Nariño']\n",
      "['EVALUACIÓN DEL EFECTO DE UN PROGRAMA DE PREVENCIÓN DE CONDUCTAS SUICIDAS NO LETALES EN ADOLESCENTES ESCOLARIZADOS DE IEM CIUDAD DE PASTO']\n",
      "['Cuantificación de Carbono en la Biomasa Aérea de Sistemas Forestales, en el Centro Ambiental Chimayoy, Pasto']\n",
      "['Evaluación del sistema silvoagrícola laurel de cera (Morella pubescens H.B.K) en asocio con yacón Smallanthus sonchifolius, en la Granja Experimental Botana, municipio de Pasto.']\n",
      "['EVALUACIÓN DEL EFECTO DE INÓCULOS DE MICRORGANISMO SILVESTRES EN LA CALIDAD DEL CACAO FERMENTADO (Theobroma cacao L.) EN FINCAS DEL MUNICIPIO DE SOTO MAYOR, NARIÑO.']\n",
      "['Exploración de nuevas alternativas de intervención de la madera con materiales complementarios en el taller curricular de Materiales I - Maderas del programa de diseño industrial de la Universidad de Nariño']\n",
      "['Helicobacter pylori genome project']\n",
      "['Factores que inciden en el nivel de aprendizaje del inglés de los bachilleres de la ciudad de Pasto.']\n",
      "['Negocios inmobiliarios en la morfología urbana para ciudad intermedia: Caso de estudio ciudad de pasto 2019']\n",
      "['Formación \"in-situ\" de nanoclusters metálicos intercalados en arcillas naturales y sintéticas']\n",
      "['Estudio de los microorganismos asociados al proceso de fermentación de cacao (Theobroma cacao L.) en fincas del departamento de Nariño']\n",
      "['FRONTERAS DEL CONOCIMIENTO DE INVESTIGACIÓN EN EDUCACIÓN EN CIENCIAS Y TECNOLOGÍA. UNA MIRADA DESDE COLOMBIA. (Estado del Arte)']\n",
      "['Evaluación de la presencia de bacterias resistentes a un sistema de tratamiento continuo de lixiviado del tipo adsorción/regeneración catalítica con potencial aplicación en tecnología bioelectroquímica.']\n",
      "['Habilidades de pensamiento en estudiantes de las Escuelas Normales Superiores de los Departamentos de Nariño y Putumayo.']\n",
      "['MODELO DE RESPONSABILIDAD SOCIAL EMPRESARIAL COMO UNA ESTRATEGIA DE COMPETITIVIDAD PARA EL SECTOR INDUSTRIAL MANUFACTURERO DEL MUNICIPIO DE PASTO.']\n",
      "['HETEROPTERA SEMIACUATICOS DEL NOROESTE DE LA AMAZONIA (PUTUMAYO, COLOMBIA)']\n",
      "['ESTUDIO COMPARATIVO DE METODOLOGÍAS DE DESARROLLO DE SOFTWARE']\n",
      "['Historia de la actividad del volcán Galeras 2004-2006 y respuestas de los líderes comunitarios habitantes de la zona de amenaza volcánica alta \"Zava\" del municipio de Pasto-Nariño.']\n",
      "['EVALUACIÓN DE GASES DE EFECTO INVERNADERO EN SISTEMAS DE PRODUCCIÓN DE FRUTALES ANDINOS CONVENCIONALES PARA SISTEMAS DE PRODUCCIÓN MÁS AMIGABLES CON EL MEDIO AMBIENTE']\n",
      "['IDENTIFICACIÓN DE LA CADENA PRODUCTIVA ARTESANAL DE NARIÑO (CAPRAN).']\n",
      "['Generalización del método de Newton y sus aplicaciones']\n",
      "['IMPLICACIONES DEL DESARROLLO SOCIO AFECTIVO DE LOS MAESTROS EN FORMACIÓN INICIAL DEL DEPARTAMENTO DE CIENCIAS SOCIALES UNIVERSIDAD DE NARIÑO, EN SUS PRÁCTICAS PEDAGÓGICAS 2014-2015']\n",
      "['CONTENIDO DE BETALAÍNAS Y ACTIVIDAD ANTIOXIDANTE IN-VITRO DEL ULLUCO (Ullucus tuberosus)']\n",
      "['INCIDENCIA DEL ÁREA DE COBERTURA VEGETAL SOBRE LA CALIDAD AMBIENTAL DEL HABITANTE URBANO EN LA CIUDAD DE PASTO.']\n",
      "['Conjuntos producto pequeños en grupos no abelianos finitos']\n",
      "['INTERDISCIPLINA Y DISEÑO La investigación interdisciplinaria como proceso de formación de competencias disciplinarias para el diseñador industrial.']\n",
      "['Sistema electrónico para control de frecuencia de goteo del simulador de lluvias']\n",
      "['Inventario y Catalogación del patrimonio pictográfico de la Universidad de Nariño.']\n",
      "['UN APORTE AL ESTUDIO DE LA INTERACCIÓN HUMANO-COMPUTADOR (HCI) A TRAVEZ DE LA IMPLEMENTACIÓN DE UN ESCRITORIO ESTEREOSCÓPICO BAJO SOFTWARE LIBRE']\n",
      "['La Acción Comunicativa de los Maestros del Nivel de Educación Básica Primaria: Un referente para la Formación Inicial de los maestros']\n",
      "['Plan de Mejoramiento y Actualización Pedagógica de los Laboratorios de Física II, Física Fundamental II y Física III del Programa de Física de la Universidad de Nariño']\n",
      "['LA CREACIÓN DIDÁCTICA Y LOS GESTOS DEL ARTE Emergencias epistemológicas, pedagógicas y metodológicas en los procesos de interacción entre la Creación Didáctica y la Creación Artística.']\n",
      "['EFICIENCIA DE LA HIBRIDACION INTERESPECÍFICA ENTRE LAS ESPECIES Solanum quitoense Y Solanum hirtum']\n",
      "['La Gestión Pedagógica de la Enseñanza Problémica en las Ciencias Sociales, Universidad de Nariño']\n",
      "['Subálgebras de Mishchenko-Fomenko en U(gl_n) y secuencias regulares']\n",
      "['LA MEMORIA COLECTIVA SOBRE EL CAMBIO EN LA FIESTA DE LAS GUAGUAS DE PAN']\n",
      "['APLICACIÓN DE LA TÉCNICA \"DEEP LEARNING\" EN LA CLASIFICACIÓN DE SISMOS DE LOS TIPOS LP Y VT DEL VOLCÁN GALERAS']\n",
      "['NIVEL DE INGLÉS DE ESTUDIANTES Y DOCENTES EN LOS PROGRAMAS Y FACULTADES DE LA UNIVERSIDAD DE NARIÑO, SEDE PASTO, A TRAVÉS DE UNA PRUEBA INTERNACIONAL ESTANDARIZADA PARA DEFINIR UNA POLITICA DE LA LENGUA EXTRANJERA, INGLÉS Y UN PLAN DE MEJORAMIENTO']\n",
      "['LOS GERROMORPHA DEL PIEDEMONTE SUR DE LA AMAZONIA (PUTUMAYO, COLOMBIA)']\n",
      "['Regeneración \"in vitro\" de plantas de tomate de arbol (Solanum betaceum Cav.)']\n",
      "['Identificación de cadaverina y putrescina en la quebrada San Miguel y el suelo del cementerio Jardines Cristo Rey']\n",
      "['REPRESENTACIONES DE LO INDIGENA EN LOS MANUALES ESCOLARES DE HISTORIA DE COLOMBIA (1948-1990)']\n",
      "['LA VACUNACIÓN COMO ESTRATEGIA PARA CONTROLAR LA INCIDENCIA DE LA INFLUENZA A EN EL MUNICIPIO DE SAN JUAN DE PASTO.']\n",
      "['Resolución de problemas: un medio para la formación matemática']\n",
      "['Electrodinámica Escalar de Primer Orden en las Coordenadas de Plano Nulo']\n",
      "['Revisión del estado actual del curso Termodinámica y su disponibilidad de equipos de laboratorio.']\n",
      "['EVALUACIÓN DE DERIVADOS DE LA L-PROLINA COMO POTENCIALES ORGANOCATALIZADORES EN LA ALFA-ALQUILACIÓN DE ALDEHÍDOS MEDIANTE CATÁLISIS ASIMÉTRICA']\n",
      "['SEMISÍNTESIS DE BETAXANTINAS, ESTUDIO DE SU ESTABILIDAD Y DE SU ACTIVIDAD ANTIOXIDANTE IN VITRO.']\n",
      "['Las Musas En El Asfalto: Arte Político Nariñense Contemporáneo']\n",
      "['Variabilidad genética y su relación con la especificidad de hospedero en aislamientos de Phytophthora obtenidos de diferentes especies de Solanáceas cultivadas en el sur de Colombia.']\n",
      "['Caracterización del potencial comercial de las propuestas artísticas generadas en el Carnaval de Negros y Blancos de Pasto y análisis de los modelos legales para la protección de la propiedad intelectual asociada. Año 2018']\n",
      "['¿Qué conocimiento tienen los educadores matemáticos en formación de la Universidad de Nariño para promover el estudio de la conversión a través de la enseñanza del infinito mediado por el uso del CABRI? Un estudio de diseños de enseñanza.']\n",
      "['Learners satisfaction and Language Teacher Education programs at Universidad de Nariño']\n",
      "['APROXIMACION AL RIESGO DE INUNDACION Y ENTERRAMIENTO POR LAHARES PROVENIENTES DE LA QUEBRADA MIJITAYO EN EL SECTOR DE TAMASAGRA Y ZONAS ALEDAÑAS.']\n",
      "['Efecto de la concentración media de partículas en la sobre elevación del flujo en canales curvos usando modelación hidrodinámica.']\n",
      "['Ciudarnos: Proyecto de Investigación - creación sobre la estética cotidiana en los sujetos y los espacios de San Juan de Pasto.']\n",
      "['Tramas y urdimbres de pensamiento, narrativas en la Guanga. Resguardo de Pastas, proyecto de investigación creación']\n",
      "['COMPARACIÓN DEL TAMAÑO MÍNIMO DE LA MADUREZ SEXUAL Y DE LA POSTURA DE Pristimantis myersi y Pristimantis unistrigatus (ANURA, CRAUGASTORIDAE) DISTRIBUIDAS EN LOS DEPARTAMENTOS DE NARIÑO Y CAUCA.']\n",
      "['SOFTWARE DE SOPORTE AL PROCESO DE CONSULTA EXTERNA , UTILIZANDO LA METODOLOGÍA SCRUM, EN LA CLÍNICA VETERINARIA CARLOS ALBERTO MARTÍNEZ HOYOS DE LA UNIVERSIDAD DE NARIÑO.']\n",
      "['COMUNICACIÓN EN LA MOVILIDAD URBANA: nuevas perspectivas desde el diseño industrial (modalidad, creacion artistica y cultural)']\n",
      "['Zonificación de la fertilidad de suelos en la Granja Experimental Botana']\n",
      "['Conocimiento local sobre especias arbóreas con potencial agroforestal en el corregimiento de Morasurco Pasto Nariño']\n",
      "['DETERMINACIÓN DE PRINCIPIOS ACTIVOS MEDICINALES DEL HONGO Ganoderma lucidum CULTIVADO SOBRE RESIDUOS SÓLIDOS Y SU USO EN LA PRODUCCIÓN DE UN ALIMENTO FUNCIONAL']\n",
      "['DEFINICIÓN DE UNA PRACTICA DE DESARROLLO DE SOFTWARE PARA EQUIPOS DE TRABAJO SIN RESTRICCIONES DE TIEMPO Y ESPACIO UTILIZANDO LOS PRINCIPIOS DE SEMAT']\n",
      "['Supresión de divergencias a uno y dos lazos en el modelo DFR.']\n",
      "['DETERMINACIÓN DE ACETOGENINAS PRESENTES EN SEMILLAS DE Annona muricata (GUANÁBANA) MEDIANTE CROMATOGRAFÍA LIQUIDA DE ALTA EFICIENCIA']\n",
      "['Empoderamiento comunitario de los factores psicosociales asociados al proceso de participación estudiantil en la universidad de Nariño sede Pasto.']\n",
      "['Diagnóstico Molecular de Virus del Cultivo de Papa (Solanum tuberosum) en los Municipios de la Ex-provincia de Obando.']\n",
      "['EFICACIA DE UNA INTERVENCION EDUCATIVA PARA EL DIAGNÓSTICO DE LAS ESPONDILOARTROPATÍAS EN MEDICOS GENERALES DEL MUNICIPIO DE PASTO 2013-2014']\n",
      "['EVALUACIÓN COMUNITARIA DE SERVICIOS ECOSISTÉMICOS DEL HUMEDAL NATURAL DEL CENTRO AMBIENTAL CHIMAYOY, PASTO - NARIÑO']\n",
      "['Caracterización nutricional, antinutricional y fenológica de especies forrajeras promisorias para alimentación animal en el Municipio de Pasto']\n",
      "['EVALUACIÓN DEL EFECTO DE SIETE ABONOS VERDES SOBRE EL RENDIMIENTO DE TRES CULTIVOS TRANSITORIOS EN DOS ANDISOLES DEL MUNICIPIO DE PASTO DEPARTAMENTO DE NARIÑO.']\n",
      "['LA ECOPEDAGOGIA EN LA CONSTRUCCIÓN DE ACCIONES EDUCATIVAS PROAMBIENTALES']\n",
      "['investigación participativa para el fortalecimiento del proyecto ambiental escolar (PRAE) en el corregimiento de Morasurco del municipío de Pasto, Nariño']\n",
      "['Visibilidad y reconocimiento del Departamento de Diseño de la Universidad de Nariño a partir del diseño colaborativo.']\n",
      "['MAÍZ, PRÁCTICAS DE LA TIERRA GRÁFICADAS CON GRANITOS DE ORO']\n",
      "['Esquemas de fertilización química y orgánica para el sistema de producción de cacao (Theobroma cacao L) y su efecto en el rendimiento y calidad del grano en la principal zona productora de Tumaco, Nariño.']\n",
      "['PROMOCIÓN DE NUEVO CONOCIMIENTO A TRAVÉS DE LA CARACTERIZACIÓN DE FIBRAS VEGETALES NARIÑENSES Y OTROS MATERIALES QUE SE PUEDEN APLICAR EN EL DISEÑO INDUSTRIAL']\n",
      "['VARIACIONES EN EL CANTO DEL CACIQUE MONTANO SUREÑO (Cacicus chrysonotus) ASOCIADAS A SU COMPORTAMIENTO SOCIAL']\n",
      "['VALORACIÓN DEL EXTRACTO DE LOS FRUTOS DE Leandra subseriata (Naudin) Cong COMO AGENTE ANTIOXIDANTE Y DE REGULACIÓN DE LIBERACIÓN GRÁNULOS DE GELATINASA EN NEUTRÓFILOS HUMANOS']\n",
      "['EVALUACIÓN DEL POTENCIAL TURISTÍCO RURAL EN LA RUTA HISTÓRICA DE TACINES, MUNICIPIOS PASTO Y BUESACO, DEPARTAMENTO DE NARIÑO']\n",
      "['EVALUACIÓN In vivo DE LA ACTIVIDAD PROBIÓTICA DE Lactobacillus plantarum MICROENCAPSULADO SOBRE MORFOLOGÍA INTESTINAL, PARÁMETROS PRODUCTIVOS, INMUNOLÓGICOS, Y BIOQUÍMICOS EN POLLO DE ENGORDE.']\n",
      "['PRINCIPIOS DEL DERECHO LABORAL Y SEGURIDAD SOCIAL CON PERSPECTIVA DE GÉNERO']\n",
      "['EVALUACIÓN DEL EFECTO DEL ACEITE VEGETAL EXTRAÍDO DE SEMILLAS DE Annona muricata SOBRE LA LIBERACIÓN DE GRÁNULOS DE METALOPROTEINASA DE MATRIZ 9 (MMP-9) EN NEUTRÓFILOS HUMANOS']\n",
      "['CUANTIFICACION DEL ALMACENAMIENTO DE CARBONO DE LEÑOSAS PERENNES EN EL MUNICIPIO DE PASTO DEPARTAMENTO DE NARIÑO']\n",
      "['EXTRACCIÓN DE COLORANTES A PARTIR DE PULPA DE CAFÉ (Coffea arabica sp.) MEDIANTE CO2 SUPERCRÍTICO Y EXTRACCIÓN SOXHLET']\n",
      "['ANÁLISIS DE LE EMISIÓN DE CO2 Y CH4, CAUSADA POR EL CAMBIO DE USO DEL SUELO FORESTAL A AGRÍCOLA EN LA GRANJA EXPERIMENTAL BOTANA DE LA UNIVERSIDAD DE NARIÑO']\n",
      "['EXTRACCIÓN Y CARACTERIZACIÓN QUÍMICA DE PRINCIPIOS ACTIVOS DE ESTRUCTURA FENÓLICA CON PROPIEDADES ANTIOXIDANTES Y ANTIFÚNGICAS (HONGOS DERMATOFITOS), A PARTIR DEL FRUTO DE SANCIA Coriaría ruscifolia L.']\n",
      "['CARACTERIZACIÓN MOLECULAR DE AISLAMIENTOS DE Fusarium CAUSANTES DE LA PODREDUMBRE BASAL DE CEBOLLA DE RAMA']\n",
      "['Análisis de la percepción de jóvenes rurales frente al ecoturismo en el Centro Ambiental Chimayoy, municipio de Pasto, Nariño']\n",
      "['OBTENCIÓN DE ÁCIDO L (+)- LÁCTICO A PARTIR DE HIDROLIZADOS DE RESIDUOS DE PAPA UTILIZANDO Lactobacillus casei COMO ORGANISMO FERMENTADOR.']\n",
      "['Historia de las Matemáticas en Colombia: una innovación en el currículo del programa de Licenciatura en Matemáticas de la Universidad de Nariño']\n",
      "['El papel de la mujer en la composición, la interpretación y la educación musical en la zona andina nariñense durante la segunda mitad del siglo XX. (Segunda fase).']\n",
      "['Innovación social para el empoderamiento de las madres jóvenes y estudiantes de la Institución Educativa Municipal de Obonuco a partir del diseño colaborativo como mecanismo para mejorar las practicas sociales en torno a la igualdad y equidad de genero.']\n",
      "['APORTE DE LA UNIVERSIDAD DE NARIÑO EXTENSIÓN TUMACO A LAS CONDICIONES SOCIALES Y ECONÓMICAS DE SUS EGRESADOS PERIODO 2002 - 2013']\n",
      "['La Disolución y Reestructuración de los Resguardos Quillasingas del Valle de Atriz.']\n",
      "['PRÁCTICAS SOCIALES Y EDUCATIVAS EN LAS FACULTADES DE EDUCACIÓN, CIENCIAS HUMANAS Y ARTES DE LA UNIVERSIDAD DE NARIÑO, EN EL MARCO DE LA PEDAGOGÍA SOCIAL: 1992- 2015.']\n",
      "['La poética del lugar a través de la creación audiovisual. -Fase experimental de Video Mapping sobre el pasaje Pueyo de Val en la Plaza de Nariño en Pasto-']\n",
      "['Análisis de los chillidos de ecolocalización de Murciélagos Pertenecientes a las Subfamilias Phyllostominae y Myotinae en la Reserva Natural Rio Ñambi']\n",
      "['MODELADO MATEMÁTICO SOBRE LOS PRINCIPALES MECANISMOS DE ADQUISICIÓN DE RESISTENCIA BACTERIANA A ANTIBIÓTICOS CONSIDERANDO ESTRATEGIAS DE CONTROL QUE INCIDEN EN LA DISMINUCIÓN DE SU POBLACIÓN.']\n",
      "['LA RECUPERACIÓN DE TIERRAS A PARTIR DE LA ORGANIZACIÓN COMUNITARIA EN EL CABILDO INDÍGENA DE GUACHUCAL EN EL DEPARTAMENTO DE NARIÑO 1980 - 1992']\n",
      "['Miradas entre sí: la percepción social entre estudiantes y docentes de Ciencias Sociales en el Liceo Integrado de la Universidad de Nariño']\n",
      "['Autogestión Institucional frente al Riesgo volcánico del Galeras en la Institución Educativa San Bartolomé del Municipio de la Florida (Nariño- Colombia)']\n"
     ]
    }
   ],
   "source": [
    "final_result = [ontologia.search(id_proyecto_investigacion=id_pi)[0] for id_pi in final_search]\n",
    "for pi in final_result:\n",
    "    print(pi.get_titulo_proyecto_investigacion())\n"
   ]
  },
  {
   "cell_type": "code",
   "execution_count": 113,
   "metadata": {},
   "outputs": [
    {
     "data": {
      "text/plain": [
       "owlready2.namespace.Ontology"
      ]
     },
     "execution_count": 113,
     "metadata": {},
     "output_type": "execute_result"
    }
   ],
   "source": [
    "type(ontologia)"
   ]
  }
 ],
 "metadata": {
  "kernelspec": {
   "display_name": "Python 3",
   "language": "python",
   "name": "python3"
  },
  "language_info": {
   "codemirror_mode": {
    "name": "ipython",
    "version": 3
   },
   "file_extension": ".py",
   "mimetype": "text/x-python",
   "name": "python",
   "nbconvert_exporter": "python",
   "pygments_lexer": "ipython3",
   "version": "3.7.7"
  }
 },
 "nbformat": 4,
 "nbformat_minor": 4
}
