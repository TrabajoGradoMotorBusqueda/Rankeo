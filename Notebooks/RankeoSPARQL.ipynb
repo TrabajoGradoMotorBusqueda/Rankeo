{
 "cells": [
  {
   "cell_type": "code",
   "execution_count": 5,
   "metadata": {},
   "outputs": [],
   "source": [
    "from SPARQLWrapper import SPARQLWrapper, JSON\n",
    "sparql = SPARQLWrapper(\"http://localhost:3030/InvestigacionesUdenar/sparql\")"
   ]
  },
  {
   "cell_type": "markdown",
   "metadata": {},
   "source": [
    "### Cargamos Vocabulario y Adicionales"
   ]
  },
  {
   "cell_type": "code",
   "execution_count": 3,
   "metadata": {},
   "outputs": [],
   "source": [
    "import difflib\n",
    "\n",
    "#Lectura de lemas \n",
    "import json\n",
    "with open('./Vocabulario/diccionario-lemas.json', 'r') as f:\n",
    "    diccionario_lemas = json.loads(f.read())\n",
    "\n",
    "lemas = list(diccionario_lemas.keys())"
   ]
  },
  {
   "cell_type": "markdown",
   "metadata": {},
   "source": [
    "### Cargamos Modelo W2V"
   ]
  },
  {
   "cell_type": "code",
   "execution_count": 4,
   "metadata": {},
   "outputs": [],
   "source": [
    "from gensim.test.utils import datapath\n",
    "from gensim import utils\n",
    "from gensim.models import Word2Vec\n",
    "import multiprocessing\n",
    "from time import time\n",
    "\n",
    "modelo = Word2Vec.load(\"./Modelos/modelo10FINAL.model\")\n"
   ]
  },
  {
   "cell_type": "markdown",
   "metadata": {},
   "source": [
    "### Lectura de Palabras"
   ]
  },
  {
   "cell_type": "code",
   "execution_count": 84,
   "metadata": {},
   "outputs": [
    {
     "data": {
      "text/plain": [
       "['medicina',\n",
       " 'natural',\n",
       " 'netamente',\n",
       " 'tautomerismo',\n",
       " 'giepi',\n",
       " 'cultivarse',\n",
       " 'prototropico',\n",
       " 'ingerir',\n",
       " 'suramericanos',\n",
       " 'anular',\n",
       " 'setas',\n",
       " 'pulso',\n",
       " 'nulas',\n",
       " 'mutacion',\n",
       " 'ostreatus',\n",
       " 'pleurotus',\n",
       " 'marihuana',\n",
       " 'pulverizado',\n",
       " 'combatir',\n",
       " 'fig',\n",
       " 'carminico',\n",
       " 'aprovechable',\n",
       " 'cultivares']"
      ]
     },
     "execution_count": 84,
     "metadata": {},
     "output_type": "execute_result"
    }
   ],
   "source": [
    "words = ['medicina', 'natural']\n",
    "#Modelo W2v\n",
    "similar_words = modelo.wv.most_similar(words, topn=20)\n",
    "\n",
    "words.extend([word[0] for word in similar_words])\n",
    "\n",
    "#Palabras en plural o muy similares\n",
    "more_words=[]\n",
    "for word in words:\n",
    "    additional = difflib.get_close_matches(word, diccionario_lemas.keys(), n=5, cutoff=0.90)\n",
    "    more_words.extend(additional[1:])\n",
    "    \n",
    "#Añadir palabras finales\n",
    "words.extend(more_words)\n",
    "words"
   ]
  },
  {
   "cell_type": "markdown",
   "metadata": {},
   "source": [
    "### Cargamos palabras a SPARQL "
   ]
  },
  {
   "cell_type": "code",
   "execution_count": 85,
   "metadata": {},
   "outputs": [],
   "source": [
    "query_prefix = \"\"\"\n",
    "PREFIX po: <http://www.semanticweb.org/OntologiaInvestigacionPrueba#>\n",
    "select ?id_pi?Titulo?proyecto_investigacion (count(?id_pi)as ?c)\n",
    "where{\n",
    "        ?palabras po:descripcion_palabra ?descripcion.\n",
    "        ?palabras ^po:pi_tiene_palabra ?proyecto_investigacion.\n",
    "        ?proyecto_investigacion po:titulo_proyecto_investigacion ?Titulo.\n",
    "        ?proyecto_investigacion po:id_proyecto_investigacion ?id_pi.\n",
    "        FILTER ( \"\"\"\n",
    "\n",
    "query_words=\"\"\"\"\"\"\n",
    "query_words_start = \"\"\"REGEX(str(?descripcion), '\\\\\\\\b\"\"\"\n",
    "query_words_final = \"\"\"\\\\\\\\b','i') || \"\"\"\n",
    "query_words_final_string = \"\"\"\\\\\\\\b','i')\"\"\"\n",
    "\n",
    "for i, word in enumerate(words):\n",
    "    if i < len(words)-1:\n",
    "        query_words += query_words_start+word+query_words_final\n",
    "    else:\n",
    "        query_words += query_words_start+word+query_words_final_string\n",
    "        \n",
    "\n",
    "query_close= \"\"\")\n",
    "    }\n",
    "group by ?id_pi?Titulo?proyecto_investigacion\n",
    "order by DESC(?c)\n",
    "\"\"\"\n",
    "\n",
    "query = query_prefix+query_words+query_close\n",
    "#print(query)"
   ]
  },
  {
   "cell_type": "markdown",
   "metadata": {},
   "source": [
    "### Realizamos la consulta"
   ]
  },
  {
   "cell_type": "code",
   "execution_count": 86,
   "metadata": {},
   "outputs": [],
   "source": [
    "sparql.setQuery(query)\n",
    "\n",
    "#order by DESC(?c)\n",
    "\n",
    "sparql.setReturnFormat(JSON)\n",
    "\n",
    "results = sparql.query().convert()\n",
    "results = results['results']['bindings']"
   ]
  },
  {
   "cell_type": "markdown",
   "metadata": {},
   "source": [
    "### Mostramos Resultados"
   ]
  },
  {
   "cell_type": "code",
   "execution_count": 87,
   "metadata": {},
   "outputs": [
    {
     "name": "stdout",
     "output_type": "stream",
     "text": [
      "(1) -> DETERMINACIÓN DE PRINCIPIOS ACTIVOS MEDICINALES DEL HONGO Ganoderma lucidum CULTIVADO SOBRE RESIDUOS SÓLIDOS Y SU USO EN LA PRODUCCIÓN DE UN ALIMENTO FUNCIONAL\n",
      "(2) -> EFECTO DEL SECADO POR VENTANA DE REFRACTANCIA SOBRE LA CALIDAD Y COMPUESTOS VOLÁTILES DE Pleurotus ostreatus\n",
      "(3) -> ESTUDIO COMPUTACIONAL DEL EQUILIBRIO TAUTOMÉRICO EN 1,2,4-TRIAZOLES-3-AMINO-5-SUSTITUIDOS\n",
      "(4) -> AGUA EXTRAVASCULAR PULMONAR COMO PREDICTOR DE MORTALIDAD Y DESARROLLO DE INJURIA PULMONAR AGUDA/SINDROME DE DISTRES RESPIRATORIO AGUDO EN PACIENTES EN ESTADO DE SHOCK . HOSPITAL UNIVERSITARIO DEPARTAMENTAL DE NARIÑO. 2013-2014\n",
      "(5) -> BETALAÍNAS DEL FRUTO DE PITAYA AMARILLA (Selenicereus megalanthus): IDENTIFICACIÓN, ESTABILIDAD Y ACTIVIDAD ANTIOXIDANTE IN VITRO.\n",
      "(6) -> CULTIVO DEL HONGO MEDICINAL Pleurotus ostreatus Y DETERMINACIÓN DE SU ACTIVIDAD ENZIMÁTICA Y ANTIOXIDANTE\n",
      "(7) -> DESARROLLO DE PROCESOS DE EXTRACCIÓN DE CANNABINOIDES PRESENTES EN MARIHUANA (Cannabis sativa) UTILIZANDO TECNOLOGÍAS DE EXTRACCIÓN VERDES Y ANÁLISIS POR TECNICAS CROMATOGRAFÍCAS\n",
      "(8) -> EXTRACCIÓN Y CARACTERIZACIÓN QUÍMICA DE PRINCIPIOS ACTIVOS DE ESTRUCTURA FENÓLICA CON PROPIEDADES ANTIOXIDANTES Y ANTIFÚNGICAS (HONGOS DERMATOFITOS), A PARTIR DEL FRUTO DE SANCIA Coriaría ruscifolia L.\n",
      "(9) -> EFICACIA DE UNA INTERVENCION EDUCATIVA PARA EL DIAGNÓSTICO DE LAS ESPONDILOARTROPATÍAS EN MEDICOS GENERALES DEL MUNICIPIO DE PASTO 2013-2014\n",
      "(10) -> EVALUACIÓN DE LA VARIABILIDAD GENÉTICA EN DOS COMPLEJOS DE PÁRAMO DEL DEPARTAMENTO DE NARIÑO: ANÁLISIS DEL IMPACTO AMBIENTAL DESDE LA DIMENSIÓN GENÉTICA\n",
      "(11) -> EVALUACIÓN DEL EFECTO DEL ACEITE VEGETAL EXTRAÍDO DE SEMILLAS DE Annona muricata SOBRE LA LIBERACIÓN DE GRÁNULOS DE METALOPROTEINASA DE MATRIZ 9 (MMP-9) EN NEUTRÓFILOS HUMANOS\n",
      "(12) -> OBTENCIÓN DE SNACKS DE UCHUVA MEDIANTE EL PROCESO DE FRITURA POR INMERSIÓN AL VACÍO\n",
      "(13) -> ACTIVIDAD ANTIBACTERIAL DE POLIFENOLES DEL AGUACATE (Persea americana var. Hass) SOBRE Helicobacter pylori AISLADO DE PACIENTES DE UNA ZONA DE ALTO RIESGO DE CANCER GASTRICO DEL DEPARTAMENTO DE NARIÑO.\n",
      "(14) -> AISLAMIENTO, CARACTERIZACION, ESTABILIDAD Y ACTIVIDAD ANTIOXIDANTE IN - VITRO DE LOS PIGMENTOS TIPO BETALAINAS DEL FRUTO DE Opuntia dillenii.\n",
      "(15) -> ANÁLISIS DE LE EMISIÓN DE CO2 Y CH4, CAUSADA POR EL CAMBIO DE USO DEL SUELO FORESTAL A AGRÍCOLA EN LA GRANJA EXPERIMENTAL BOTANA DE LA UNIVERSIDAD DE NARIÑO\n",
      "(16) -> APROXIMACION AL RIESGO DE INUNDACION Y ENTERRAMIENTO POR LAHARES PROVENIENTES DE LA QUEBRADA MIJITAYO EN EL SECTOR DE TAMASAGRA Y ZONAS ALEDAÑAS.\n",
      "(17) -> Análisis de los chillidos de ecolocalización de Murciélagos Pertenecientes a las Subfamilias Phyllostominae y Myotinae en la Reserva Natural Rio Ñambi\n",
      "(18) -> CARACTERIZACIÓN AEROBIA Y ANAEROBIA DEL ÁREA DE INFLUENCIA DE LA PRODUCCIÓN DE TRUCHA ARCOÍRIS (Oncorhynchus mykiss) DE LA ESTACIÓN PISCÍCOLA INTIYACO EN EL LAGO GUAMUEZ DEPARTAMENTO DE NARIÑO\n",
      "(19) -> CARACTERIZACIÓN DE HONGOS ASOCIADOS A SÍNTOMAS DE ENFERMEDAD EN FRAILEJONES (Espeletia pycnophylla) DEL PARQUE REGIONAL PÁRAMO DE PAJA BLANCA\n",
      "(20) -> DISEÑO Y ESTABLECIMIENTO DE UNA BIBLIOTECA BIOACÚSTICA DE REFERENCIA DE LAS AVES DEL SUROCCIDENTE COLOMBIANO COMO HERRAMIENTA DE APOYO A PROCESOS INVESTIGATIVOS DE LA UNIVERSIDAD DE NARIÑO\n",
      "(21) -> Desarrollo de microencapsulados a partir del aprovechamiento integral de limón Tahití (Citrus latifolia) en el departamento de Nariño\n",
      "(22) -> Desarrollo de una metodología de visualización interactiva y eficaz de información en Big Data.\n",
      "(23) -> Desarrollo y Aplicación de la Tecnología de Oxidación Avanzada PCFH para Mejorar la Calidad del Agua Potable en el Departamento de Nariño\n",
      "(24) -> EFECTIVIDAD DE ESTRATEGIAS EDUCATIVAS, PARA MEJORAR CONOCIMIENTOS, ACTITUDES Y PRÁCTICAS SOBRE HIPERTENSIÓN ARTERIAL, EN PERSONAS AFILIADAS A LA EPS EMSSANAR, DENTRO DEL MARCO DEL MODELO DE ATENCIÓN INTEGRAL EN SALUD, EN EL MUNICIPIO DE IMUES - NARIÑO DURANTE EL PERIODO 2018 - 2019.\n",
      "(25) -> EFECTO DE LA GRASA SOBREPASANTE SOBRE LÍPIDOS LÁCTEOS Y EFICIENCIA REPRODUCTIVA EN VACAS LECHERAS DE TRÓPICO ALTO\n",
      "(26) -> ESTIMACION Y EVALUACION DE PARAMETROS GENETICOS PARA CARACTERES DE IMPORTANCIA AGRONOMICA EN UN DIALELICO DE OCHO PARENTALES DE LULO DE CASTILLA\n",
      "(27) -> ESTUDIO DEL POTENCIAL ACUÍCOLA DE LA SABALETA (Brycon henni) ORIGINARIA DE LAS CUENCAS HIDROGRÁFICAS DE LOS RÍOS MAYO Y JUANAMBÚ, DEPARTAMENTO DE NARIÑO, COLOMBIA.\n",
      "(28) -> EVALUACIÓN COMUNITARIA DE SERVICIOS ECOSISTÉMICOS DEL HUMEDAL NATURAL DEL CENTRO AMBIENTAL CHIMAYOY, PASTO - NARIÑO\n",
      "(29) -> EVALUACIÓN DE FILTROS ANAEROBIOS DE FLUJO ASCENDENTE CON MATERIALES RECICLABLES COMO MEDIO FILTRANTE PARA LA REMOCION DE CARGA ORGANICA EN LA UNIVERSIDAD DE NARIÑO\n",
      "(30) -> EVALUACIÓN DE LA INFLUENCIA DEL SILICIO EN LA INTERACCIÓN CON DIFERENTES NIVELES DE NPK EN LOS CONTENIDOS NUTRICIONALES Y EN LA PRODUCCIÓN DE PASTO RYEGRASS AUBADE (Lolium sp)\n",
      "(31) -> EVALUACIÓN DE LA REACCIÓN DE GENOTIPOS DE PAPA (Solanum tuberosum y Solanum phureja) AL ATAQUE DE TIZÓN TARDÍO (Phytophthora infestans Mont. De Bary) EN NARIÑO\"\n",
      "(32) -> EVALUACIÓN DEL EFECTO DE INÓCULOS DE MICRORGANISMO SILVESTRES EN LA CALIDAD DEL CACAO FERMENTADO (Theobroma cacao L.) EN FINCAS DEL MUNICIPIO DE SOTO MAYOR, NARIÑO.\n",
      "(33) -> EVALUACIÓN In vivo DE LA ACTIVIDAD PROBIÓTICA DE Lactobacillus plantarum MICROENCAPSULADO SOBRE MORFOLOGÍA INTESTINAL, PARÁMETROS PRODUCTIVOS, INMUNOLÓGICOS, Y BIOQUÍMICOS EN POLLO DE ENGORDE.\n",
      "(34) -> EXTRACCIÓN DE CAROTENOS COMESTIBLES A PARTIR DE NABO AMARILLO (Brassica rapa L.) Y SU EVALUACIÓN PARA USO COMO PIGMENTANTE NATURAL DE YEMAS DE HUEVO DE CODORNIZ (Coturnix coturnix japónica) Y SU EFECTO EN LOS PARÁMETROS PRODUCTIVOS.\n",
      "(35) -> Estudio clínico, histopatologíco, inmunohistoquimica y tratamiento del carcinoma de células escamosas ocular bovino en cuatro regiones lecheras del departamento de Nariño.\n",
      "(36) -> Estudio de los microorganismos asociados al proceso de fermentación de cacao (Theobroma cacao L.) en fincas del departamento de Nariño\n",
      "(37) -> Estudio químico y actividad antioxidante in vitro de la fracción polifenólica (antocianinas) aislada de los granos, hojas de mazorca y coronta del maíz morado (Zea Mays L) cultivado en el Departamento de Nariño.\n",
      "(38) -> Estudio químico y capacidad antioxidante de pigmentos tipo antocianinas presentes en dos especies de flores silvestres (Tibouchina urvilleana y Tibouchina mollis) del departamento de Nariño\n",
      "(39) -> Evaluación de humedales artificiales a escala piloto como tratamiento de pulimento de aguas residuales\n",
      "(40) -> Evaluación de la calidad de aceite de café (Coffea arábiga) de las variedades Castillo y Colombia extraído por presión en frio, en el municipio de Samaniego (Nariño)\n",
      "(41) -> Exploración de nuevas alternativas de intervención de la madera con materiales complementarios en el taller curricular de Materiales I - Maderas del programa de diseño industrial de la Universidad de Nariño\n",
      "(42) -> Formación \"in-situ\" de nanoclusters metálicos intercalados en arcillas naturales y sintéticas\n",
      "(43) -> Generalización del método de Newton y sus aplicaciones\n",
      "(44) -> HONGOS FITOPATÓGENOS ASOCIADOS AL LAUREL DE CERA Morella pubescens\n",
      "(45) -> INFLUENCIA DE UN CULTIVO INICIADOR DE MICROORGANISMOS SILVESTRES EN EL PERFIL DE COMPUESTOS VOLÁTILES Y NO VOLÁTILES DE LAS SEMILLAS FERMENTADAS DE Theobroma cacao L. PROVENIENTE DEL MUNICIPIO DE LOS ANDES, SOTOMAYOR, NARIÑO\n",
      "(46) -> LA ECOPEDAGOGIA EN LA CONSTRUCCIÓN DE ACCIONES EDUCATIVAS PROAMBIENTALES\n",
      "(47) -> MAÍZ, PRÁCTICAS DE LA TIERRA GRÁFICADAS CON GRANITOS DE ORO\n",
      "(48) -> OPTIMIZACIÓN DE LAS CONDICIONES PARA LA GENERACIÓN DE HIDRÓGENO A PARTIR DE LA ELECTRÓLISIS DE LA UREA PRESENTE EN LA ORINA USANDO UNA CELDA ELECTROQUIMICA DE CATODO Y ANODO SEPARADOS\n",
      "(49) -> OPTIMIZACIÓN DEL PROCESO DE SECADO POR ASPERSIÓN PARA LA OBTENCIÓN DE MORA EN POLVO\n",
      "(50) -> Principios activos de polifenoles de la semilla de aguacate (Persea americana var. Hass) con actividad anti-Helicobacter pylori aislado de una zona de Nariño con alto riesgo de cáncer gástrico\n",
      "(51) -> Producción de Rotíferos de agua dulce como alimento para peces ornamentales en un ambiente controlado.\n",
      "(52) -> SEMISÍNTESIS DE BETAXANTINAS, ESTUDIO DE SU ESTABILIDAD Y DE SU ACTIVIDAD ANTIOXIDANTE IN VITRO.\n",
      "(53) -> SISTEMAS DE INFORMACION GEOGRAFICA (SIG) Y EVALUACION MULTICRITERO (EMC) PARA LA IDENTIFICACION DE AREAS POTENCIALES PARA DISPOSICION FINAL DE RESIDUOS SOLIDOS Y PROPUESTA DE DISEÑO DE RELLENO SANITARIO EN EL MUNICIPIO DE BUESACO - NARIÑO\n",
      "(54) -> Solución Numérica de Sistemas de Ecuaciones Diferenciales Ordinarias Aplicados a la Vida\n",
      "(55) -> UN APORTE AL ESTUDIO DE LA INTERACCIÓN HUMANO-COMPUTADOR (HCI) A TRAVEZ DE LA IMPLEMENTACIÓN DE UN ESCRITORIO ESTEREOSCÓPICO BAJO SOFTWARE LIBRE\n",
      "(56) -> Una metáfora para los \"7000 Robles\" de Joseph Beuys Artes, Ecología, Técnica y Política en la explotación de recursos naturales\n",
      "(57) -> investigación participativa para el fortalecimiento del proyecto ambiental escolar (PRAE) en el corregimiento de Morasurco del municipío de Pasto, Nariño\n"
     ]
    }
   ],
   "source": [
    "for i, result in enumerate(results):\n",
    "    print(f'({i+1}) -> ' + result['Titulo']['value'])"
   ]
  },
  {
   "cell_type": "code",
   "execution_count": 88,
   "metadata": {},
   "outputs": [
    {
     "data": {
      "text/plain": [
       "57"
      ]
     },
     "execution_count": 88,
     "metadata": {},
     "output_type": "execute_result"
    }
   ],
   "source": [
    "id_docs = [result['id_pi']['value'] for result in results ]\n",
    "len(id_docs)"
   ]
  },
  {
   "cell_type": "code",
   "execution_count": 2,
   "metadata": {},
   "outputs": [],
   "source": [
    "qres = g.query(\n",
    "    \"\"\"\n",
    "PREFIX rdf: <http://www.w3.org/1999/02/22-rdf-syntax-ns#>\n",
    "PREFIX owl: <http://www.w3.org/2002/07/owl#>\n",
    "PREFIX rdfs: <http://www.w3.org/2000/01/rdf-schema#>\n",
    "PREFIX xsd: <http://www.w3.org/2001/XMLSchema#>\n",
    "PREFIX po: <http://www.semanticweb.org/OntologiaInvestigacionPrueba#>\n",
    "select ?id_pi?Titulo?proyecto_investigacion (count(?id_pi)as ?c)\n",
    "where{\n",
    "        ?proyecto_investigacion po:pi_tiene_palabra ?palabra.\n",
    "        ?proyecto_investigacion po:titulo_proyecto_investigacion ?Titulo.\n",
    "        ?proyecto_investigacion po:id_proyecto_investigacion ?id_pi.\n",
    "        ?palabra po:descripcion_palabra ?descripcion.\n",
    "        FILTER (\n",
    "            REGEX(str(?descripcion), 'descubrimiento','i')||\n",
    "            REGEX(str(?descripcion), 'conocimiento','i')\n",
    "        )\n",
    "    }\n",
    "group by ?id_pi?Titulo?proyecto_investigacion\n",
    "\"\"\")\n"
   ]
  },
  {
   "cell_type": "code",
   "execution_count": 11,
   "metadata": {},
   "outputs": [],
   "source": [
    "qres = g.query(\n",
    "    \"\"\"\n",
    "PREFIX rdf: <http://www.w3.org/1999/02/22-rdf-syntax-ns#>\n",
    "PREFIX owl: <http://www.w3.org/2002/07/owl#>\n",
    "PREFIX rdfs: <http://www.w3.org/2000/01/rdf-schema#>\n",
    "PREFIX xsd: <http://www.w3.org/2001/XMLSchema#>\n",
    "PREFIX po: <http://www.semanticweb.org/OntologiaInvestigacionPrueba#>\n",
    "select ?id_pi?Titulo?proyecto_investigacion (count(?id_pi)as ?c)\n",
    "where{\n",
    "        ?palabras po:palabra_describe_pi ?proyecto_investigacion.\n",
    "        ?proyecto_investigacion po:titulo_proyecto_investigacion ?Titulo.\n",
    "        ?proyecto_investigacion po:id_proyecto_investigacion ?id_pi.\n",
    "        ?palabras po:descripcion_palabra ?descripcion.\n",
    "        FILTER (\n",
    "            REGEX(str(?descripcion), 'descubrimiento','i')||\n",
    "            REGEX(str(?descripcion), 'conocimiento','i')\n",
    "        )\n",
    "    }\n",
    "group by ?id_pi?Titulo?proyecto_investigacion\n",
    "order by DESC(?c)\n",
    "\"\"\")"
   ]
  },
  {
   "cell_type": "code",
   "execution_count": 5,
   "metadata": {
    "tags": []
   },
   "outputs": [],
   "source": [
    "#Directa\n",
    "trabajos = list(graph.query(\"\"\"\n",
    "PREFIX rdf: <http://www.w3.org/1999/02/22-rdf-syntax-ns#>\n",
    "PREFIX owl: <http://www.w3.org/2002/07/owl#>\n",
    "PREFIX rdfs: <http://www.w3.org/2000/01/rdf-schema#>\n",
    "PREFIX xsd: <http://www.w3.org/2001/XMLSchema#>\n",
    "PREFIX po: <http://www.semanticweb.org/OntologiaInvestigacionPrueba#>\n",
    "select ?id_pi?Titulo?proyecto_investigacion (count(?id_pi)as ?c)\n",
    "where{\n",
    "        ?proyecto_investigacion po:pi_tiene_palabra ?palabra.\n",
    "        ?proyecto_investigacion po:titulo_proyecto_investigacion ?Titulo.\n",
    "        ?proyecto_investigacion po:id_proyecto_investigacion ?id_pi.\n",
    "        ?palabra po:descripcion_palabra ?descripcion.\n",
    "        FILTER (\n",
    "            REGEX(str(?descripcion), 'descubrimiento','i')||\n",
    "            REGEX(str(?descripcion), 'conocimiento','i')\n",
    "        )\n",
    "    }\n",
    "group by ?id_pi?Titulo?proyecto_investigacion\n",
    "order by DESC(?c)\n",
    "\"\"\"))\n",
    "\n",
    "#trabajos\n",
    "                "
   ]
  }
 ],
 "metadata": {
  "kernelspec": {
   "display_name": "Python 3",
   "language": "python",
   "name": "python3"
  },
  "language_info": {
   "codemirror_mode": {
    "name": "ipython",
    "version": 3
   },
   "file_extension": ".py",
   "mimetype": "text/x-python",
   "name": "python",
   "nbconvert_exporter": "python",
   "pygments_lexer": "ipython3",
   "version": "3.7.7"
  }
 },
 "nbformat": 4,
 "nbformat_minor": 2
}
