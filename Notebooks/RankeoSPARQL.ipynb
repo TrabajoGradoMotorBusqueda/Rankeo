{
 "cells": [
  {
   "cell_type": "code",
   "execution_count": null,
   "metadata": {},
   "outputs": [],
   "source": [
    "\"\"\"PREFIX po: <http://www.semanticweb.org/OntologiaInvestigacionPrueba#>\n",
    "select ?id_pi?Titulo?proyecto_investigacion\n",
    "where{\n",
    "        ?palabras po:descripcion_palabra ?descripcion.\n",
    "        ?palabras ^po:pi_tiene_palabra ?proyecto_investigacion.\n",
    "        ?proyecto_investigacion po:titulo_proyecto_investigacion ?Titulo.\n",
    "        ?proyecto_investigacion po:id_proyecto_investigacion ?id_pi.\n",
    "        FILTER (\n",
    "            REGEX(str(?descripcion), 'gestor','i')||\n",
    "            REGEX(str(?descripcion), 'conocimiento','i')\n",
    "        )\n",
    "    }\n",
    "\"\"\""
   ]
  },
  {
   "cell_type": "code",
   "execution_count": 52,
   "metadata": {},
   "outputs": [],
   "source": [
    "from SPARQLWrapper import SPARQLWrapper, JSON\n",
    "\n",
    "sparql = SPARQLWrapper(\"http://localhost:3030/InvestigacionesUdenar/sparql\")\n",
    "sparql.setQuery(\"\"\"\n",
    "PREFIX po: <http://www.semanticweb.org/OntologiaInvestigacionPrueba#>\n",
    "select ?id_pi?Titulo?proyecto_investigacion\n",
    "where{\n",
    "        ?palabras po:descripcion_palabra ?descripcion.\n",
    "        ?palabras ^po:pi_tiene_palabra ?proyecto_investigacion.\n",
    "        ?proyecto_investigacion po:titulo_proyecto_investigacion ?Titulo.\n",
    "        ?proyecto_investigacion po:id_proyecto_investigacion ?id_pi.\n",
    "        FILTER (\n",
    "            REGEX(str(?descripcion), 'gestor')||\n",
    "            REGEX(str(?descripcion), 'conocimiento')\n",
    "        )\n",
    "    }\n",
    "\"\"\")\n",
    "\n",
    "#order by DESC(?c)\n",
    "\n",
    "sparql.setReturnFormat(JSON)\n",
    "\n",
    "results = sparql.query().convert()\n",
    "results = results['results']['bindings']"
   ]
  },
  {
   "cell_type": "code",
   "execution_count": 53,
   "metadata": {},
   "outputs": [
    {
     "data": {
      "text/plain": [
       "341"
      ]
     },
     "execution_count": 53,
     "metadata": {},
     "output_type": "execute_result"
    }
   ],
   "source": [
    "id_docs = [result['id_pi']['value'] for result in results ]\n",
    "len(id_docs)"
   ]
  },
  {
   "cell_type": "code",
   "execution_count": 55,
   "metadata": {},
   "outputs": [
    {
     "name": "stdout",
     "output_type": "stream",
     "text": [
      "final list ['204', '193', '230', '231', '312', '320', '352', '375', '433', '13', '119', '154', '229', '422', '443', '1', '12', '18', '38', '47', '56', '71', '203', '218', '226', '233', '243', '245', '281', '410', '419', '451', '3', '4', '6', '7', '8', '9', '10', '14', '21', '24', '25', '28', '30', '34', '39', '48', '49', '53', '55', '58', '62', '63', '64', '65', '68', '73', '75', '77', '80', '83', '91', '94', '98', '103', '106', '107', '111', '117', '122', '126', '127', '131', '143', '157', '159', '160', '163', '168', '170', '177', '180', '188', '190', '191', '196', '198', '201', '202', '205', '212', '214', '219', '220', '223', '224', '232', '238', '247', '248', '251', '261', '263', '266', '271', '272', '276', '280', '282', '284', '286', '288', '291', '292', '293', '304', '305', '308', '310', '311', '321', '329', '331', '332', '334', '336', '337', '338', '343', '345', '346', '349', '350', '360', '368', '371', '376', '377', '380', '382', '394', '405', '407', '409', '416', '417', '430', '431', '441', '444', '445', '448', '149', '67', '135', '164', '206', '309', '353', '386', '402', '449'] Cantidad: 163\n"
     ]
    }
   ],
   "source": [
    "from collections import Counter \n",
    "from itertools import repeat, chain \n",
    "    \n",
    "# printing initial ini_list \n",
    "#print (\"initial list\", str(id_docs), \"Cantidad:\" ,len(id_docs)) \n",
    "  \n",
    "# sorting on bais of frequency of elements \n",
    "result = list(chain(i for i, c in Counter(id_docs).most_common())) \n",
    "  \n",
    "# printing final result \n",
    "print(\"final list\", str(result), \"Cantidad:\",len(result)) "
   ]
  },
  {
   "cell_type": "code",
   "execution_count": 2,
   "metadata": {},
   "outputs": [],
   "source": [
    "results = sparql.query().convert()\n"
   ]
  },
  {
   "cell_type": "code",
   "execution_count": 1,
   "metadata": {},
   "outputs": [],
   "source": [
    "import sys\n",
    "# insert at 1, 0 is the script path (or '' in REPL)\n",
    "sys.path.insert(1, '../Scripts')\n",
    "from ontologia import *"
   ]
  },
  {
   "cell_type": "code",
   "execution_count": 2,
   "metadata": {
    "tags": []
   },
   "outputs": [
    {
     "name": "stderr",
     "output_type": "stream",
     "text": [
      "* Owlready2 * Running HermiT...\n",
      "    java -Xmx2000M -cp /home/sangeeky/anaconda3/envs/tesis/lib/python3.7/site-packages/owlready2/hermit:/home/sangeeky/anaconda3/envs/tesis/lib/python3.7/site-packages/owlready2/hermit/HermiT.jar org.semanticweb.HermiT.cli.CommandLine -c -O -D -I file:////tmp/tmpuvntmp6v\n",
      "* Owlready2 * HermiT took 14.36101770401001 seconds\n",
      "* Owlready * (NB: only changes on entities loaded in Python are shown, other changes are done but not listed)\n"
     ]
    }
   ],
   "source": [
    "sync_reasoner() g"
   ]
  },
  {
   "cell_type": "code",
   "execution_count": 2,
   "metadata": {},
   "outputs": [
    {
     "data": {
      "text/plain": [
       "OntologiaInvestigacionPrueba.pi1"
      ]
     },
     "execution_count": 2,
     "metadata": {},
     "output_type": "execute_result"
    }
   ],
   "source": [
    "palabra = (ontologia.Palabra.instances())[0]\n",
    "trabajo = (palabra.palabra_describe_pi)[0]\n",
    "trabajo"
   ]
  },
  {
   "cell_type": "code",
   "execution_count": 3,
   "metadata": {
    "tags": []
   },
   "outputs": [
    {
     "name": "stdout",
     "output_type": "stream",
     "text": [
      "[OntologiaInvestigacionPrueba.Proyecto_investigacion]\n",
      "[OntologiaInvestigacionPrueba.Universidad]\n",
      "[OntologiaInvestigacionPrueba.VIIS, OntologiaInvestigacionPrueba.Facultad]\n"
     ]
    }
   ],
   "source": [
    "print(trabajo.is_a)\n",
    "#print(ontologia.get_instances_of(parent))\n",
    "print(ontologia.get_parents_of(Facultad))\n",
    "print(ontologia.get_children_of(Universidad))"
   ]
  },
  {
   "cell_type": "code",
   "execution_count": 2,
   "metadata": {},
   "outputs": [],
   "source": [
    "graph = default_world.as_rdflib_graph()"
   ]
  },
  {
   "cell_type": "code",
   "execution_count": 2,
   "metadata": {},
   "outputs": [],
   "source": [
    "qres = g.query(\n",
    "    \"\"\"\n",
    "PREFIX rdf: <http://www.w3.org/1999/02/22-rdf-syntax-ns#>\n",
    "PREFIX owl: <http://www.w3.org/2002/07/owl#>\n",
    "PREFIX rdfs: <http://www.w3.org/2000/01/rdf-schema#>\n",
    "PREFIX xsd: <http://www.w3.org/2001/XMLSchema#>\n",
    "PREFIX po: <http://www.semanticweb.org/OntologiaInvestigacionPrueba#>\n",
    "select ?id_pi?Titulo?proyecto_investigacion (count(?id_pi)as ?c)\n",
    "where{\n",
    "        ?proyecto_investigacion po:pi_tiene_palabra ?palabra.\n",
    "        ?proyecto_investigacion po:titulo_proyecto_investigacion ?Titulo.\n",
    "        ?proyecto_investigacion po:id_proyecto_investigacion ?id_pi.\n",
    "        ?palabra po:descripcion_palabra ?descripcion.\n",
    "        FILTER (\n",
    "            REGEX(str(?descripcion), 'descubrimiento','i')||\n",
    "            REGEX(str(?descripcion), 'conocimiento','i')\n",
    "        )\n",
    "    }\n",
    "group by ?id_pi?Titulo?proyecto_investigacion\n",
    "\"\"\")\n"
   ]
  },
  {
   "cell_type": "code",
   "execution_count": 11,
   "metadata": {},
   "outputs": [],
   "source": [
    "qres = g.query(\n",
    "    \"\"\"\n",
    "PREFIX rdf: <http://www.w3.org/1999/02/22-rdf-syntax-ns#>\n",
    "PREFIX owl: <http://www.w3.org/2002/07/owl#>\n",
    "PREFIX rdfs: <http://www.w3.org/2000/01/rdf-schema#>\n",
    "PREFIX xsd: <http://www.w3.org/2001/XMLSchema#>\n",
    "PREFIX po: <http://www.semanticweb.org/OntologiaInvestigacionPrueba#>\n",
    "select ?id_pi?Titulo?proyecto_investigacion (count(?id_pi)as ?c)\n",
    "where{\n",
    "        ?palabras po:palabra_describe_pi ?proyecto_investigacion.\n",
    "        ?proyecto_investigacion po:titulo_proyecto_investigacion ?Titulo.\n",
    "        ?proyecto_investigacion po:id_proyecto_investigacion ?id_pi.\n",
    "        ?palabras po:descripcion_palabra ?descripcion.\n",
    "        FILTER (\n",
    "            REGEX(str(?descripcion), 'descubrimiento','i')||\n",
    "            REGEX(str(?descripcion), 'conocimiento','i')\n",
    "        )\n",
    "    }\n",
    "group by ?id_pi?Titulo?proyecto_investigacion\n",
    "order by DESC(?c)\n",
    "\"\"\")"
   ]
  },
  {
   "cell_type": "code",
   "execution_count": 5,
   "metadata": {
    "tags": []
   },
   "outputs": [],
   "source": [
    "#Directa\n",
    "trabajos = list(graph.query(\"\"\"\n",
    "PREFIX rdf: <http://www.w3.org/1999/02/22-rdf-syntax-ns#>\n",
    "PREFIX owl: <http://www.w3.org/2002/07/owl#>\n",
    "PREFIX rdfs: <http://www.w3.org/2000/01/rdf-schema#>\n",
    "PREFIX xsd: <http://www.w3.org/2001/XMLSchema#>\n",
    "PREFIX po: <http://www.semanticweb.org/OntologiaInvestigacionPrueba#>\n",
    "select ?id_pi?Titulo?proyecto_investigacion (count(?id_pi)as ?c)\n",
    "where{\n",
    "        ?proyecto_investigacion po:pi_tiene_palabra ?palabra.\n",
    "        ?proyecto_investigacion po:titulo_proyecto_investigacion ?Titulo.\n",
    "        ?proyecto_investigacion po:id_proyecto_investigacion ?id_pi.\n",
    "        ?palabra po:descripcion_palabra ?descripcion.\n",
    "        FILTER (\n",
    "            REGEX(str(?descripcion), 'descubrimiento','i')||\n",
    "            REGEX(str(?descripcion), 'conocimiento','i')\n",
    "        )\n",
    "    }\n",
    "group by ?id_pi?Titulo?proyecto_investigacion\n",
    "order by DESC(?c)\n",
    "\"\"\"))\n",
    "\n",
    "#trabajos\n",
    "                "
   ]
  },
  {
   "cell_type": "code",
   "execution_count": 6,
   "metadata": {},
   "outputs": [
    {
     "data": {
      "text/plain": [
       "(rdflib.term.Literal('204', datatype=rdflib.term.URIRef('http://www.w3.org/2001/XMLSchema#string')),\n",
       " rdflib.term.Literal('HONGOS FITOPATÓGENOS ASOCIADOS AL LAUREL DE CERA Morella pubescens', datatype=rdflib.term.URIRef('http://www.w3.org/2001/XMLSchema#string')),\n",
       " rdflib.term.URIRef('http://www.semanticweb.org/OntologiaInvestigacionPrueba#pi204'),\n",
       " rdflib.term.Literal('3', datatype=rdflib.term.URIRef('http://www.w3.org/2001/XMLSchema#integer')))"
      ]
     },
     "execution_count": 6,
     "metadata": {},
     "output_type": "execute_result"
    }
   ],
   "source": [
    "trabajos[1]"
   ]
  },
  {
   "cell_type": "code",
   "execution_count": 3,
   "metadata": {
    "tags": []
   },
   "outputs": [
    {
     "name": "stderr",
     "output_type": "stream",
     "text": [
      "http://www.semanticweb.org/OntologiaInvestigacionPrueba#d.i.a . does not look like a valid URI, trying to serialize this will break.\n",
      "http://www.semanticweb.org/OntologiaInvestigacionPrueba#d.i.a . does not look like a valid URI, trying to serialize this will break.\n",
      "http://www.semanticweb.org/OntologiaInvestigacionPrueba#e.e . does not look like a valid URI, trying to serialize this will break.\n",
      "http://www.semanticweb.org/OntologiaInvestigacionPrueba#e.e . does not look like a valid URI, trying to serialize this will break.\n",
      "http://www.semanticweb.org/OntologiaInvestigacionPrueba#d.c . does not look like a valid URI, trying to serialize this will break.\n",
      "http://www.semanticweb.org/OntologiaInvestigacionPrueba#d.c . does not look like a valid URI, trying to serialize this will break.\n",
      "http://www.semanticweb.org/OntologiaInvestigacionPrueba#s.a . does not look like a valid URI, trying to serialize this will break.\n",
      "http://www.semanticweb.org/OntologiaInvestigacionPrueba#s.a . does not look like a valid URI, trying to serialize this will break.\n",
      "http://www.semanticweb.org/OntologiaInvestigacionPrueba#e.s.p . does not look like a valid URI, trying to serialize this will break.\n",
      "http://www.semanticweb.org/OntologiaInvestigacionPrueba#e.s.p . does not look like a valid URI, trying to serialize this will break.\n",
      "http://www.semanticweb.org/OntologiaInvestigacionPrueba#s.d . does not look like a valid URI, trying to serialize this will break.\n",
      "http://www.semanticweb.org/OntologiaInvestigacionPrueba#s.d . does not look like a valid URI, trying to serialize this will break.\n",
      "http://www.semanticweb.org/OntologiaInvestigacionPrueba#l.f . does not look like a valid URI, trying to serialize this will break.\n",
      "http://www.semanticweb.org/OntologiaInvestigacionPrueba#l.f . does not look like a valid URI, trying to serialize this will break.\n",
      "http://www.semanticweb.org/OntologiaInvestigacionPrueba#h.b.k . does not look like a valid URI, trying to serialize this will break.\n",
      "http://www.semanticweb.org/OntologiaInvestigacionPrueba#h.b.k . does not look like a valid URI, trying to serialize this will break.\n",
      "http://www.semanticweb.org/OntologiaInvestigacionPrueba#p.t.a . does not look like a valid URI, trying to serialize this will break.\n",
      "http://www.semanticweb.org/OntologiaInvestigacionPrueba#p.t.a . does not look like a valid URI, trying to serialize this will break.\n",
      "http://www.semanticweb.org/OntologiaInvestigacionPrueba#m.s.n.m . does not look like a valid URI, trying to serialize this will break.\n",
      "http://www.semanticweb.org/OntologiaInvestigacionPrueba#m.s.n.m . does not look like a valid URI, trying to serialize this will break.\n",
      "http://www.semanticweb.org/OntologiaInvestigacionPrueba#i.d.s . does not look like a valid URI, trying to serialize this will break.\n",
      "http://www.semanticweb.org/OntologiaInvestigacionPrueba#i.d.s . does not look like a valid URI, trying to serialize this will break.\n",
      "http://www.semanticweb.org/OntologiaInvestigacionPrueba#m.s.n.m . does not look like a valid URI, trying to serialize this will break.\n",
      "http://www.semanticweb.org/OntologiaInvestigacionPrueba#m.s.n.m . does not look like a valid URI, trying to serialize this will break.\n",
      "http://www.semanticweb.org/OntologiaInvestigacionPrueba#h.b . does not look like a valid URI, trying to serialize this will break.\n",
      "http://www.semanticweb.org/OntologiaInvestigacionPrueba#h.b . does not look like a valid URI, trying to serialize this will break.\n",
      "http://www.semanticweb.org/OntologiaInvestigacionPrueba#m.s.n . does not look like a valid URI, trying to serialize this will break.\n",
      "http://www.semanticweb.org/OntologiaInvestigacionPrueba#m.s.n . does not look like a valid URI, trying to serialize this will break.\n",
      "http://www.semanticweb.org/OntologiaInvestigacionPrueba#s.v . does not look like a valid URI, trying to serialize this will break.\n",
      "http://www.semanticweb.org/OntologiaInvestigacionPrueba#s.v . does not look like a valid URI, trying to serialize this will break.\n",
      "http://www.semanticweb.org/OntologiaInvestigacionPrueba#m.s.n.m . does not look like a valid URI, trying to serialize this will break.\n",
      "http://www.semanticweb.org/OntologiaInvestigacionPrueba#m.s.n.m . does not look like a valid URI, trying to serialize this will break.\n",
      "http://www.semanticweb.org/OntologiaInvestigacionPrueba#s.v . does not look like a valid URI, trying to serialize this will break.\n",
      "http://www.semanticweb.org/OntologiaInvestigacionPrueba#s.v . does not look like a valid URI, trying to serialize this will break.\n",
      "http://www.semanticweb.org/OntologiaInvestigacionPrueba#e.p . does not look like a valid URI, trying to serialize this will break.\n",
      "http://www.semanticweb.org/OntologiaInvestigacionPrueba#e.p . does not look like a valid URI, trying to serialize this will break.\n",
      "http://www.semanticweb.org/OntologiaInvestigacionPrueba#m.s.n . does not look like a valid URI, trying to serialize this will break.\n",
      "http://www.semanticweb.org/OntologiaInvestigacionPrueba#m.s.n . does not look like a valid URI, trying to serialize this will break.\n",
      "http://www.semanticweb.org/OntologiaInvestigacionPrueba#j.m . does not look like a valid URI, trying to serialize this will break.\n",
      "http://www.semanticweb.org/OntologiaInvestigacionPrueba#j.m . does not look like a valid URI, trying to serialize this will break.\n",
      "http://www.semanticweb.org/OntologiaInvestigacionPrueba#m.s.n.m . does not look like a valid URI, trying to serialize this will break.\n",
      "http://www.semanticweb.org/OntologiaInvestigacionPrueba#m.s.n.m . does not look like a valid URI, trying to serialize this will break.\n",
      "http://www.semanticweb.org/OntologiaInvestigacionPrueba#m.s.n.m . does not look like a valid URI, trying to serialize this will break.\n",
      "http://www.semanticweb.org/OntologiaInvestigacionPrueba#m.s.n.m . does not look like a valid URI, trying to serialize this will break.\n",
      "http://www.semanticweb.org/OntologiaInvestigacionPrueba#s.f . does not look like a valid URI, trying to serialize this will break.\n",
      "http://www.semanticweb.org/OntologiaInvestigacionPrueba#s.f . does not look like a valid URI, trying to serialize this will break.\n",
      "http://www.semanticweb.org/OntologiaInvestigacionPrueba#h.b . does not look like a valid URI, trying to serialize this will break.\n",
      "http://www.semanticweb.org/OntologiaInvestigacionPrueba#h.b . does not look like a valid URI, trying to serialize this will break.\n",
      "http://www.semanticweb.org/OntologiaInvestigacionPrueba#e.g . does not look like a valid URI, trying to serialize this will break.\n",
      "http://www.semanticweb.org/OntologiaInvestigacionPrueba#e.g . does not look like a valid URI, trying to serialize this will break.\n"
     ]
    },
    {
     "data": {
      "text/plain": [
       "<rdflib.plugins.sparql.processor.SPARQLResult at 0x7fe3d5512990>"
      ]
     },
     "execution_count": 3,
     "metadata": {},
     "output_type": "execute_result"
    }
   ],
   "source": [
    "#Inversa\n",
    "trabajos = graph.query(\"\"\"\n",
    "PREFIX rdf: <http://www.w3.org/1999/02/22-rdf-syntax-ns#>\n",
    "PREFIX owl: <http://www.w3.org/2002/07/owl#>\n",
    "PREFIX rdfs: <http://www.w3.org/2000/01/rdf-schema#>\n",
    "PREFIX xsd: <http://www.w3.org/2001/XMLSchema#>\n",
    "PREFIX po: <http://www.semanticweb.org/OntologiaInvestigacionPrueba#>\n",
    "select ?id_pi?Titulo?proyecto_investigacion (count(?id_pi)as ?c)\n",
    "where{\n",
    "        ?palabras po:descripcion_palabra ?descripcion.\n",
    "        ?palabras po:palabra_describe_pi ?proyecto_investigacion.\n",
    "        ?proyecto_investigacion po:titulo_proyecto_investigacion ?Titulo.\n",
    "        ?proyecto_investigacion po:id_proyecto_investigacion ?id_pi.\n",
    "        FILTER (\n",
    "            REGEX(str(?descripcion), 'descubrimiento','i')||\n",
    "            REGEX(str(?descripcion), 'conocimiento','i')\n",
    "        )\n",
    "    }\n",
    "group by ?id_pi?Titulo?proyecto_investigacion\n",
    "order by DESC(?c)\n",
    "\"\"\")\n",
    "\n",
    "trabajos"
   ]
  }
 ],
 "metadata": {
  "kernelspec": {
   "display_name": "Python 3",
   "language": "python",
   "name": "python3"
  },
  "language_info": {
   "codemirror_mode": {
    "name": "ipython",
    "version": 3
   },
   "file_extension": ".py",
   "mimetype": "text/x-python",
   "name": "python",
   "nbconvert_exporter": "python",
   "pygments_lexer": "ipython3",
   "version": "3.7.7"
  }
 },
 "nbformat": 4,
 "nbformat_minor": 2
}
