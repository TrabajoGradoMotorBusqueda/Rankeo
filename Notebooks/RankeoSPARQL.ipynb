{
 "cells": [
  {
   "cell_type": "code",
   "execution_count": 5,
   "metadata": {},
   "outputs": [],
   "source": [
    "from SPARQLWrapper import SPARQLWrapper, JSON\n",
    "sparql = SPARQLWrapper(\"http://localhost:3030/InvestigacionesUdenar/sparql\")"
   ]
  },
  {
   "cell_type": "markdown",
   "metadata": {},
   "source": [
    "### Cargamos Vocabulario y Adicionales"
   ]
  },
  {
   "cell_type": "code",
   "execution_count": 3,
   "metadata": {},
   "outputs": [],
   "source": [
    "import difflib\n",
    "\n",
    "#Lectura de lemas \n",
    "import json\n",
    "with open('./Vocabulario/diccionario-lemas.json', 'r') as f:\n",
    "    diccionario_lemas = json.loads(f.read())\n",
    "\n",
    "lemas = list(diccionario_lemas.keys())"
   ]
  },
  {
   "cell_type": "markdown",
   "metadata": {},
   "source": [
    "### Cargamos Modelo W2V"
   ]
  },
  {
   "cell_type": "code",
   "execution_count": 4,
   "metadata": {},
   "outputs": [],
   "source": [
    "from gensim.test.utils import datapath\n",
    "from gensim import utils\n",
    "from gensim.models import Word2Vec\n",
    "import multiprocessing\n",
    "from time import time\n",
    "\n",
    "modelo = Word2Vec.load(\"./Modelos/modelo10FINAL.model\")\n"
   ]
  },
  {
   "cell_type": "markdown",
   "metadata": {},
   "source": [
    "### Lectura de Palabras"
   ]
  },
  {
   "cell_type": "code",
   "execution_count": 89,
   "metadata": {},
   "outputs": [
    {
     "data": {
      "text/plain": [
       "['gestor',\n",
       " 'conocimiento',\n",
       " 'debilmente',\n",
       " 'umayux',\n",
       " 'sgbd',\n",
       " 'sparql',\n",
       " 'rdf',\n",
       " 'postgresql',\n",
       " 'ontologias',\n",
       " 'fundamentandose',\n",
       " 'solicitada',\n",
       " 'maskana',\n",
       " 'motor',\n",
       " 'transformarla',\n",
       " 'facilite',\n",
       " 'adquieran',\n",
       " 'buscador',\n",
       " 'digitalizados',\n",
       " 'flock',\n",
       " 'robusto',\n",
       " 'publicarlo',\n",
       " 'divulgarlo',\n",
       " 'reconocimiento',\n",
       " 'solicitado',\n",
       " 'transformarlo',\n",
       " 'transformar',\n",
       " 'buscado',\n",
       " 'flocks']"
      ]
     },
     "execution_count": 89,
     "metadata": {},
     "output_type": "execute_result"
    }
   ],
   "source": [
    "words = ['gestor', 'conocimiento']\n",
    "#Modelo W2v\n",
    "similar_words = modelo.wv.most_similar(words, topn=20)\n",
    "\n",
    "words.extend([word[0] for word in similar_words])\n",
    "\n",
    "#Palabras en plural o muy similares\n",
    "more_words=[]\n",
    "for word in words:\n",
    "    additional = difflib.get_close_matches(word, diccionario_lemas.keys(), n=5, cutoff=0.90)\n",
    "    more_words.extend(additional[1:])\n",
    "    \n",
    "#Añadir palabras finales\n",
    "words.extend(more_words)\n",
    "words"
   ]
  },
  {
   "cell_type": "markdown",
   "metadata": {},
   "source": [
    "### Cargamos palabras a SPARQL "
   ]
  },
  {
   "cell_type": "code",
   "execution_count": 94,
   "metadata": {},
   "outputs": [],
   "source": [
    "query_prefix = \"\"\"\n",
    "PREFIX po: <http://www.semanticweb.org/OntologiaInvestigacionPrueba#>\n",
    "select ?id_pi?Titulo?proyecto_investigacion (count(?id_pi)as ?c)\n",
    "where{\n",
    "        ?palabras po:descripcion_palabra ?descripcion.\n",
    "        ?palabras ^po:pi_tiene_palabra ?proyecto_investigacion.\n",
    "        ?proyecto_investigacion po:titulo_proyecto_investigacion ?Titulo.\n",
    "        ?proyecto_investigacion po:id_proyecto_investigacion ?id_pi.\n",
    "        FILTER ( \"\"\"\n",
    "\n",
    "query_words=\"\"\"\"\"\"\n",
    "query_words_start = \"\"\"REGEX(str(?descripcion), '\\\\\\\\b\"\"\"\n",
    "query_words_final = \"\"\"\\\\\\\\b','i') || \"\"\"\n",
    "query_words_final_string = \"\"\"\\\\\\\\b','i')\"\"\"\n",
    "\n",
    "for i, word in enumerate(words):\n",
    "    if i < len(words)-1:\n",
    "        query_words += query_words_start+word+query_words_final\n",
    "    else:\n",
    "        query_words += query_words_start+word+query_words_final_string\n",
    "        \n",
    "\n",
    "query_close= \"\"\")\n",
    "    }\n",
    "group by ?id_pi?Titulo?proyecto_investigacion\n",
    "order by DESC(?c)\n",
    "\"\"\"\n",
    "\n",
    "query = query_prefix+query_words+query_close\n",
    "#print(query)"
   ]
  },
  {
   "cell_type": "markdown",
   "metadata": {},
   "source": [
    "### Realizamos la consulta"
   ]
  },
  {
   "cell_type": "code",
   "execution_count": 95,
   "metadata": {},
   "outputs": [],
   "source": [
    "sparql.setQuery(query)\n",
    "\n",
    "#order by DESC(?c)\n",
    "\n",
    "sparql.setReturnFormat(JSON)\n",
    "\n",
    "results = sparql.query().convert()\n",
    "results = results['results']['bindings']"
   ]
  },
  {
   "cell_type": "markdown",
   "metadata": {},
   "source": [
    "### Mostramos Resultados"
   ]
  },
  {
   "cell_type": "code",
   "execution_count": 96,
   "metadata": {},
   "outputs": [
    {
     "name": "stdout",
     "output_type": "stream",
     "text": [
      "(1) -> UMAYUX: UN MODELO DE SOFTWARE DE GESTION DE CONOCIMIENTO SOPORTADO EN UNA ONTOLOGIA DINAMICA DEBILMENTE ACOPLADO CON UN GESTOR DE BASE DE DATOS PARA LA UNIVERSIDAD DE NARIÑO\n",
      "(2) -> MOTOR DE BÚSQUEDA INTELIGENTE DE INFORMES DE INVESTIGACIÓN BASADO EN RECURSOS SEMÁNTICOS PARA EL SISTEMA DE INVESTIGACIONES DE LA UNIVERSIDAD DE NARIÑO\n",
      "(3) -> APROXIMACIÓN AL PENSAMIENTO JURÍDICO NARIÑENSE DESDE LAS FIGURAS DE JOSÉ RAFAEL SAÑUDO Y ERNESTO VELA ANGULO.\n",
      "(4) -> SITAPP: UNA APLICACIÓN INTELIGENTE PARA DISPOSITIVOS MÓVILES DEL SISTEMA DE RUTAS DE TRANSPORTE URBANO DEL MUNICIPIO DE PASTO\n",
      "(5) -> \"Diagnóstico del impacto de las iniciativas emprendedoras de los egresados del programa de diseño industrial de la Universidad de Nariño\"\n",
      "(6) -> ANÁLISIS DE FUNCIONALIDAD DE LA HERRAMIENTA DE INTELIGENCIA DE NEGOCIOS DE SOFTWARE LIBRE SPAGO BI ORIENTADA AL USO EN LAS PYMES DE LA REGIÓN\n",
      "(7) -> ANÁLISIS DE LA CONTRIBUCIÓN SOCIOECONÓMICA DE LAS MUJERES TRABAJADORAS EN LAS ZONAS RURALES DEL MUNICIPIO DE GUACHUCAL-DEPARTAMENTO DE NARIÑO. 2018\n",
      "(8) -> Análisis de factores de aprendizaje en seguridad alimentaria con comunidades rurales en el municipio de Pasto, departamento de Nariño.\n",
      "(9) -> CARACTERIZACIÓN AEROBIA Y ANAEROBIA DEL ÁREA DE INFLUENCIA DE LA PRODUCCIÓN DE TRUCHA ARCOÍRIS (Oncorhynchus mykiss) DE LA ESTACIÓN PISCÍCOLA INTIYACO EN EL LAGO GUAMUEZ DEPARTAMENTO DE NARIÑO\n",
      "(10) -> CARACTERIZACIÓN DEL ESPACIO ECONÓMICO Y SOCIAL DE FRONTERA ENTRE COLOMBIA Y ECUADOR (EFSCE).\n",
      "(11) -> CONSTRUCCIÓN DE UN REPOSITORIO LIMPIO DE DATOS PARA LA DETECCIÓN DE PATRONES DE EVENTOS ERUPTIVOS DEL VOLCÁN GALERAS CON TÉCNICAS DE MINERÍA DE DATOS\n",
      "(12) -> DISEÑO COLABORATIVO DE ESTRATEGIAS INTEGRALES PARA LUGARES DE ESPARCIMIENTO JUVENIL EN LA CIUDAD DE PASTO QUE FORTALEZCAN SU RECONOCIMIENTO E IMPULSEN EL TURISMO URBANO CON PROPIOS Y TURISTAS\n",
      "(13) -> Desarrollo de una estrategia pedagógica que facilite la articulación de las prácticas del dibujo analógico y digital en diseño industrial, a través del uso de herramientas tecnológicas\n",
      "(14) -> Desarrollo de una metodología de visualización interactiva y eficaz de información en Big Data.\n",
      "(15) -> Desarrollo y Aplicación de la Tecnología de Oxidación Avanzada PCFH para Mejorar la Calidad del Agua Potable en el Departamento de Nariño\n",
      "(16) -> Estudio de la Personalidad de los Gerentes de 12 Empresas Medianas con \"Goodwill\" en la Ciudad de San Juan de Pasto, Año 2017\n",
      "(17) -> FP-FLOCK: UN ALGORITMO PARA EL DESCUBRIMIENTO DE PATRONES DE AGRUPACIÓN DE OBJETOS MÓVILES EN BASES DE DATOS ESPACIO TEMPORALES\n",
      "(18) -> Fortalecimiento asociativo y productivo de los pequeños y medianos cultivadores de trucha de los municipios de Guachucal, Cumbal y Potosí del departamento de Nariño a través de la red empresarial como estrategia asociativa\n",
      "(19) -> Fortalecimiento de las actitudes tendientes a prevenir las manifestaciones de violencia basada en género en administrativos, docentes y estudiantes en la Universidad de Nariño\n",
      "(20) -> HONGOS FITOPATÓGENOS ASOCIADOS AL LAUREL DE CERA Morella pubescens\n",
      "(21) -> LA MEMORIA COLECTIVA SOBRE EL CAMBIO EN LA FIESTA DE LAS GUAGUAS DE PAN\n",
      "(22) -> La historia crítica del arte en Nariño\n",
      "(23) -> La lucha territorial de los indígenas en La Guerra de los Conventillos y otras revueltas locales.\n",
      "(24) -> Modelo de Gestión Humana con Enfoque en Competencias Aplicable a Empresas del Sector Servicio de la Ciudad de Pasto\n",
      "(25) -> Modelo de Gestión Humana con Enfoque en Competencias Aplicable a Empresas del Sector Servicio de la Ciudad de Pasto\n",
      "(26) -> PROPUESTA DE EXTENSIÓN RURAL PARA AGRICULTORES MINIFUNDISTAS DE LA VEREDA MARQUEZA ALTA, MUNICIPIO DE TANGUA\n",
      "(27) -> RECONOCIMIENTO INTERESPECIFICO DEL CANTO ENTRE Epipedobates boulengeri y E. narinensis (Anura: Dendrobatidae) DEL PACIFICO DE NARIÑO, COLOMBIA.\n",
      "(28) -> Relevancia del plan o catálogo de cuentas de cara al nuevo marco técnico normativo en el proceso de enseñanza-aprendizaje de la contabilidad en los programas de contaduría pública en las universidades de la ciudad de Pasto\n",
      "(29) -> Sistema de Información Integral Hacia la Estandarización de los Procesos de Producción de Cafés Especiales en el Municipio de Buesaco\n",
      "(30) -> Sistema de aprendizaje interactivo para la apropiación del conocimiento agroforestal\n",
      "(31) -> UN APLICACIÓN DE BASES DE DATOS NoSQL PARA LA GESTIÓN DE INFORMACIÓN DE EGRESADOS DEL PROGRAMA DE INGENIERÍA DE SISTEMAS DE LA UNIVERSIDAD DE NARIÑO\n",
      "(32) -> VALIDACIÓN DE HERRAMIENTAS DIDÁCTICAS PARA LA ENSEÑANZA AGROFORESTAL, EN LAS VEREDAS SAN FELIPE, NUEVA CAMPILLA Y MARQUEZA, DEPARTAMENTO DE NARIÑO\n",
      "(33) -> ¿Qué conocimiento tienen los educadores matemáticos en formación de la Universidad de Nariño para promover el estudio de la conversión a través de la enseñanza del infinito mediado por el uso del CABRI? Un estudio de diseños de enseñanza.\n",
      "(34) -> ACTIVIDAD ANTIBACTERIAL DE POLIFENOLES DEL AGUACATE (Persea americana var. Hass) SOBRE Helicobacter pylori AISLADO DE PACIENTES DE UNA ZONA DE ALTO RIESGO DE CANCER GASTRICO DEL DEPARTAMENTO DE NARIÑO.\n",
      "(35) -> ALMACENAMIENTO DE CARBONO EN EL SUELO Y LA BIOMASA ARBOREA EN DIFERENTES SISTEMAS DE USO DEL SUELO DE LA ZONA ALTO ANDINA, DEPARTAMENTO DE NARIÑO.\n",
      "(36) -> ANALISIS DEL VALOR AGREGADO GENERADO POR LA UNIVERSIDAD DE NARIÑO EN RELACION A LAS PRUEBAS SABER 11 - SABER PRO 2014-2016.\n",
      "(37) -> ANÁLISIS DE ALGORITMOS PARALELOS PARA LA TAREA DE MINERÍA DE DATOS ASOCIACIÓN\n",
      "(38) -> ANÁLISIS DE LA DIVERSIDAD BACTERIANA DEL CÁTODO DE UNA CELDA DE COMBUSTIBLE MICROBIANA REDUCTORA DE CROMO HEXAVALENTE - Cr(VI).\n",
      "(39) -> ANÁLISIS TEÓRICO JURÍDICO DESDE CONTEXTOS REGIONALES: PENSAMIENTO JURÍDICO EN NARIÑO EN EL PERÍODO 1904 -1970\n",
      "(40) -> APLICACIÓN DE LA MINERÍA DE DATOS EN LA DETECCIÓN DE PATRONES DE DESEMPEÑO EN LAS COMPETENCIAS GENÉRICAS DE LAS PRUEBAS SABER PRO 2012, 2013 y 2014 DE LOS ESTUDIANTES DE LOS PROGRAMAS PROFESIONALES DE LA UNIVERSIDAD DE NARIÑO\n",
      "(41) -> APLICACIÓN DE TÉCNICAS DE MINERÍA DE DATOS PARA EL DESCUBRIMIENTO DE FACTORES ASOCIADOS AL DESEMPEÑO ACADÉMICO EN LAS PRUEBAS SABER 5° DE LOS ESTUDIANTES DE LAS INSTITUCIONES EDUCATIVAS DEL DEPARTAMENTO DE NARIÑO.\n",
      "(42) -> APLICACIÓN DE UNA METODOLOGÍA de TRABAJO INTERDISCIPLINARIA, CON ENFOQUE DE ACCIÓN SIN DAÑO EN EL RELACIONAMIENTO ACADEMIA - COMUNIDAD PARA EL DESARROLLO LOCAL, EN LAS MICROCUENCAS DE MIRAFLORES MUNICIPIO DE TANGUA Y MIJITAYO MUNICIPIO DE PASTO, DEPARTAMENTO DE NARIÑO.\n",
      "(43) -> APROXIMACION AL RIESGO DE INUNDACION Y ENTERRAMIENTO POR LAHARES PROVENIENTES DE LA QUEBRADA MIJITAYO EN EL SECTOR DE TAMASAGRA Y ZONAS ALEDAÑAS.\n",
      "(44) -> Actividad antibacterial y citotóxica in vitro de aceites vegetales de semillas de frutas tropicales y andinas.\n",
      "(45) -> Análisis curricular de programas de grado de la Facultad de Artes de la Universidad de Nariño con fines de reforma y acreditación. Caso: Diseño Gráfico.\n",
      "(46) -> Análisis curricular de programas de pregrado de la Facultad de Artes de la Universidad de Nariño con fines de reforma y acreditación. Caso: Diseño Industrial\n",
      "(47) -> Análisis de la percepción de jóvenes rurales frente al ecoturismo en el Centro Ambiental Chimayoy, municipio de Pasto, Nariño\n",
      "(48) -> Análisis de los procesos creativos de los artesanos del Carnaval de Negros y Blancos de San Juan de Pasto en el desarrollo de las carrozas ganadoras periodo 2010-2019, para la preservación y transmisión de los saberes ancestrales hacia una memoria cultural a partir del uso del diseño, la innovación y las nuevas tecnologías.\n",
      "(49) -> Análisis estructural y de contenido del Módulo de Razonamiento Cuantitativo de las Pruebas SABER PRO.\n",
      "(50) -> Aproximación al intercambio de conocimiento en diseño, mediante los procesos de co-creación, logrados al interior del Proyecto Mtic-design Knowledge Exchange Program - Universidad de Nariño 2016\n",
      "(51) -> BETALAÍNAS DEL FRUTO DE PITAYA AMARILLA (Selenicereus megalanthus): IDENTIFICACIÓN, ESTABILIDAD Y ACTIVIDAD ANTIOXIDANTE IN VITRO.\n",
      "(52) -> COMPARACIÓN DE DOS SISTEMAS DE PRODUCCIÓN DE CUYES (Cavia porcellus): TRADICIONAL Y TECNIFICADO, MEDIANTE LA EVALUACIÓN MICROSCÓPICA, HISTOQUÍMICA E INMUNOHISTOQUIMICA DEL TRACTO GASTROINTESTINAL.\n",
      "(53) -> COMPARACIÓN DEL RENDIMIENTO Y CALIDAD DEL ACEITE VEGETAL EXTRAÍDO DE PULPA DE AGUACATE (Persea americana Mill) MEDIANTE EXTRACCIÓN SOXHLET CON ETANOL, HEXANO Y EXTRACCIÓN CON CO2 SUPERCRÍTICO, COMO ALTERNATIVA PARA DISMINUIR LAS PERDIDAS POSTCOSECHA EN LA PRODUCCIÓN DE AGUACATE EN EL DEPARTAMENTO DE NARIÑO\n",
      "(54) -> COMPARACIÓN DEL TAMAÑO MÍNIMO DE LA MADUREZ SEXUAL Y DE LA POSTURA DE Pristimantis myersi y Pristimantis unistrigatus (ANURA, CRAUGASTORIDAE) DISTRIBUIDAS EN LOS DEPARTAMENTOS DE NARIÑO Y CAUCA.\n",
      "(55) -> COMUNICACIÓN EN LA MOVILIDAD URBANA: nuevas perspectivas desde el diseño industrial (modalidad, creacion artistica y cultural)\n",
      "(56) -> CONTENIDO DE BETALAÍNAS Y ACTIVIDAD ANTIOXIDANTE IN-VITRO DEL ULLUCO (Ullucus tuberosus)\n",
      "(57) -> CRITERIOS DE EVALUACIÓN EMPLEADOS POR LOS DOCENTES EN LA EVALUACIÓN DE LA PRODUCCIÓN ESCRITA DE LOS ESTUDIANTES DE LA LICENCIATURA EN LENGUA CASTELLANA Y LITERATURA\n",
      "(58) -> CUANTIFICACION DEL ALMACENAMIENTO DE CARBONO DE LEÑOSAS PERENNES EN EL MUNICIPIO DE PASTO DEPARTAMENTO DE NARIÑO\n",
      "(59) -> CULTIVO DEL HONGO MEDICINAL Pleurotus ostreatus Y DETERMINACIÓN DE SU ACTIVIDAD ENZIMÁTICA Y ANTIOXIDANTE\n",
      "(60) -> Calidad de Vida Laboral (CVL) en relación a los roles de género en docentes de la Universidad de Nariño.\n",
      "(61) -> Caracterización del juego autóctono de la chaza de la región suroccidental del departamento de Nariño, para su implementación lúdica y educativa en entornos digitales a través de aplicaciones en realidad aumentada o virtual.\n",
      "(62) -> Ciudarnos: Proyecto de Investigación - creación sobre la estética cotidiana en los sujetos y los espacios de San Juan de Pasto.\n",
      "(63) -> Comportamiento proecológico y austero en el personal administrativo, en el marco del Sistema de Gestión Ambiental de la Universidad de Nariño\n",
      "(64) -> Comprensión de la experiencia moral y el significado de cultura de paz en un grupo de agentes sociales, no gubernamentales y gubernamentales del departamento de Nariño -Colombia.\n",
      "(65) -> Conocimiento local sobre especias arbóreas con potencial agroforestal en el corregimiento de Morasurco Pasto Nariño\n",
      "(66) -> Convivencia escolar entre estudiantes de la Institución Educativa Municipal Luis Delfín Insuasty Rodríguez INEM de Pasto: Encuentros y tensiones generacionales.\n",
      "(67) -> DEFINICIÓN DE UNA PRACTICA DE DESARROLLO DE SOFTWARE PARA EQUIPOS DE TRABAJO SIN RESTRICCIONES DE TIEMPO Y ESPACIO UTILIZANDO LOS PRINCIPIOS DE SEMAT\n",
      "(68) -> DESCUBRIMIENTO DE FACTORES ASOCIADOS AL DESEMPEÑO ACADÉMICO EN LAS PRUEBAS SABER 11° DE LOS ESTUDIANTES DE LAS INSTITUCIONES EDUCATIVAS DEL DEPARTAMENTO DE NARIÑO CON TÉCNICAS DESCRIPTIVAS DE MINERÍA DE DATOS\n",
      "(69) -> DETECCIÓN SEROLÓGICA Y MOLECULAR DE VIRUS ASOCIADOS A ACHIRA (Canna edulis Ker.) EN NARIÑO\n",
      "(70) -> DETERMINACIÓN DE ACETOGENINAS PRESENTES EN SEMILLAS DE Annona muricata (GUANÁBANA) MEDIANTE CROMATOGRAFÍA LIQUIDA DE ALTA EFICIENCIA\n",
      "(71) -> DETERMINACIÓN DE PRINCIPIOS ACTIVOS MEDICINALES DEL HONGO Ganoderma lucidum CULTIVADO SOBRE RESIDUOS SÓLIDOS Y SU USO EN LA PRODUCCIÓN DE UN ALIMENTO FUNCIONAL\n",
      "(72) -> DIAGNÓSTICO DEL SISTEMA ACTUAL DE MANEJO DE RESIDUOS EN SAN ANDRÉS DE TUMACO DE ACUERDO CON LA METODOLOGÍA DE LA GUÍA DE PLANEACIÓN ESTRATÉGICA PROPUESTA POR EL MINISTERIO DE VIVIENDA, AGUA Y SANEAMIENTO BÁSICO\n",
      "(73) -> DISEÑO Y ESTABLECIMIENTO DE UNA BIBLIOTECA BIOACÚSTICA DE REFERENCIA DE LAS AVES DEL SUROCCIDENTE COLOMBIANO COMO HERRAMIENTA DE APOYO A PROCESOS INVESTIGATIVOS DE LA UNIVERSIDAD DE NARIÑO\n",
      "(74) -> Desarrollo de microencapsulados a partir del aprovechamiento integral de limón Tahití (Citrus latifolia) en el departamento de Nariño\n",
      "(75) -> Diagnóstico Molecular de Virus del Cultivo de Papa (Solanum tuberosum) en los Municipios de la Ex-provincia de Obando.\n",
      "(76) -> Didáctica universitaria, retos desde una realidad local.\n",
      "(77) -> Dinámica de las exportaciones del sector agrícola y su incidencia en el desarrollo rural sostenible en el departamento de Nariño en el periodo 2010-2015\n",
      "(78) -> Diseño de sistemas de comunicaciones de onda milimétrica\n",
      "(79) -> EFECTIVIDAD DE ESTRATEGIAS EDUCATIVAS, PARA MEJORAR CONOCIMIENTOS, ACTITUDES Y PRÁCTICAS SOBRE HIPERTENSIÓN ARTERIAL, EN PERSONAS AFILIADAS A LA EPS EMSSANAR, DENTRO DEL MARCO DEL MODELO DE ATENCIÓN INTEGRAL EN SALUD, EN EL MUNICIPIO DE IMUES - NARIÑO DURANTE EL PERIODO 2018 - 2019.\n",
      "(80) -> EFECTO DEL CAMBIO DE USO DEL SUELO SOBRE LA CANTIDAD SUPERFICIAL DEL RECURSO HIDRICO EN LA MICROCUENCA MIJITAYO, MUNICIPIO DE PASTO, DEPARTAMENTO DE NARIÑO\n",
      "(81) -> ERRORES CONCEPTUALES EN LOS DOCENTES DE CIENCIAS NATURALES Y EDUCACIÓN AMBIENTAL DE EDUCACIÓN BÁSICA PRIMARIA DE LAS NORMALES SUPERIORES DE NARIÑO Y PUTUMAYO\n",
      "(82) -> ESPECIES FORESTALES CON POTENCIAL AGROFORESTAL EN LA COSTA PACIFICA, MUNICIPIO DE TUMACO, DEPARTAMENTO DE NARIÑO.\n",
      "(83) -> ESTRATEGIAS PEDAGÓGICAS POR COMPETENCIAS EN LAS LICENCIATURAS EN BÁSICA CON ÉNFASIS EN: CIENCIAS SOCIALES- LEBCIS, CIENCIAS NATURALES Y EDUCACIÓN AMBIENTAL- LEBCINEA Y DISEÑO GRÁFICO DE LA UNIVERSIDAD DE NARIÑO: 2007-2014.\n",
      "(84) -> ESTUDIO COMPARATIVO DE METODOLOGÍAS DE DESARROLLO DE SOFTWARE\n",
      "(85) -> ESTUDIO COMPUTACIONAL DEL EQUILIBRIO TAUTOMÉRICO EN 1,2,4-TRIAZOLES-3-AMINO-5-SUSTITUIDOS\n",
      "(86) -> ESTUDIO DE LA CINÉTICA DE PÉRDIDA DE HUMEDAD Y ABSORCIÓN DE ACEITE DURANTE LA FRITURA DE ARVEJA (PISUM SATIVUM L), DE DOS VARIEDADES CULTIVADAS EN EL DEPARTAMENTO DE NARIÑO.\n",
      "(87) -> ESTUDIO DE LA PRODUCTIVIDAD EN EL CULTIVO DE CAMARONES EN TANQUES DE GEOMEBRANAS EN EL MUNICIPIO DE TUMACO, MEDIANTE LA IMPLEMENTACIÓN DE UN SISTEMA IOT DE MONITOREO Y CONTROL DE LAS VARIABLES OXÍGENO DISUELTO, TEMPERATURA Y AMONIO.\n",
      "(88) -> ESTUDIO DE LA VULNERABILIDAD EN CUBIERTAS DEL INSTITUTO EDUCATIVO MUNICIPAL TÉCNICO INDUSTRIAL E IGLESIAS NIÑO JESÚS DE LAS PASCUAS Y LA DIVINA PASTORA DEL CORREGIMIENTO DE MAPACHICO ANTE CAÍDA DE CENIZAS\n",
      "(89) -> ESTUDIO DEL POTENCIAL ACUÍCOLA DE LA SABALETA (Brycon henni) ORIGINARIA DE LAS CUENCAS HIDROGRÁFICAS DE LOS RÍOS MAYO Y JUANAMBÚ, DEPARTAMENTO DE NARIÑO, COLOMBIA.\n",
      "(90) -> EVALUACION DEL FERTIRIEGO CON SILICIO EN EL CONTROL DE MILDEO POLVOSO (Peronospora pannosa var, rosae EN ROSA VAR. VENDELA, REED UNIQUE Y MIRACLE\n",
      "(91) -> EVALUACIÓN COMUNITARIA DE SERVICIOS ECOSISTÉMICOS DEL HUMEDAL NATURAL DEL CENTRO AMBIENTAL CHIMAYOY, PASTO - NARIÑO\n",
      "(92) -> EVALUACIÓN DE LA BIODIVERSIDAD EN SISTEMAS AGROFORESTALES DE LA MICROCUENCA MIJITAYO, MUNICIPIO DE PASTO, DEPARTAMENTO DE NARIÑO.\n",
      "(93) -> EVALUACIÓN DE LAS CARACTERÍSTICAS FISICOQUIMICAS, FISIOLOGICAS Y BROMATOLOGICAS DEL FRUTO DEL OBO (Spondias sp) PARA SU PROCESAMIENTO AGROINDUSTRIAL\n",
      "(94) -> EVALUACIÓN DE TRES TIPOS FOTOBIORREACTORES PARA EL CULTIVO DE MICROALGAS EN EL LABORATORIO DE PRODUCTIVIDAD PRIMARIA DEL PROGRAMA INGENIERÍA EN PRODUCCIÓN ACUÍCOLA DE LA UNIVERSIDAD DE NARIÑO\n",
      "(95) -> EVALUACIÓN DE VARIABLES AGRONÓMICAS MEDIANTE VEHÍCULOS AÉREOS NO TRIPULADOS EN DOS ESPECIES DE IMPORTANCIA AGRONÓMICA EN EL MUNICIPIO DE PASTO, DEPARTAMENTO DE NARIÑO.\n",
      "(96) -> EVALUACIÓN DEL EFECTO DE SIETE ABONOS VERDES SOBRE EL RENDIMIENTO DE TRES CULTIVOS TRANSITORIOS EN DOS ANDISOLES DEL MUNICIPIO DE PASTO DEPARTAMENTO DE NARIÑO.\n",
      "(97) -> EVALUACIÓN DEL EFECTO DE UN PROGRAMA DE PREVENCIÓN DE CONDUCTAS SUICIDAS NO LETALES EN ADOLESCENTES ESCOLARIZADOS DE IEM CIUDAD DE PASTO\n",
      "(98) -> EVALUACIÓN DEL EFECTO DEL ACEITE VEGETAL EXTRAÍDO DE SEMILLAS DE Annona muricata SOBRE LA LIBERACIÓN DE GRÁNULOS DE METALOPROTEINASA DE MATRIZ 9 (MMP-9) EN NEUTRÓFILOS HUMANOS\n",
      "(99) -> EVALUACIÓN DEL POTENCIAL TURISTÍCO RURAL EN LA RUTA HISTÓRICA DE TACINES, MUNICIPIOS PASTO Y BUESACO, DEPARTAMENTO DE NARIÑO\n",
      "(100) -> EVALUACIÓN In vivo DE LA ACTIVIDAD PROBIÓTICA DE Lactobacillus plantarum MICROENCAPSULADO SOBRE MORFOLOGÍA INTESTINAL, PARÁMETROS PRODUCTIVOS, INMUNOLÓGICOS, Y BIOQUÍMICOS EN POLLO DE ENGORDE.\n",
      "(101) -> EXTRACCIÓN DE COLORANTES A PARTIR DE PULPA DE CAFÉ (Coffea arabica sp.) MEDIANTE CO2 SUPERCRÍTICO Y EXTRACCIÓN SOXHLET\n",
      "(102) -> EXTRACCIÓN Y CARACTERIZACIÓN QUÍMICA DE PRINCIPIOS ACTIVOS DE ESTRUCTURA FENÓLICA CON PROPIEDADES ANTIOXIDANTES Y ANTIFÚNGICAS (HONGOS DERMATOFITOS), A PARTIR DEL FRUTO DE SANCIA Coriaría ruscifolia L.\n",
      "(103) -> Efecto del Sistema Electrónico para el Suministro de Contingencias en el Comportamiento en el Aula de Clases (SESCCA)\n",
      "(104) -> Efecto del macerado total y del aceite esencial de los frutos maduros de Carica candamarcensis Hook (sin. Vasconcellea pubescens) en la liberación de MMP 9 en neutrófilos aislados de sangre periférica humana, estimulados con LPS (Escherichia coli O55:B5)\n",
      "(105) -> El papel de la mujer en la Ciencia, la tecnología y la innovación en el departamento de Nariño, 2018\n",
      "(106) -> Elementos teóricos y metodológicos para la construcción de una estrategia comunitaria de prevención de consumo de SPA en la Universidad de Nariño\n",
      "(107) -> Empoderamiento comunitario de los factores psicosociales asociados al proceso de participación estudiantil en la universidad de Nariño sede Pasto.\n",
      "(108) -> Estimación del riesgo por flujos de lodos de la quebrada Mijitayo de la ciudad de Pasto en el sector Tamasagra. Parte I\n",
      "(109) -> Estudio de la variabilidad genética del camarón blanco Litopenaeus vannamei de la región del Pacífico Nariñense mediante análisis de secuencias de ADN por métodos bioinformáticos.\n",
      "(110) -> Estudio fenológico de la flora silvestre nativa con potencial para procesos de restauración ecológica en bosque altoandino del municipio de Pasto, departamento de Nariño\n",
      "(111) -> Estudio químico y capacidad antioxidante de pigmentos tipo antocianinas presentes en dos especies de flores silvestres (Tibouchina urvilleana y Tibouchina mollis) del departamento de Nariño\n",
      "(112) -> Etnoeducación, discursos y alteridad: La construcción del sujeto étnico negro desde un enfoque de la gubernamentalidad en Colombia, 1991-1998.\n",
      "(113) -> Evaluación del desempeño integral de celdas de combustible microbianas reductoras de cromo hexavalente Cr(VI) con bioánodo en el proceso de bioremediación de aguas residuales de la industria láctea del Departamento de Nariño\n",
      "(114) -> Evaluación del sistema silvoagrícola laurel de cera (Morella pubescens H.B.K) en asocio con yacón Smallanthus sonchifolius, en la Granja Experimental Botana, municipio de Pasto.\n",
      "(115) -> Exploración de nuevas alternativas de intervención de la madera con materiales complementarios en el taller curricular de Materiales I - Maderas del programa de diseño industrial de la Universidad de Nariño\n",
      "(116) -> FERTILIZACIÓN NPK DE Physalis peruviana ASOCIADA CON SU POTENCIAL DE CRECIMIENTO, NUTRICIONAL Y PRODUCTIVO\n",
      "(117) -> FRONTERAS DEL CONOCIMIENTO DE INVESTIGACIÓN EN EDUCACIÓN EN CIENCIAS Y TECNOLOGÍA. UNA MIRADA DESDE COLOMBIA. (Estado del Arte)\n",
      "(118) -> Factores que inciden en el nivel de aprendizaje del inglés de los bachilleres de la ciudad de Pasto.\n",
      "(119) -> Formación \"in-situ\" de nanoclusters metálicos intercalados en arcillas naturales y sintéticas\n",
      "(120) -> Fortalecimiento de capacidades científicas en ecofisiología de plantas e implementación de procesos de investigación en patrones fisiológicos y funcionales de plantas nativas y endémicas como valores objeto para la conservación de la biodiversidad de los páramos andinos (Colombia)\n",
      "(121) -> Generalización del método de Newton y sus aplicaciones\n",
      "(122) -> Georreferenciación a nivel de direcciones urbanas de eventos delictivos fatales y no fatales a partir de la información almacenada en el Observatorio del Delito del Municipio de Pasto\n",
      "(123) -> HETEROPTERA SEMIACUATICOS DEL NOROESTE DE LA AMAZONIA (PUTUMAYO, COLOMBIA)\n",
      "(124) -> Habilidades de pensamiento en estudiantes de las Escuelas Normales Superiores de los Departamentos de Nariño y Putumayo.\n",
      "(125) -> Historia de la actividad del volcán Galeras 2004-2006 y respuestas de los líderes comunitarios habitantes de la zona de amenaza volcánica alta \"Zava\" del municipio de Pasto-Nariño.\n",
      "(126) -> Historia de las Matemáticas en Colombia: una innovación en el currículo del programa de Licenciatura en Matemáticas de la Universidad de Nariño\n",
      "(127) -> IDENTIFICACIÓN DE LA CADENA PRODUCTIVA ARTESANAL DE NARIÑO (CAPRAN).\n",
      "(128) -> IMARAÑA: UNA HERRAMIENTA WEB DE ANALÍTICA DE DATOS BASADA EN EL LENGUAJE R PARA SOPORTAR LA TOMA DE DECISIONES EN LAS PYMES DEL DEPARTAMENTO DE NARIÑO\n",
      "(129) -> IMPLICACIONES DEL DESARROLLO SOCIO AFECTIVO DE LOS MAESTROS EN FORMACIÓN INICIAL DEL DEPARTAMENTO DE CIENCIAS SOCIALES UNIVERSIDAD DE NARIÑO, EN SUS PRÁCTICAS PEDAGÓGICAS 2014-2015\n",
      "(130) -> INCIDENCIA DEL ÁREA DE COBERTURA VEGETAL SOBRE LA CALIDAD AMBIENTAL DEL HABITANTE URBANO EN LA CIUDAD DE PASTO.\n",
      "(131) -> INTERDISCIPLINA Y DISEÑO La investigación interdisciplinaria como proceso de formación de competencias disciplinarias para el diseñador industrial.\n",
      "(132) -> Innovación social para el empoderamiento de las madres jóvenes y estudiantes de la Institución Educativa Municipal de Obonuco a partir del diseño colaborativo como mecanismo para mejorar las practicas sociales en torno a la igualdad y equidad de genero.\n",
      "(133) -> Inventario y Catalogación del patrimonio pictográfico de la Universidad de Nariño.\n",
      "(134) -> Justicia Social y Educación Matemática: Una mirada a la formación de maestros de matemáticas\n",
      "(135) -> LA CREACIÓN DIDÁCTICA Y LOS GESTOS DEL ARTE Emergencias epistemológicas, pedagógicas y metodológicas en los procesos de interacción entre la Creación Didáctica y la Creación Artística.\n",
      "(136) -> LOS GERROMORPHA DEL PIEDEMONTE SUR DE LA AMAZONIA (PUTUMAYO, COLOMBIA)\n",
      "(137) -> La Acción Comunicativa de los Maestros del Nivel de Educación Básica Primaria: Un referente para la Formación Inicial de los maestros\n",
      "(138) -> La Disolución y Reestructuración de los Resguardos Quillasingas del Valle de Atriz.\n",
      "(139) -> La Gestión Pedagógica de la Enseñanza Problémica en las Ciencias Sociales, Universidad de Nariño\n",
      "(140) -> La poética del lugar a través de la creación audiovisual. -Fase experimental de Video Mapping sobre el pasaje Pueyo de Val en la Plaza de Nariño en Pasto-\n",
      "(141) -> Las Musas En El Asfalto: Arte Político Nariñense Contemporáneo\n",
      "(142) -> MAKIPURAY: UNA HERRAMIENTA WEB DE INTELIGENCIA DE NEGOCIOS PARA EL DESCUBRIMIENTO DE CONOCIMIENTO ORIENTADA A LAS PYME DEL DEPARTAMENTO DE NARIÑO\n",
      "(143) -> MAÍZ, PRÁCTICAS DE LA TIERRA GRÁFICADAS CON GRANITOS DE ORO\n",
      "(144) -> MODELADO MATEMÁTICO SOBRE LOS PRINCIPALES MECANISMOS DE ADQUISICIÓN DE RESISTENCIA BACTERIANA A ANTIBIÓTICOS CONSIDERANDO ESTRATEGIAS DE CONTROL QUE INCIDEN EN LA DISMINUCIÓN DE SU POBLACIÓN.\n",
      "(145) -> Miradas entre sí: la percepción social entre estudiantes y docentes de Ciencias Sociales en el Liceo Integrado de la Universidad de Nariño\n",
      "(146) -> Modelación matemática sobre la interacción molecular del Mycobacterium tuberculosis y células dendríticas\n",
      "(147) -> NIVEL DE INGLÉS DE ESTUDIANTES Y DOCENTES EN LOS PROGRAMAS Y FACULTADES DE LA UNIVERSIDAD DE NARIÑO, SEDE PASTO, A TRAVÉS DE UNA PRUEBA INTERNACIONAL ESTANDARIZADA PARA DEFINIR UNA POLITICA DE LA LENGUA EXTRANJERA, INGLÉS Y UN PLAN DE MEJORAMIENTO\n",
      "(148) -> Observatorio de Justicia Regional. Administración de Justicia en Nariño - VI Etapa\n",
      "(149) -> Observatorio del Comercio Electrónico Fase I. : Análisis de los sistemas de solución de controversias en línea (Online Dispute Resolution - ODR) utilizados por actores del comercio electrónico, públicos o privados con asiento en Colombia, frente al derecho internacional y comparado.\n",
      "(150) -> PATRONES BIOGEOGRÁFICOS DE DIVERSIDAD DE MURCIÉLAGOS EN COLOMBIA Y ÁREAS PRIORITARIAS PARA SU CONSERVACIÓN\n",
      "(151) -> PROMOCIÓN DE NUEVO CONOCIMIENTO A TRAVÉS DE LA CARACTERIZACIÓN DE FIBRAS VEGETALES NARIÑENSES Y OTROS MATERIALES QUE SE PUEDEN APLICAR EN EL DISEÑO INDUSTRIAL\n",
      "(152) -> PRÁCTICAS SOCIALES Y EDUCATIVAS EN LAS FACULTADES DE EDUCACIÓN, CIENCIAS HUMANAS Y ARTES DE LA UNIVERSIDAD DE NARIÑO, EN EL MARCO DE LA PEDAGOGÍA SOCIAL: 1992- 2015.\n",
      "(153) -> Plan de Mejoramiento y Actualización Pedagógica de los Laboratorios de Física II, Física Fundamental II y Física III del Programa de Física de la Universidad de Nariño\n",
      "(154) -> Principios activos de polifenoles de la semilla de aguacate (Persea americana var. Hass) con actividad anti-Helicobacter pylori aislado de una zona de Nariño con alto riesgo de cáncer gástrico\n",
      "(155) -> Programa de televisión jurídica: rutas de acceso para difusión de procedimientos jurídicos de protección y garantía de derechos\n",
      "(156) -> Propiedades psicométricas de una prueba para medir el pensamiento crítico a estudiantes de pregrado de Colombia, México y Chile.\n",
      "(157) -> REPRESENTACIONES DE LO INDIGENA EN LOS MANUALES ESCOLARES DE HISTORIA DE COLOMBIA (1948-1990)\n",
      "(158) -> Regeneración \"in vitro\" de plantas de tomate de arbol (Solanum betaceum Cav.)\n",
      "(159) -> Resolución de problemas: un medio para la formación matemática\n",
      "(160) -> Revisión del estado actual del curso Termodinámica y su disponibilidad de equipos de laboratorio.\n",
      "(161) -> Rikhuna: Visor cartográfico inteligente de direcciones urbanas y sitios de interés del municipio de Pasto basado en PostGIS.\n",
      "(162) -> Rápido Prototipado\n",
      "(163) -> SEMISÍNTESIS DE BETAXANTINAS, ESTUDIO DE SU ESTABILIDAD Y DE SU ACTIVIDAD ANTIOXIDANTE IN VITRO.\n",
      "(164) -> SISTEMA COMPUTACIONAL DE APOYO A LA GENERACIÓN DE HORARIOS DE CLASES PARA LA FACULTAD DE INGENIERÍA DE LA UNIVERSIDAD DE NARIÑO BASADO EN ALGORITMOS GENÉTICOS\n",
      "(165) -> TRANSFORMACIONES DEL ESPACIO SOCIAL EN LOS CORREGIMIENTOS DE: JAMONDINO Y CATAMBUCO DEL MUNICIPIO DE PASTO, NUEVAS RURALIDADES CONSTRUIDAS DESDE LA DÉCADA DE 1970 AL 2017\n",
      "(166) -> Tramas y urdimbres de pensamiento, narrativas en la Guanga. Resguardo de Pastas, proyecto de investigación creación\n",
      "(167) -> UN MERCADO DE DATOS PARA EL ANÁLISIS MULTIDIMENSIONAL DE LAS PRUEBAS SABER 5 DE LAS INSTITUCIONES EDUCATIVAS DE LOS MUNICIPIOS DE LA SUBREGIÓN DE OBANDO DEL DEPARTAMENTO DE NARIÑO\n",
      "(168) -> VALORACIÓN DEL EXTRACTO DE LOS FRUTOS DE Leandra subseriata (Naudin) Cong COMO AGENTE ANTIOXIDANTE Y DE REGULACIÓN DE LIBERACIÓN GRÁNULOS DE GELATINASA EN NEUTRÓFILOS HUMANOS\n",
      "(169) -> Variabilidad genética y su relación con la especificidad de hospedero en aislamientos de Phytophthora obtenidos de diferentes especies de Solanáceas cultivadas en el sur de Colombia.\n",
      "(170) -> Visibilidad y reconocimiento del Departamento de Diseño de la Universidad de Nariño a partir del diseño colaborativo.\n",
      "(171) -> investigación participativa para el fortalecimiento del proyecto ambiental escolar (PRAE) en el corregimiento de Morasurco del municipío de Pasto, Nariño\n"
     ]
    }
   ],
   "source": [
    "for i, result in enumerate(results):\n",
    "    print(f'({i+1}) -> ' + result['Titulo']['value'])"
   ]
  },
  {
   "cell_type": "code",
   "execution_count": 97,
   "metadata": {},
   "outputs": [
    {
     "data": {
      "text/plain": [
       "171"
      ]
     },
     "execution_count": 97,
     "metadata": {},
     "output_type": "execute_result"
    }
   ],
   "source": [
    "id_docs = [result['id_pi']['value'] for result in results ]\n",
    "len(id_docs)"
   ]
  },
  {
   "cell_type": "code",
   "execution_count": 2,
   "metadata": {},
   "outputs": [],
   "source": [
    "qres = g.query(\n",
    "    \"\"\"\n",
    "PREFIX rdf: <http://www.w3.org/1999/02/22-rdf-syntax-ns#>\n",
    "PREFIX owl: <http://www.w3.org/2002/07/owl#>\n",
    "PREFIX rdfs: <http://www.w3.org/2000/01/rdf-schema#>\n",
    "PREFIX xsd: <http://www.w3.org/2001/XMLSchema#>\n",
    "PREFIX po: <http://www.semanticweb.org/OntologiaInvestigacionPrueba#>\n",
    "select ?id_pi?Titulo?proyecto_investigacion (count(?id_pi)as ?c)\n",
    "where{\n",
    "        ?proyecto_investigacion po:pi_tiene_palabra ?palabra.\n",
    "        ?proyecto_investigacion po:titulo_proyecto_investigacion ?Titulo.\n",
    "        ?proyecto_investigacion po:id_proyecto_investigacion ?id_pi.\n",
    "        ?palabra po:descripcion_palabra ?descripcion.\n",
    "        FILTER (\n",
    "            REGEX(str(?descripcion), 'descubrimiento','i')||\n",
    "            REGEX(str(?descripcion), 'conocimiento','i')\n",
    "        )\n",
    "    }\n",
    "group by ?id_pi?Titulo?proyecto_investigacion\n",
    "\"\"\")\n"
   ]
  },
  {
   "cell_type": "code",
   "execution_count": 11,
   "metadata": {},
   "outputs": [],
   "source": [
    "qres = g.query(\n",
    "    \"\"\"\n",
    "PREFIX rdf: <http://www.w3.org/1999/02/22-rdf-syntax-ns#>\n",
    "PREFIX owl: <http://www.w3.org/2002/07/owl#>\n",
    "PREFIX rdfs: <http://www.w3.org/2000/01/rdf-schema#>\n",
    "PREFIX xsd: <http://www.w3.org/2001/XMLSchema#>\n",
    "PREFIX po: <http://www.semanticweb.org/OntologiaInvestigacionPrueba#>\n",
    "select ?id_pi?Titulo?proyecto_investigacion (count(?id_pi)as ?c)\n",
    "where{\n",
    "        ?palabras po:palabra_describe_pi ?proyecto_investigacion.\n",
    "        ?proyecto_investigacion po:titulo_proyecto_investigacion ?Titulo.\n",
    "        ?proyecto_investigacion po:id_proyecto_investigacion ?id_pi.\n",
    "        ?palabras po:descripcion_palabra ?descripcion.\n",
    "        FILTER (\n",
    "            REGEX(str(?descripcion), 'descubrimiento','i')||\n",
    "            REGEX(str(?descripcion), 'conocimiento','i')\n",
    "        )\n",
    "    }\n",
    "group by ?id_pi?Titulo?proyecto_investigacion\n",
    "order by DESC(?c)\n",
    "\"\"\")"
   ]
  },
  {
   "cell_type": "code",
   "execution_count": 5,
   "metadata": {
    "tags": []
   },
   "outputs": [],
   "source": [
    "#Directa\n",
    "trabajos = list(graph.query(\"\"\"\n",
    "PREFIX rdf: <http://www.w3.org/1999/02/22-rdf-syntax-ns#>\n",
    "PREFIX owl: <http://www.w3.org/2002/07/owl#>\n",
    "PREFIX rdfs: <http://www.w3.org/2000/01/rdf-schema#>\n",
    "PREFIX xsd: <http://www.w3.org/2001/XMLSchema#>\n",
    "PREFIX po: <http://www.semanticweb.org/OntologiaInvestigacionPrueba#>\n",
    "select ?id_pi?Titulo?proyecto_investigacion (count(?id_pi)as ?c)\n",
    "where{\n",
    "        ?proyecto_investigacion po:pi_tiene_palabra ?palabra.\n",
    "        ?proyecto_investigacion po:titulo_proyecto_investigacion ?Titulo.\n",
    "        ?proyecto_investigacion po:id_proyecto_investigacion ?id_pi.\n",
    "        ?palabra po:descripcion_palabra ?descripcion.\n",
    "        FILTER (\n",
    "            REGEX(str(?descripcion), 'descubrimiento','i')||\n",
    "            REGEX(str(?descripcion), 'conocimiento','i')\n",
    "        )\n",
    "    }\n",
    "group by ?id_pi?Titulo?proyecto_investigacion\n",
    "order by DESC(?c)\n",
    "\"\"\"))\n",
    "\n",
    "#trabajos\n",
    "                "
   ]
  }
 ],
 "metadata": {
  "kernelspec": {
   "display_name": "Python 3",
   "language": "python",
   "name": "python3"
  },
  "language_info": {
   "codemirror_mode": {
    "name": "ipython",
    "version": 3
   },
   "file_extension": ".py",
   "mimetype": "text/x-python",
   "name": "python",
   "nbconvert_exporter": "python",
   "pygments_lexer": "ipython3",
   "version": "3.7.7"
  }
 },
 "nbformat": 4,
 "nbformat_minor": 2
}
