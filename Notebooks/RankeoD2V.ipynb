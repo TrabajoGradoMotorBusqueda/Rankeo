{
 "cells": [
  {
   "cell_type": "markdown",
   "metadata": {},
   "source": [
    "# Lectura de Corpus Sentences"
   ]
  },
  {
   "cell_type": "code",
   "execution_count": 62,
   "metadata": {},
   "outputs": [],
   "source": [
    "from gensim.test.utils import datapath\n",
    "from gensim import utils\n",
    "from gensim.models.doc2vec import Doc2Vec, TaggedDocument\n",
    "import multiprocessing\n",
    "from time import time\n",
    "\n",
    "class MyCorpus(object):\n",
    "\n",
    "    def __iter__(self):\n",
    "        for i, line in enumerate(open('./Vocabulario/resumenes_lemas.txt')):\n",
    "            # assume there's one document per line, tokens separated by whitespace\n",
    "            normalizar = str.maketrans('áéíóúü','aeiouu')\n",
    "            tokens = utils.simple_preprocess(line.translate(normalizar).lower())\n",
    "            yield TaggedDocument(tokens, [i])"
   ]
  },
  {
   "cell_type": "code",
   "execution_count": 65,
   "metadata": {},
   "outputs": [],
   "source": [
    "resumenes = MyCorpus()\n",
    "# f = list(resumenes)\n",
    "# f[421]"
   ]
  },
  {
   "cell_type": "markdown",
   "metadata": {},
   "source": [
    "# Definicion de Modelo"
   ]
  },
  {
   "cell_type": "code",
   "execution_count": 3,
   "metadata": {},
   "outputs": [],
   "source": [
    "def entrenamiento(sentences):\n",
    "        \n",
    "             \n",
    "        #Entrenamiento del modelo\n",
    "        cores = multiprocessing.cpu_count() #cuenta el nro de nucles de la pc\n",
    "\n",
    "        d2v = Doc2Vec(vector_size=300, #Dimensionalidad Palabras Vector\n",
    "               window=5, #Contexto, distancia entre palabras predichas\n",
    "               min_count=1, #Minimo de palabras a buscar\n",
    "               workers=cores, #En mi CPU\n",
    "               dm=0, #Usamos el Modelo PV-DBOW analogo a SkipGram\n",
    "               dbow_words=1 ,#Entrenar el skip gram y documentos       \n",
    "               hs=0, #Cero para negative sampling, castigo a neurona\n",
    "               negative=20, #Palabras irrelevantes para el muestreo negativo\n",
    "               ns_exponent=-0.5, #Muestrea frecuencias por igual,\n",
    "               alpha=0.015, #Tasa de aprendizaje\n",
    "               min_alpha=0.0001, #Tasa que se reducira durante el train\n",
    "               seed=25, #Semilla generar hash para palabras\n",
    "               max_vocab_size=None, #Dependera de la maquina 10M -> 1GB\n",
    "               sample=5, #Reduccion para palabras con alta frecuencia\n",
    "               epochs=150, #Epocas, valores altos sobreentreno )?\n",
    "              )\n",
    "        \n",
    "        t = time()\n",
    "        d2v.build_vocab(sentences, #Oraciones nuevas\n",
    "               #update=True, #Agregar nuevo vocabulario\n",
    "               progress_per=100000 #Palabras para procesar con antecipacion\n",
    "              ) # prepare the model vocabulary\n",
    "        print('Time to build vocab: {} mins'.format(round((time() - t) / 60, 2)))\n",
    "        t = time()\n",
    "        d2v.train(sentences, total_examples=d2v.corpus_count, epochs=d2v.epochs ,report_delay=3)\n",
    "        print('Time to train the model: {} mins'.format(round((time() - t) / 60, 2)))\n",
    "        \n",
    "        return d2v\n",
    "        "
   ]
  },
  {
   "cell_type": "markdown",
   "metadata": {},
   "source": [
    "**Entramiento modelo 1**"
   ]
  },
  {
   "cell_type": "code",
   "execution_count": 4,
   "metadata": {},
   "outputs": [
    {
     "name": "stdout",
     "output_type": "stream",
     "text": [
      "Time to build vocab: 0.07 mins\n",
      "Time to train the model: 11.77 mins\n"
     ]
    }
   ],
   "source": [
    "#Modelo V1 Entramiento con sentence = resumen\n",
    "modelo = entrenamiento(resumenes)"
   ]
  },
  {
   "cell_type": "markdown",
   "metadata": {},
   "source": [
    "# Modelos y Cambios\n",
    "- Modelo 1(Sin tildes): Original\n",
    "\n",
    "- Modelo SK 20 epoch: 2.47min\n",
    "\n",
    "- Modelo 2 Final(Lemas): Original 11 min "
   ]
  },
  {
   "cell_type": "code",
   "execution_count": 63,
   "metadata": {},
   "outputs": [],
   "source": [
    "modelo = Doc2Vec.load(\"./Modelos/modelo2_FINALD2V.model\")"
   ]
  },
  {
   "cell_type": "code",
   "execution_count": 5,
   "metadata": {},
   "outputs": [],
   "source": [
    "modelo.save(\"./Modelos/modelo2FINALD2V.model\")"
   ]
  },
  {
   "cell_type": "code",
   "execution_count": 55,
   "metadata": {},
   "outputs": [],
   "source": [
    "modelo.delete_temporary_training_data(keep_doctags_vectors=False, keep_inference=True)"
   ]
  },
  {
   "cell_type": "code",
   "execution_count": 6,
   "metadata": {},
   "outputs": [
    {
     "data": {
      "text/plain": [
       "33.7317"
      ]
     },
     "execution_count": 6,
     "metadata": {},
     "output_type": "execute_result"
    }
   ],
   "source": [
    "memory = modelo.estimate_memory()\n",
    "memory['total']/1000000"
   ]
  },
  {
   "cell_type": "code",
   "execution_count": 44,
   "metadata": {},
   "outputs": [
    {
     "data": {
      "text/plain": [
       "84185"
      ]
     },
     "execution_count": 44,
     "metadata": {},
     "output_type": "execute_result"
    }
   ],
   "source": [
    "modelo.corpus_total_words"
   ]
  },
  {
   "cell_type": "code",
   "execution_count": 44,
   "metadata": {},
   "outputs": [
    {
     "data": {
      "text/plain": [
       "317"
      ]
     },
     "execution_count": 44,
     "metadata": {},
     "output_type": "execute_result"
    }
   ],
   "source": [
    "title = list(modelo.docvecs.most_similar([palabras]))\n",
    "title[0][0]"
   ]
  },
  {
   "cell_type": "code",
   "execution_count": 75,
   "metadata": {},
   "outputs": [
    {
     "name": "stdout",
     "output_type": "stream",
     "text": [
      "Help on method closer_than in module gensim.models.keyedvectors:\n",
      "\n",
      "closer_than(entity1, entity2) method of gensim.models.keyedvectors.Doc2VecKeyedVectors instance\n",
      "    Get all entities that are closer to `entity1` than `entity2` is to `entity1`.\n",
      "\n"
     ]
    }
   ],
   "source": [
    "help(modelo.docvecs.closer_than)"
   ]
  },
  {
   "cell_type": "code",
   "execution_count": 154,
   "metadata": {},
   "outputs": [
    {
     "data": {
      "text/plain": [
       "array([], shape=(0, 300), dtype=float64)"
      ]
     },
     "execution_count": 154,
     "metadata": {},
     "output_type": "execute_result"
    }
   ],
   "source": [
    "modelo.docvecs.distance()"
   ]
  },
  {
   "cell_type": "code",
   "execution_count": 118,
   "metadata": {},
   "outputs": [
    {
     "name": "stdout",
     "output_type": "stream",
     "text": [
      "Help on method most_similar_to_given in module gensim.models.keyedvectors:\n",
      "\n",
      "most_similar_to_given(entity1, entities_list) method of gensim.models.keyedvectors.Doc2VecKeyedVectors instance\n",
      "    Get the `entity` from `entities_list` most similar to `entity1`.\n",
      "\n"
     ]
    }
   ],
   "source": [
    "help(modelo.docvecs.most_similar_to_given)"
   ]
  },
  {
   "cell_type": "code",
   "execution_count": 103,
   "metadata": {
    "scrolled": true
   },
   "outputs": [
    {
     "data": {
      "text/plain": [
       "1"
      ]
     },
     "execution_count": 103,
     "metadata": {},
     "output_type": "execute_result"
    }
   ],
   "source": [
    "# help(modelo.docvecs.most_similar_to_given)\n",
    "#Mas similiar a una lista dada\n",
    "tags=[]\n",
    "for resumen in resumenes:\n",
    "    tags.append(resumen.tags[0])\n",
    "\n",
    "modelo.docvecs.most_similar_to_given(title[1].tags[0], tags)\n"
   ]
  },
  {
   "cell_type": "code",
   "execution_count": 138,
   "metadata": {},
   "outputs": [
    {
     "data": {
      "text/plain": [
       "0.2962894"
      ]
     },
     "execution_count": 138,
     "metadata": {},
     "output_type": "execute_result"
    }
   ],
   "source": [
    "#Distancia Coseno Etiquetas \n",
    "modelo.docvecs.n_similarity([421], [423])"
   ]
  },
  {
   "cell_type": "code",
   "execution_count": 180,
   "metadata": {},
   "outputs": [
    {
     "data": {
      "text/plain": [
       "1.0"
      ]
     },
     "execution_count": 180,
     "metadata": {},
     "output_type": "execute_result"
    }
   ],
   "source": [
    "modelo.docvecs.similarity(442, 442)"
   ]
  },
  {
   "cell_type": "code",
   "execution_count": 181,
   "metadata": {},
   "outputs": [
    {
     "data": {
      "text/plain": [
       "300"
      ]
     },
     "execution_count": 181,
     "metadata": {},
     "output_type": "execute_result"
    }
   ],
   "source": [
    "modelo.docvecs.vector_size"
   ]
  },
  {
   "cell_type": "code",
   "execution_count": 179,
   "metadata": {},
   "outputs": [
    {
     "name": "stdout",
     "output_type": "stream",
     "text": [
      "442\n",
      "421\n",
      "437\n",
      "416\n",
      "434\n",
      "138\n",
      "444\n",
      "424\n",
      "336\n",
      "64\n",
      "305\n",
      "443\n",
      "20\n",
      "310\n",
      "406\n",
      "315\n",
      "23\n",
      "196\n",
      "435\n",
      "314\n",
      "185\n",
      "288\n",
      "289\n",
      "183\n",
      "182\n",
      "181\n",
      "184\n",
      "389\n",
      "318\n",
      "19\n",
      "290\n",
      "43\n",
      "10\n",
      "295\n",
      "239\n",
      "309\n",
      "122\n",
      "48\n",
      "192\n",
      "18\n",
      "402\n",
      "409\n",
      "220\n",
      "403\n",
      "257\n",
      "343\n",
      "115\n",
      "436\n",
      "265\n",
      "317\n",
      "58\n",
      "419\n",
      "275\n",
      "198\n",
      "380\n",
      "215\n",
      "291\n",
      "375\n",
      "373\n",
      "271\n",
      "374\n",
      "362\n",
      "267\n",
      "348\n",
      "260\n",
      "214\n",
      "259\n",
      "370\n",
      "445\n",
      "233\n",
      "47\n",
      "160\n",
      "379\n",
      "321\n",
      "123\n",
      "323\n",
      "105\n",
      "249\n",
      "149\n",
      "341\n",
      "248\n",
      "142\n",
      "360\n",
      "236\n",
      "429\n",
      "110\n",
      "438\n",
      "367\n",
      "286\n",
      "234\n",
      "404\n",
      "21\n",
      "237\n",
      "450\n",
      "40\n",
      "337\n",
      "413\n",
      "133\n",
      "293\n",
      "39\n",
      "307\n",
      "136\n",
      "270\n",
      "300\n",
      "27\n",
      "57\n",
      "36\n",
      "440\n",
      "298\n",
      "262\n",
      "95\n",
      "292\n",
      "334\n",
      "296\n",
      "200\n",
      "372\n",
      "405\n",
      "218\n",
      "167\n",
      "90\n",
      "101\n",
      "51\n",
      "70\n",
      "17\n",
      "439\n",
      "297\n",
      "266\n",
      "103\n",
      "410\n",
      "59\n",
      "342\n",
      "76\n",
      "250\n",
      "108\n",
      "41\n",
      "99\n",
      "107\n",
      "332\n",
      "9\n",
      "306\n",
      "98\n",
      "369\n",
      "84\n",
      "219\n",
      "201\n",
      "449\n",
      "325\n",
      "25\n",
      "75\n",
      "245\n",
      "28\n",
      "42\n",
      "121\n",
      "345\n",
      "102\n",
      "205\n",
      "52\n",
      "378\n",
      "127\n",
      "264\n",
      "241\n",
      "333\n",
      "313\n",
      "213\n",
      "13\n",
      "412\n",
      "312\n",
      "407\n",
      "0\n",
      "180\n",
      "139\n"
     ]
    }
   ],
   "source": [
    "palabras = modelo.infer_vector(['gestor', 'conocimiento'])\n",
    "title = list(resumenes)\n",
    "for documento in modelo.docvecs.most_similar([palabras], topn=171):\n",
    "    tag = documento[0]\n",
    "    print(f'{tag}')"
   ]
  },
  {
   "cell_type": "code",
   "execution_count": 170,
   "metadata": {},
   "outputs": [
    {
     "name": "stdout",
     "output_type": "stream",
     "text": [
      "(442, 0.6646066308021545)--------['umayux', 'modelo', 'software', 'gestion', 'conocimiento', 'soportados', 'ontologias', 'dinamica', 'debilmente', 'acoplados']\n",
      "(437, 0.6272861957550049)--------['sitapp', 'aplicacion', 'inteligente', 'dispositivos', 'moviles', 'sistema', 'rutas', 'transporte', 'urbano', 'municipio']\n",
      "(421, 0.616849422454834)--------['motor', 'busqueda', 'inteligente', 'informes', 'investigacion', 'basado', 'recursos', 'semanticos', 'sistema', 'investigaciones']\n",
      "(416, 0.6109544038772583)--------['makipuray', 'herramientas', 'web', 'inteligencia', 'negocios', 'descubrimiento', 'conocimiento', 'orientadas', 'pyme', 'departamento']\n",
      "(434, 0.6083847284317017)--------['rikhuna', 'visor', 'cartograficos', 'inteligente', 'direcciones', 'urbanas', 'sitios', 'interes', 'municipio', 'pasto']\n",
      "(138, 0.5699188113212585)--------['evaluacion', 'actividad', 'antimicrobiana', 'peperomia', 'subspathulata', 'cordia', 'acuta', 'determinar', 'actividad', 'antimicrobiana']\n",
      "(336, 0.5388919115066528)--------['construccion', 'respositorio', 'limpio', 'datos', 'deteccion', 'patrones', 'eventos', 'eruptivo', 'volcan', 'galeras']\n",
      "(64, 0.5358372926712036)--------['descubrimiento', 'factores', 'asociado', 'desempeño', 'academicos', 'pruebas', 'saber', 'estudiantes', 'instituciones', 'educativas']\n",
      "(424, 0.5341558456420898)--------['parlana', 'sistema', 'experto', 'determinar', 'nivel', 'ingles', 'segun', 'marco', 'comun', 'europeo']\n",
      "(443, 0.5315790772438049)--------['aplicacion', 'bases', 'datos', 'nosql', 'gestion', 'informacion', 'egresados', 'programa', 'ingenieria', 'sistemas']\n",
      "(305, 0.5314606428146362)--------['working', 'memory', 'training', 'and', 'its', 'effect', 'second', 'language', 'low', 'performance']\n",
      "(444, 0.531035304069519)--------['mercado', 'datos', 'analisis', 'pruebas', 'saber', 'instituciones', 'educativas', 'municipio', 'subregion', 'obando']\n",
      "(20, 0.5309387445449829)--------['aplicacion', 'mineria', 'datos', 'deteccion', 'patrones', 'desempeño', 'competencia', 'genericas', 'pruebas', 'saber']\n",
      "(310, 0.5276790857315063)--------['analisis', 'funcionalidad', 'herramientas', 'inteligencia', 'negocios', 'software', 'libre', 'spago', 'orientadas', 'uso']\n",
      "(406, 0.5228363275527954)--------['imaraña', 'herramientas', 'web', 'analitica', 'datos', 'basada', 'lenguaje', 'soportar', 'tomar', 'decisiones']\n",
      "(196, 0.508614182472229)--------['nivel', 'direcciones', 'urbanas', 'eventos', 'delictivos', 'fatales', 'fatales', 'partir', 'informacion', 'almacenada']\n",
      "(315, 0.508120059967041)--------['aplicacion', 'android', 'calculo', 'amenazar', 'relativa', 'flujos', 'piroclastico', 'flujos', 'piroclastico', 'acumulaciones']\n",
      "(435, 0.5049110651016235)--------['sintesis', 'nuevo', 'bis', 'etoxi', 'triazolil', 'benceno', 'reaccion', 'etilo', 'dietilo', 'hidrazinas']\n",
      "(23, 0.504680871963501)--------['aplicacion', 'tecnicas', 'mineria', 'datos', 'descubrimiento', 'factores', 'asociado', 'desempeño', 'academicos', 'pruebas']\n",
      "(389, 0.5025489330291748)--------['evaluacion', 'reaccion', 'alfa', 'alquilacion', 'prolina', 'halogenuros', 'bencilo', 'bromuro', 'bencilo', 'cloruro']\n",
      "(288, 0.5003949999809265)--------['sintesis', 'caracterizacion', 'estructural', 'actividad', 'antifungica', 'relaciones', 'cuantitativa', 'estructuras', 'actividad', 'nuevos']\n",
      "(289, 0.49944770336151123)--------['sistema', 'automatizado', 'monitoreo', 'proceso', 'secado', 'cafe', 'secado', 'cafe', 'proceso', 'conservacion']\n",
      "(314, 0.49556058645248413)--------['analisis', 'modelo', 'matematicos', 'ecuaciones', 'diferenciales', 'ordinarias', 'aplicar', 'transmision', 'vih', 'ciudad']\n",
      "(185, 0.49178022146224976)--------['factores', 'socioeconomicos', 'influir', 'intencion', 'emprendedoras', 'estudiantes', 'pregrado', 'programa', 'administracion', 'empresas']\n",
      "(183, 0.4872167706489563)--------['factores', 'socioeconomicos', 'influir', 'intencion', 'emprendedoras', 'estudiantes', 'pregrado', 'programa', 'administracion', 'empresas']\n",
      "(181, 0.4862230718135834)--------['factores', 'socioeconomicos', 'influir', 'intencion', 'emprendedoras', 'estudiantes', 'pregrado', 'programa', 'administracion', 'empresas']\n",
      "(182, 0.48515331745147705)--------['factores', 'socioeconomicos', 'influir', 'intencion', 'emprendedoras', 'estudiantes', 'pregrado', 'programa', 'administracion', 'empresas']\n",
      "(184, 0.48424768447875977)--------['factores', 'socioeconomicos', 'influir', 'intencion', 'emprendedoras', 'estudiantes', 'pregrado', 'programa', 'administracion', 'empresas']\n",
      "(318, 0.4812793731689453)--------['apropiacion', 'sistema', 'control', 'versiones', 'codigo', 'git', 'apoyar', 'actividades', 'academicas', 'area']\n",
      "(43, 0.4802929759025574)--------['catalisis', 'heterogenea', 'celula', 'flujo', 'ionico', 'selectivo', 'utilizar', 'moleculas', 'oxidables', 'excrementos']\n"
     ]
    }
   ],
   "source": [
    "palabras = modelo.infer_vector(['gestor', 'conocimiento'])\n",
    "title = list(resumenes)\n",
    "for documento in modelo.docvecs.most_similar([palabras], topn=30):\n",
    "    tag = documento[0]\n",
    "    print(f'{documento}--------{title[tag].words[:10]}')"
   ]
  },
  {
   "cell_type": "code",
   "execution_count": 10,
   "metadata": {},
   "outputs": [
    {
     "data": {
      "text/plain": [
       "[('nariño', 0.7877243757247925),\n",
       " ('departamento', 0.4218704104423523),\n",
       " ('torobajo', 0.3928261399269104),\n",
       " ('titulo', 0.3924299478530884),\n",
       " ('facultad', 0.3876037895679474),\n",
       " ('renovable', 0.38651135563850403),\n",
       " ('centigrados', 0.38105979561805725),\n",
       " ('directivas', 0.3809777796268463),\n",
       " ('monetaria', 0.38056230545043945),\n",
       " ('panamericana', 0.3797394335269928),\n",
       " ('seccional', 0.37943023443222046),\n",
       " ('sedes', 0.3785218596458435),\n",
       " ('acepciones', 0.3775959610939026),\n",
       " ('cesmag', 0.37629514932632446),\n",
       " ('amazonas', 0.3750463128089905),\n",
       " ('lebcinea', 0.3721972703933716),\n",
       " ('teorizacion', 0.3715437054634094),\n",
       " ('aproximada', 0.3714926242828369),\n",
       " ('fortalecerlas', 0.3709632456302643),\n",
       " ('dogmaticas', 0.3690212666988373)]"
      ]
     },
     "execution_count": 10,
     "metadata": {},
     "output_type": "execute_result"
    }
   ],
   "source": [
    "word='universidad'\n",
    "modelo.wv.similar_by_word(word, topn=20, restrict_vocab=None)"
   ]
  },
  {
   "cell_type": "code",
   "execution_count": 9,
   "metadata": {
    "scrolled": true
   },
   "outputs": [
    {
     "data": {
      "text/plain": [
       "[('departamento', 0.5705779790878296),\n",
       " ('facultad', 0.41706305742263794),\n",
       " ('torobajo', 0.4154338240623474),\n",
       " ('renovable', 0.41525065898895264),\n",
       " ('sede', 0.414725661277771),\n",
       " ('seccional', 0.4079064726829529),\n",
       " ('workshops', 0.4065971374511719),\n",
       " ('resumen', 0.40438663959503174),\n",
       " ('amazonas', 0.40402090549468994),\n",
       " ('conferencia', 0.40248796343803406)]"
      ]
     },
     "execution_count": 9,
     "metadata": {},
     "output_type": "execute_result"
    }
   ],
   "source": [
    "modelo1.wv.most_similar(['metodologias', 'software', 'agiles'])"
   ]
  },
  {
   "cell_type": "code",
   "execution_count": 6,
   "metadata": {},
   "outputs": [
    {
     "data": {
      "text/plain": [
       "0.0"
      ]
     },
     "execution_count": 6,
     "metadata": {},
     "output_type": "execute_result"
    }
   ],
   "source": [
    "modelo1.get_latest_training_loss()"
   ]
  },
  {
   "cell_type": "code",
   "execution_count": 70,
   "metadata": {},
   "outputs": [
    {
     "data": {
      "text/plain": [
       "[('severamente', 1.3137038946151733),\n",
       " ('conocidas', 1.3051598072052002),\n",
       " ('hidroclimaticos', 1.2963074445724487),\n",
       " ('carnavales', 1.2865322828292847),\n",
       " ('heladas', 1.286263108253479),\n",
       " ('mutuamente', 1.278388261795044),\n",
       " ('excluyentes', 1.275891900062561),\n",
       " ('eliminando', 1.2676161527633667),\n",
       " ('afectada', 1.2540453672409058),\n",
       " ('cumulo', 1.2536296844482422)]"
      ]
     },
     "execution_count": 70,
     "metadata": {},
     "output_type": "execute_result"
    }
   ],
   "source": [
    "modelo1.wv.most_similar_cosmul(positive=['programacion', 'eventos'], negative=['programacion', 'software'])"
   ]
  },
  {
   "cell_type": "code",
   "execution_count": 16,
   "metadata": {},
   "outputs": [
    {
     "data": {
      "text/plain": [
       "0.59623563"
      ]
     },
     "execution_count": 16,
     "metadata": {},
     "output_type": "execute_result"
    }
   ],
   "source": [
    "modelo1.wv.similarity('inteligencia', 'artificial')"
   ]
  },
  {
   "cell_type": "code",
   "execution_count": 31,
   "metadata": {},
   "outputs": [
    {
     "data": {
      "text/plain": [
       "456.51715938696725"
      ]
     },
     "execution_count": 31,
     "metadata": {},
     "output_type": "execute_result"
    }
   ],
   "source": [
    "modelo1.total_train_time"
   ]
  },
  {
   "cell_type": "code",
   "execution_count": 6,
   "metadata": {},
   "outputs": [
    {
     "name": "stderr",
     "output_type": "stream",
     "text": [
      "/home/sangeeky/anaconda3/envs/tesis/lib/python3.7/site-packages/ipykernel_launcher.py:12: DeprecationWarning: Call to deprecated `__getitem__` (Method will be removed in 4.0.0, use self.wv.__getitem__() instead).\n",
      "  if sys.path[0] == '':\n"
     ]
    },
    {
     "data": {
      "image/png": "[encoded data removed]",
      "text/plain": [
       "<Figure size 1152x1152 with 1 Axes>"
      ]
     },
     "metadata": {
      "needs_background": "light"
     },
     "output_type": "display_data"
    }
   ],
   "source": [
    "from sklearn.manifold import TSNE\n",
    "import matplotlib.pyplot as plt\n",
    "%matplotlib inline\n",
    "def tsne_plot(model):\n",
    "    \"Creates and TSNE model and plots it\"\n",
    "    labels = []\n",
    "    tokens = []\n",
    "\n",
    "    for counter, word in enumerate(model.wv.vocab):\n",
    "        if counter == 100:\n",
    "            break\n",
    "        tokens.append(model[word])\n",
    "        labels.append(word)\n",
    "        \n",
    "\n",
    "    tsne_model = TSNE(perplexity=40, n_components=2, init='pca', n_iter=2500, random_state=23)\n",
    "    new_values = tsne_model.fit_transform(tokens)\n",
    "\n",
    "    x = []\n",
    "    y = []\n",
    "    for value in new_values:\n",
    "        x.append(value[0])\n",
    "        y.append(value[1])\n",
    "        \n",
    "    plt.figure(figsize=(16, 16)) \n",
    "    for i in range(len(x)):\n",
    "        plt.scatter(x[i],y[i])\n",
    "        plt.annotate(labels[i],\n",
    "                     xy=(x[i], y[i]),\n",
    "                     xytext=(5, 2),\n",
    "                     textcoords='offset points',\n",
    "                     ha='right',\n",
    "                     va='bottom')\n",
    "    plt.show()\n",
    "\n",
    "    \n",
    "grafica = Word2Vec.load('./Modelos/modelo9.model')\n",
    "tsne_plot(grafica)"
   ]
  },
  {
   "cell_type": "code",
   "execution_count": 1,
   "metadata": {},
   "outputs": [],
   "source": [
    "d2v = Doc2Vec(size=300, #Dimensionalidad Palabras Vector\n",
    "               window=5, #Contexto, distancia entre palabras predichas\n",
    "               min_count=1, #Minimo de palabras a buscar\n",
    "               workers=cores, #En mi CPU\n",
    "               dm=0, #Usamos el Modelo PV-DBOW analogo a SkipGram\n",
    "               dbow_words=1 ,#Entrenar el skip gram y documentos       \n",
    "               hs=0, #Cero para negative sampling, castigo a neurona\n",
    "               negative=20, #Palabras irrelevantes para el muestreo negativo\n",
    "               ns_exponent=-0.5, #Muestrea frecuencias por igual,\n",
    "               alpha=0.015, #Tasa de aprendizaje\n",
    "               min_alpha=0.0001, #Tasa que se reducira durante el train\n",
    "               seed=25, #Semilla generar hash para palabras\n",
    "               max_vocab_size=None, #Dependera de la maquina 10M -> 1GB\n",
    "               sample=5, #Reduccion para palabras con alta frecuencia\n",
    "               epochs=150, #Epocas, valores altos sobreentreno )?\n",
    "               compute_loss=True #Muestra valor de perdida en el train\n",
    "              )"
   ]
  },
  {
   "cell_type": "code",
   "execution_count": 5,
   "metadata": {},
   "outputs": [],
   "source": [
    "w2v.build_vocab(corpus_file='./Data/resumenes.txt')"
   ]
  },
  {
   "cell_type": "code",
   "execution_count": null,
   "metadata": {},
   "outputs": [],
   "source": [
    "#Vocabulario con Diccionario de freq\n",
    "w2v.build_vocab_from_freq(dictionary_resumenes)\n",
    "#Voacabulario con letras\n",
    "#w2v.build_vocab(setences, #Oraciones nuevas\n",
    "#                corpus_file=path #txt\n",
    "#                update=True, #Agregar nuevo vocabulario\n",
    "#                progress_per=100000 #Palabras para procesar con antecipacion\n",
    "#                 min_count=1\n",
    "#               )\n"
   ]
  },
  {
   "cell_type": "code",
   "execution_count": null,
   "metadata": {},
   "outputs": [],
   "source": [
    "w2v.train(sentences, total_examples=w2v.corpus_count, report_delay=3)"
   ]
  },
  {
   "cell_type": "code",
   "execution_count": null,
   "metadata": {},
   "outputs": [],
   "source": [
    "# Lectura de Corpus Sentences\n",
    "\n",
    "from gensim.test.utils import datapath\n",
    "from gensim import utils\n",
    "from gensim.models import Word2Vec\n",
    "import multiprocessing\n",
    "from time import time\n",
    "\n",
    "class MyCorpus(object):\n",
    "\n",
    "    def __iter__(self):\n",
    "        for line in open('./Data/resumenes2.txt'):\n",
    "            # assume there's one document per line, tokens separated by whitespace\n",
    "            normalizar = str.maketrans('áéíóúü','aeiouu')\n",
    "            yield utils.simple_preprocess(line.translate(normalizar).lower())\n",
    "\n",
    "resumenes = MyCorpus()\n",
    "# f = list(resumenes)\n",
    "# f[:3]\n",
    "\n",
    "### Crear oraciones\n",
    "\n",
    "from gensim.models.phrases import Phrases, Phraser\n",
    "\n",
    "\n",
    "#Crea las frases relevantes de la lista de oraciones:\n",
    "phrases = Phrases(resumenes, min_count=1, threshold=1,progress_per=10000)\n",
    "# for i, p in enumerate(phrases):\n",
    "#     if i > 2: break\n",
    "#     print(p)\n",
    "#Transforme el corpus en función de las bigramas detectadas:\n",
    "bigram = Phraser(phrases)\n",
    "sentences = bigram[resumenes]\n",
    "sentences\n",
    "\n",
    "sentences = phrases[resumenes]\n",
    "\n",
    "for i, p in enumerate(sentences):\n",
    "    if i > 0: break\n",
    "    print(p)\n",
    "\n",
    "# Definicion de Modelo\n",
    "\n",
    "def entrenamiento(sentences):\n",
    "        \n",
    "             \n",
    "        #Entrenamiento del modelo\n",
    "        cores = multiprocessing.cpu_count() #cuenta el nro de nucles de la pc\n",
    "\n",
    "        w2v = Word2Vec(size=300, #Dimensionalidad Palabras Vector\n",
    "               window=5, #Contexto, distancia entre palabras predichas\n",
    "               min_count=1, #Minimo de palabras a buscar\n",
    "               workers=cores, #En mi CPU\n",
    "               sg=1, #Usamos el Modelo SkipGram\n",
    "               hs=0, #Cero para negative sampling, castigo a neurona\n",
    "               negative=20, #Palabras irrelevantes para el muestreo negativo\n",
    "               ns_exponent=-0.5, #Muestrea frecuencias por igual,\n",
    "               alpha=0.015, #Tasa de aprendizaje\n",
    "               min_alpha=0.0001, #Tasa que se reducira durante el train\n",
    "               seed=25, #Semilla generar hash para palabras\n",
    "               max_vocab_size=None, #Dependera de la maquina 10M -> 1GB\n",
    "               sample=5, #Reduccion para palabras con alta frecuencia\n",
    "               iter=150, #Epocas, valores altos sobreentreno )?\n",
    "               compute_loss=True #Muestra valor de perdida en el train\n",
    "              )\n",
    "        \n",
    "        t = time()\n",
    "        w2v.build_vocab(sentences, #Oraciones nuevas\n",
    "               #update=True, #Agregar nuevo vocabulario\n",
    "               progress_per=100000, #Palabras para procesar con antecipacion\n",
    "               min_count=1\n",
    "              ) # prepare the model vocabulary\n",
    "        print('Time to build vocab: {} mins'.format(round((time() - t) / 60, 2)))\n",
    "        t = time()\n",
    "        w2v.train(sentences, total_examples=w2v.corpus_count, epochs=w2v.iter ,report_delay=3)\n",
    "        print('Time to train the model: {} mins'.format(round((time() - t) / 60, 2)))\n",
    "        \n",
    "        return w2v\n",
    "        \n",
    "\n",
    "**Entramiento modelo 1**\n",
    "\n",
    "#Modelo V1 Entramiento con sentence = resumen\n",
    "modelo1 = entrenamiento(resumenes)\n",
    "\n",
    "# Modelos y Cambios\n",
    "- Modelo 1: Original 7 Min Bacano\n",
    "- Modelo 2: 500 Epocas 18 Min\n",
    "- Modelo 3: 1000 Epocas 38 Min\n",
    "- Modelo 4: Alpha 0,0015 - 0,0001 iter=150  6 Min Bacano\n",
    "- Modelo 5: Window=5, Alpha 0,0015 - 0,0001 iter=150 9 Min Me gusta mas\n",
    "- Modelo 6: Window=5, Alpha 0,0015 - 0,0001 iter=500 26 No gusta\n",
    "- MOdelo 7: Window=5, Alpha 0,0015 - 0,0001 ns_exponent=-0.5 iter=150 HERMOSOOO\n",
    "- Modelo 8(Sin tildes): Window=5, Alpha 0,0015 - 0,0001 ns_exponent=-0.5 iter=150\n",
    "- Modelo 9(Sin Autores): Window=5, Alpha 0,0015 - 0,0001 ns_exponent=-0.5 iter=150\n",
    "\n",
    "modelo1 = Word2Vec.load(\"./Modelos/modelo9.model\")\n",
    "\n",
    "modelo1.save(\"./Modelos/modelo9.model\")\n",
    "\n",
    "word='universidad'\n",
    "modelo1.wv.similar_by_word(word, topn=20, restrict_vocab=None)\n",
    "\n",
    "modelo1.wv.most_similar(['universidad', 'nariño'])\n",
    "\n",
    "modelo1.get_latest_training_loss()\n",
    "\n",
    "modelo1.wv.most_similar_cosmul(positive=['programacion', 'eventos'], negative=['programacion', 'software'])\n",
    "\n",
    "modelo1.wv.similarity('inteligencia', 'artificial')\n",
    "\n",
    "modelo1.total_train_time\n",
    "\n",
    "from sklearn.manifold import TSNE\n",
    "import matplotlib.pyplot as plt\n",
    "%matplotlib inline\n",
    "def tsne_plot(model):\n",
    "    \"Creates and TSNE model and plots it\"\n",
    "    labels = []\n",
    "    tokens = []\n",
    "\n",
    "    for counter, word in enumerate(model.wv.vocab):\n",
    "        if counter == 100:\n",
    "            break\n",
    "        tokens.append(model[word])\n",
    "        labels.append(word)\n",
    "        \n",
    "\n",
    "    tsne_model = TSNE(perplexity=40, n_components=2, init='pca', n_iter=2500, random_state=23)\n",
    "    new_values = tsne_model.fit_transform(tokens)\n",
    "\n",
    "    x = []\n",
    "    y = []\n",
    "    for value in new_values:\n",
    "        x.append(value[0])\n",
    "        y.append(value[1])\n",
    "        \n",
    "    plt.figure(figsize=(16, 16)) \n",
    "    for i in range(len(x)):\n",
    "        plt.scatter(x[i],y[i])\n",
    "        plt.annotate(labels[i],\n",
    "                     xy=(x[i], y[i]),\n",
    "                     xytext=(5, 2),\n",
    "                     textcoords='offset points',\n",
    "                     ha='right',\n",
    "                     va='bottom')\n",
    "    plt.show()\n",
    "\n",
    "    \n",
    "grafica = Word2Vec.load('./Modelos/modelo9.model')\n",
    "tsne_plot(grafica)\n",
    "\n",
    "w2v = Word2Vec(size=300, #Dimensionalidad Palabras Vector\n",
    "               window=3, #Contexto, distancia entre palabras predichas\n",
    "               min_count=1, #Minimo de palabras a buscar\n",
    "               workers=4, #En mi CPU\n",
    "               sg=1, #Usamos el Modelo SkipGram\n",
    "               hs=0, #Cero para negative sampling, castigo a neurona\n",
    "               negative=20, #Palabras irrelevantes para el muestreo negativo\n",
    "               ns_exponent=0, #Muestrea frecuencias por igual,\n",
    "               alpha=0.025, #Tasa de aprendizaje\n",
    "               min_alpha=0.0005, #Tasa que se reducira durante el train\n",
    "               seed=25, #Semilla generar hash para palabras\n",
    "               max_vocab_size=None, #Dependera de la maquina 10M -> 1GB\n",
    "               sample=5, #Reduccion para palabras con alta frecuencia\n",
    "               iter=150, #Epocas, valores altos sobreentreno )?\n",
    "               compute_loss=True #Muestra valor de perdida en el train\n",
    "              )\n",
    "\n",
    "w2v.build_vocab(corpus_file='./Data/resumenes.txt')\n",
    "\n",
    "#Vocabulario con Diccionario de freq\n",
    "w2v.build_vocab_from_freq(dictionary_resumenes)\n",
    "#Voacabulario con letras\n",
    "#w2v.build_vocab(setences, #Oraciones nuevas\n",
    "#                corpus_file=path #txt\n",
    "#                update=True, #Agregar nuevo vocabulario\n",
    "#                progress_per=100000 #Palabras para procesar con antecipacion\n",
    "#                 min_count=1\n",
    "#               )\n",
    "\n",
    "\n",
    "w2v.train(sentences, total_examples=w2v.corpus_count, report_delay=3)"
   ]
  }
 ],
 "metadata": {
  "kernelspec": {
   "display_name": "Python (tesis)",
   "language": "python",
   "name": "tesis"
  },
  "language_info": {
   "codemirror_mode": {
    "name": "ipython",
    "version": 3
   },
   "file_extension": ".py",
   "mimetype": "text/x-python",
   "name": "python",
   "nbconvert_exporter": "python",
   "pygments_lexer": "ipython3",
   "version": "3.7.7"
  }
 },
 "nbformat": 4,
 "nbformat_minor": 4
}
