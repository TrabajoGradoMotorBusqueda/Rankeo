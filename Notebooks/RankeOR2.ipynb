{
 "cells": [
  {
   "cell_type": "code",
   "execution_count": 2,
   "metadata": {},
   "outputs": [],
   "source": [
    "import sys\n",
    "# insert at 1, 0 is the script path (or '' in REPL)\n",
    "sys.path.insert(1, '../Scripts')\n",
    "import pandas as pd \n",
    "from ontologia import *\n",
    "import ast\n",
    "\n",
    "#Lectura de lemas \n",
    "# import json\n",
    "# with open('./Resumenes/diccionario-lemas.json', 'r') as f:\n",
    "#     diccionario_lemas = json.loads(f.read())"
   ]
  },
  {
   "cell_type": "markdown",
   "metadata": {},
   "source": [
    "# Recuperacion con OR2\n"
   ]
  },
  {
   "cell_type": "code",
   "execution_count": 18,
   "metadata": {},
   "outputs": [
    {
     "name": "stdout",
     "output_type": "stream",
     "text": [
      "[OntologiaInvestigacionPrueba.fisica, OntologiaInvestigacionPrueba.fisico]\n",
      "[OntologiaInvestigacionPrueba.experimental]\n"
     ]
    }
   ],
   "source": [
    "# words=['gestor',\n",
    "# 'conocimiento',\n",
    "# 'sgbd',\n",
    "# 'debilmente',\n",
    "# 'postgresql',\n",
    "# 'sparql',\n",
    "# 'umayux',\n",
    "# 'tacito',\n",
    "# 'semantica',\n",
    "# 'motor',\n",
    "# 'rdf',\n",
    "# 'explicito']\n",
    "\n",
    "words=['fisica', 'experimental']\n",
    "\n",
    "words_instances=[]\n",
    "\n",
    "for word in words:\n",
    "    instance = ontologia.search(descripcion_palabra=word)\n",
    "    print(instance)\n",
    "    words_instances.extend(instance)\n",
    "\n",
    "# for palabra in palabras:\n",
    "#     descripciones = ontologia.Palabra.get_descripcion_palabra(palabra)\n",
    "#     for descripcion in descripciones:\n",
    "#         print(descripcion)\n",
    "#         if descripcion in words:\n",
    "#             words_instances.append(palabra)\n"
   ]
  },
  {
   "cell_type": "code",
   "execution_count": 20,
   "metadata": {},
   "outputs": [],
   "source": [
    "docs = []\n",
    "id_docs = []\n",
    "for word in words_instances:\n",
    "    for doc in word.palabra_describe_pi:\n",
    "        id_doc = doc.get_id_proyecto_investigacion()[0]\n",
    "        id_docs.append(id_doc)\n",
    "        docs.append(doc)"
   ]
  },
  {
   "cell_type": "markdown",
   "metadata": {},
   "source": [
    "# Ranking by Frequency"
   ]
  },
  {
   "cell_type": "code",
   "execution_count": 21,
   "metadata": {},
   "outputs": [
    {
     "name": "stdout",
     "output_type": "stream",
     "text": [
      "initial list [20, 22, 34, 45, 61, 89, 102, 123, 215, 263, 286, 288, 294, 298, 362, 391, 30, 39, 45, 102, 111, 146, 176, 189, 215, 258, 286, 307, 353, 376, 419, 442, 9, 28, 32, 43, 83, 84, 88, 94, 95, 101, 108, 126, 133, 141, 148, 167, 169, 170, 176, 178, 187, 208, 209, 210, 233, 286, 307, 309, 313, 322, 326, 347, 358, 359, 364, 369, 387, 392, 393, 394, 399, 418, 424] Cantidad: 75\n",
      "final list [286, 45, 102, 215, 176, 307, 20, 22, 34, 61, 89, 123, 263, 288, 294, 298, 362, 391, 30, 39, 111, 146, 189, 258, 353, 376, 419, 442, 9, 28, 32, 43, 83, 84, 88, 94, 95, 101, 108, 126, 133, 141, 148, 167, 169, 170, 178, 187, 208, 209, 210, 233, 309, 313, 322, 326, 347, 358, 359, 364, 369, 387, 392, 393, 394, 399, 418, 424] Cantidad: 68\n"
     ]
    }
   ],
   "source": [
    "from collections import Counter \n",
    "from itertools import repeat, chain \n",
    "    \n",
    "# printing initial ini_list \n",
    "print (\"initial list\", str(id_docs), \"Cantidad:\" ,len(id_docs)) \n",
    "  \n",
    "# sorting on bais of frequency of elements \n",
    "result = list(chain(i for i, c in Counter(id_docs).most_common())) \n",
    "  \n",
    "# printing final result \n",
    "print(\"final list\", str(result), \"Cantidad:\",len(result)) \n"
   ]
  },
  {
   "cell_type": "code",
   "execution_count": 22,
   "metadata": {},
   "outputs": [
    {
     "name": "stdout",
     "output_type": "stream",
     "text": [
      "initial list Cantidad: 75\n",
      "final list Cantidad: 68\n"
     ]
    }
   ],
   "source": [
    "# printing initial ini_list \n",
    "print (\"initial list\", \"Cantidad:\" ,len(docs)) \n",
    "  \n",
    "# sorting on bais of frequency of elements \n",
    "result = list(chain(i for i, c in Counter(docs).most_common())) \n",
    "  \n",
    "# printing final result \n",
    "print(\"final list\", \"Cantidad:\" ,len(result)) "
   ]
  },
  {
   "cell_type": "code",
   "execution_count": 24,
   "metadata": {},
   "outputs": [
    {
     "name": "stdout",
     "output_type": "stream",
     "text": [
      "-> ['Revisión del estado actual del curso Termodinámica y su disponibilidad de equipos de laboratorio.']\n",
      "-> ['Ceros de Textura en el Sector Leptónico']\n",
      "-> ['Electrodinámica Escalar de Primer Orden en las Coordenadas de Plano Nulo']\n",
      "-> ['Inclusión de la Universidad de Nariño a la colaboración LAGO (Large Aperture Gamma Ray Burst Observatory) a través del Diseño, Construcción, e Instalación de un Tanque - Detector Cherenkov.']\n",
      "-> ['Evaluación productiva del Trébol Blanco Trifoliun repens L. por efecto de la polinización mediante abejas Apis mellifera en la granja experimental de Botana.']\n",
      "-> ['Zonificación de la fertilidad de suelos en la Granja Experimental Botana']\n",
      "-> ['Aplicación de funciones de Green a problemas con valores de frontera asociados con ecuaciones diferenciales ordinarias lineales con coeficientes variables no homogéneas de segundo orden']\n",
      "-> ['APLICACIÓN DE LA TÉCNICA \"DEEP LEARNING\" EN LA CLASIFICACIÓN DE SISMOS DE LOS TIPOS LP Y VT DEL VOLCÁN GALERAS']\n",
      "-> ['CARACTERIZACIÓN AEROBIA Y ANAEROBIA DEL ÁREA DE INFLUENCIA DE LA PRODUCCIÓN DE TRUCHA ARCOÍRIS (Oncorhynchus mykiss) DE LA ESTACIÓN PISCÍCOLA INTIYACO EN EL LAGO GUAMUEZ DEPARTAMENTO DE NARIÑO']\n",
      "-> ['Desarrollo de productos alegóricos al carnaval de San Juan de Pasto a través del re uso del poliestireno expandido resultante de la elaboración de obras de carnaval vinculando sectores poblacionales vulnerables de la comunidad portadora del bien patrimonial']\n"
     ]
    }
   ],
   "source": [
    "for doc in result[:10]:\n",
    "    title = doc.get_titulo_proyecto_investigacion()\n",
    "    print(f'-> {title}')\n",
    "    "
   ]
  }
 ],
 "metadata": {
  "kernelspec": {
   "display_name": "Python (tesis)",
   "language": "python",
   "name": "tesis"
  },
  "language_info": {
   "codemirror_mode": {
    "name": "ipython",
    "version": 3
   },
   "file_extension": ".py",
   "mimetype": "text/x-python",
   "name": "python",
   "nbconvert_exporter": "python",
   "pygments_lexer": "ipython3",
   "version": "3.7.7"
  }
 },
 "nbformat": 4,
 "nbformat_minor": 4
}
