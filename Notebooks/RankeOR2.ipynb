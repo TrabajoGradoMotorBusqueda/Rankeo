{
 "cells": [
  {
   "cell_type": "markdown",
   "metadata": {},
   "source": [
    "### Cargamos Ontologia"
   ]
  },
  {
   "cell_type": "code",
   "execution_count": 1,
   "metadata": {},
   "outputs": [],
   "source": [
    "import sys\n",
    "# insert at 1, 0 is the script path (or '' in REPL)\n",
    "sys.path.insert(1, '../Scripts')\n",
    "import pandas as pd \n",
    "from ontologia import *\n",
    "import ast\n",
    "import difflib\n",
    "\n",
    "#Lectura de lemas \n",
    "import json\n",
    "with open('./Vocabulario/diccionario-lemas.json', 'r') as f:\n",
    "    diccionario_lemas = json.loads(f.read())\n",
    "\n",
    "lemas = list(diccionario_lemas.keys())"
   ]
  },
  {
   "cell_type": "markdown",
   "metadata": {},
   "source": [
    "### Cargamos Modelo W2V"
   ]
  },
  {
   "cell_type": "code",
   "execution_count": 2,
   "metadata": {},
   "outputs": [],
   "source": [
    "from gensim.test.utils import datapath\n",
    "from gensim import utils\n",
    "from gensim.models import Word2Vec\n",
    "import multiprocessing\n",
    "from time import time\n",
    "\n",
    "modelo = Word2Vec.load(\"./Modelos/modelo10FINAL.model\")\n"
   ]
  },
  {
   "cell_type": "markdown",
   "metadata": {},
   "source": [
    "### Lectura de palabras"
   ]
  },
  {
   "cell_type": "code",
   "execution_count": null,
   "metadata": {},
   "outputs": [],
   "source": [
    "# words=['gestor',\n",
    "# 'conocimiento',\n",
    "# 'sgbd',\n",
    "# 'debilmente',\n",
    "# 'postgresql',\n",
    "# 'sparql',\n",
    "# 'umayux',\n",
    "# 'tacito',\n",
    "# 'semantica',\n",
    "# 'motor',\n",
    "# 'rdf',\n",
    "# 'explicito']\n",
    "\n",
    "# words=['optica', 'progresista', 'ancladas', 'civilizacion',\n",
    "# 'provinciales',\n",
    "# 'opticos',\n",
    "# 'promueven',\n",
    "# 'retro',\n",
    "# 'irradiadas',\n",
    "# 'fenomenologia',\n",
    "# 'representantes',\n",
    "# 'guerreras',\n",
    "# 'moderna',\n",
    "# 'transparencia',\n",
    "# 'sustituido','amino',\n",
    "# 'rebeldias',\n",
    "# 'historiografia',\n",
    "# 'propicio','deconstruccion',\n",
    "# 'lineal'\n",
    "#       ]\n",
    "\n",
    "# words=['medicina', 'natural']"
   ]
  },
  {
   "cell_type": "code",
   "execution_count": 36,
   "metadata": {},
   "outputs": [
    {
     "data": {
      "text/plain": [
       "['optica',\n",
       " 'computacional',\n",
       " 'progresista',\n",
       " 'ancladas',\n",
       " 'civilizacion',\n",
       " 'amino',\n",
       " 'opticos',\n",
       " 'tautomerico',\n",
       " 'maquina',\n",
       " 'erm',\n",
       " 'provinciales',\n",
       " 'retro',\n",
       " 'lineal',\n",
       " 'irradiadas',\n",
       " 'matriciales',\n",
       " 'tautomeria',\n",
       " 'sustituido',\n",
       " 'algebraica',\n",
       " 'ceto',\n",
       " 'recursivos',\n",
       " 'tautomerizacion',\n",
       " 'promueven',\n",
       " 'opticas',\n",
       " 'computacionales',\n",
       " 'computacion',\n",
       " 'camino',\n",
       " 'optico',\n",
       " 'maquinas',\n",
       " 'provincias',\n",
       " 'provincial',\n",
       " 'linea',\n",
       " 'matricial',\n",
       " 'tautomericas']"
      ]
     },
     "execution_count": 36,
     "metadata": {},
     "output_type": "execute_result"
    }
   ],
   "source": [
    "words = ['optica', 'computacional']\n",
    "#Modelo W2v\n",
    "similar_words = modelo.wv.most_similar(words, topn=20)\n",
    "\n",
    "words.extend([word[0] for word in similar_words])\n",
    "\n",
    "#Palabras en plural o muy similares\n",
    "more_words=[]\n",
    "for word in words:\n",
    "    additional = difflib.get_close_matches(word, diccionario_lemas.keys(), n=5, cutoff=0.90)\n",
    "    more_words.extend(additional[1:])\n",
    "    \n",
    "#Añadir palabras finales\n",
    "words.extend(more_words)\n",
    "words"
   ]
  },
  {
   "cell_type": "markdown",
   "metadata": {},
   "source": [
    "# Recuperacion con OR2\n"
   ]
  },
  {
   "cell_type": "code",
   "execution_count": 37,
   "metadata": {},
   "outputs": [],
   "source": [
    "words_instances=[]\n",
    "\n",
    "for word in words:\n",
    "    instance = ontologia.search(descripcion_palabra=word)\n",
    "    words_instances.extend(instance)\n",
    "\n",
    "#print(words_instances)\n",
    "docs = []\n",
    "id_docs = []\n",
    "for word in words_instances:\n",
    "    for doc in word.palabra_describe_pi:\n",
    "        id_doc = doc.get_id_proyecto_investigacion()[0]\n",
    "        id_docs.append(id_doc)\n",
    "        docs.append(doc)"
   ]
  },
  {
   "cell_type": "markdown",
   "metadata": {},
   "source": [
    "# Ranking by Frequency"
   ]
  },
  {
   "cell_type": "code",
   "execution_count": 34,
   "metadata": {},
   "outputs": [
    {
     "data": {
      "text/plain": [
       "[(422, 7),\n",
       " (94, 5),\n",
       " (311, 5),\n",
       " (417, 5),\n",
       " (63, 4),\n",
       " (445, 4),\n",
       " (22, 3),\n",
       " (223, 2),\n",
       " (435, 2),\n",
       " (438, 2),\n",
       " (389, 2),\n",
       " (303, 2),\n",
       " (404, 2),\n",
       " (24, 2),\n",
       " (407, 2),\n",
       " (54, 2),\n",
       " (189, 2),\n",
       " (340, 2),\n",
       " (287, 2),\n",
       " (120, 1),\n",
       " (419, 1),\n",
       " (442, 1),\n",
       " (361, 1),\n",
       " (363, 1),\n",
       " (25, 1),\n",
       " (26, 1),\n",
       " (28, 1),\n",
       " (34, 1),\n",
       " (38, 1),\n",
       " (51, 1),\n",
       " (72, 1),\n",
       " (76, 1),\n",
       " (85, 1),\n",
       " (129, 1),\n",
       " (134, 1),\n",
       " (141, 1),\n",
       " (160, 1),\n",
       " (171, 1),\n",
       " (177, 1),\n",
       " (196, 1),\n",
       " (200, 1),\n",
       " (249, 1),\n",
       " (253, 1),\n",
       " (278, 1),\n",
       " (279, 1),\n",
       " (308, 1),\n",
       " (338, 1),\n",
       " (350, 1),\n",
       " (384, 1),\n",
       " (385, 1),\n",
       " (397, 1),\n",
       " (431, 1),\n",
       " (33, 1),\n",
       " (154, 1),\n",
       " (247, 1),\n",
       " (248, 1),\n",
       " (250, 1),\n",
       " (293, 1),\n",
       " (138, 1),\n",
       " (258, 1),\n",
       " (309, 1),\n",
       " (405, 1),\n",
       " (17, 1),\n",
       " (19, 1),\n",
       " (77, 1),\n",
       " (111, 1),\n",
       " (291, 1),\n",
       " (369, 1),\n",
       " (370, 1),\n",
       " (371, 1),\n",
       " (381, 1),\n",
       " (440, 1),\n",
       " (2, 1),\n",
       " (64, 1),\n",
       " (261, 1),\n",
       " (21, 1),\n",
       " (65, 1),\n",
       " (105, 1),\n",
       " (310, 1)]"
      ]
     },
     "execution_count": 34,
     "metadata": {},
     "output_type": "execute_result"
    }
   ],
   "source": [
    "Counter(id_docs).most_common()"
   ]
  },
  {
   "cell_type": "code",
   "execution_count": 38,
   "metadata": {},
   "outputs": [
    {
     "name": "stdout",
     "output_type": "stream",
     "text": [
      "initial list [230, 231, 370, 17, 19, 22, 63, 77, 111, 291, 303, 369, 370, 371, 381, 404, 422, 440, 230, 230, 230, 371, 370, 369, 371, 63, 234, 297, 303, 335, 404, 231, 230, 19, 245, 291, 303, 370, 230, 19, 369, 247, 248, 289, 370, 371, 390, 303, 369, 404, 369, 371, 1, 5, 9, 12, 19, 28, 48, 50, 64, 83, 115, 116, 128, 147, 173, 194, 212, 215, 229, 230, 251, 269, 292, 293, 308, 394, 430, 15, 230, 188, 230, 320, 370, 19, 63, 289, 303, 316, 369, 370, 371, 378, 404, 94, 303, 404, 16, 31, 206, 301, 370, 78, 292, 294, 304, 38, 39, 350, 16, 3, 18, 19, 33, 39, 48, 50, 52, 53, 54, 74, 83, 95, 168, 178, 194, 213, 215, 255, 256, 258, 261, 265, 266, 272, 293, 296, 320, 349, 360, 368, 395, 427, 432, 448, 334, 102, 369, 371] Cantidad: 150\n",
      "final list [230, 370, 369, 371, 19, 303, 404, 63, 231, 291, 289, 48, 50, 83, 194, 215, 292, 293, 320, 16, 39, 17, 22, 77, 111, 381, 422, 440, 234, 297, 335, 245, 247, 248, 390, 1, 5, 9, 12, 28, 64, 115, 116, 128, 147, 173, 212, 229, 251, 269, 308, 394, 430, 15, 188, 316, 378, 94, 31, 206, 301, 78, 294, 304, 38, 350, 3, 18, 33, 52, 53, 54, 74, 95, 168, 178, 213, 255, 256, 258, 261, 265, 266, 272, 296, 349, 360, 368, 395, 427, 432, 448, 334, 102] Cantidad: 94\n"
     ]
    }
   ],
   "source": [
    "from collections import Counter \n",
    "from itertools import repeat, chain \n",
    "    \n",
    "# printing initial ini_list \n",
    "print (\"initial list\", str(id_docs), \"Cantidad:\" ,len(id_docs)) \n",
    "  \n",
    "# sorting on bais of frequency of elements \n",
    "result = list(chain(i for i, c in Counter(id_docs).most_common())) \n",
    "  \n",
    "# printing final result \n",
    "print(\"final list\", str(result), \"Cantidad:\",len(result)) \n"
   ]
  },
  {
   "cell_type": "markdown",
   "metadata": {},
   "source": [
    "### Ranking con Instancias de Documentos"
   ]
  },
  {
   "cell_type": "code",
   "execution_count": 39,
   "metadata": {},
   "outputs": [
    {
     "name": "stdout",
     "output_type": "stream",
     "text": [
      "initial list Cantidad: 150\n",
      "final list Cantidad: 94\n"
     ]
    }
   ],
   "source": [
    "# printing initial ini_list \n",
    "print (\"initial list\", \"Cantidad:\" ,len(docs)) \n",
    "  \n",
    "# sorting on bais of frequency of elements \n",
    "result = list(chain(i for i, c in Counter(docs).most_common())) \n",
    "  \n",
    "# printing final result\n",
    "print(\"final list\", \"Cantidad:\" ,len(result)) "
   ]
  },
  {
   "cell_type": "code",
   "execution_count": 41,
   "metadata": {},
   "outputs": [
    {
     "data": {
      "text/plain": [
       "['La óptica no lineal se refiere a una clase de efectos que surge cuando la energía de un campo eléctrico aplicado, ya sea propio de la radiación electromagnética que atraviesa el sistema o un campo externo, es del mismo orden de magnitud que la energía que une a los electrones en las moléculas. En particular, uno de los efectos más importantes es la generación de nuevas longitudes de onda o alternativamente, nuevas frecuencias, lo que permite obtener fuentes de alta energía, como UV o superior, a partir de una fuente laser que opera en el IR o en el visible. Los materiales ideales para aplicaciones ópticas no lineales deben poseer una combinación de propiedades fisicoquímicas que son difíciles de obtener como altas polarizabilidades, alto umbral de daño óptico, alta estabilidad térmica y mecánica, rápida respuesta, facilidad de fabricación y transparencia óptica. A diferencia de los materiales ópticos no lineales inorgánicos, los materiales orgánicos pueden satisfacer todos estos requisitos. Específicamente, estos sistemas presentan coeficientes no lineales que en algunos casos son órdenes de magnitud superiores a los de sistemas inorgánicos, con la ventaja adicional de su versatilidad de diseño. Actualmente, nuevos 1,2,4-triazoles sustituidos están siendo sintetizados en la Universidad de Nariño con el objetivo de evaluar su actividad antifúngica. Con miras a extender la posible aplicación de los sistemas que están siendo obtenidos experimentalmente, en este trabajo se usarán herramientas computacionales para determinar, en términos de polarizabilidades e hiperpolarizabilidades, las propiedades ópticas no lineales de 1,2,4-triazoles sustituidos, así como identificar los parámetros moleculares que favorecen dichas propiedades.']"
      ]
     },
     "execution_count": 41,
     "metadata": {},
     "output_type": "execute_result"
    }
   ],
   "source": [
    "result[1].get_resumen_proyecto_investigacion()"
   ]
  },
  {
   "cell_type": "code",
   "execution_count": 40,
   "metadata": {},
   "outputs": [
    {
     "name": "stdout",
     "output_type": "stream",
     "text": [
      "(1) ['La historia crítica del arte en Nariño']\n",
      "(2) ['Estudio computacional de las propiedades ópticas no-lineales de 1,2,4-triazoles sustituidos']\n",
      "(3) ['ESTUDIO COMPUTACIONAL DE LA TAUTOMERÍA CETO-ENÓLICA EN beta-CETOAMIDAS']\n",
      "(4) ['ESTUDIO COMPUTACIONAL DEL EQUILIBRIO TAUTOMÉRICO EN 1,2,4-TRIAZOLES-3-AMINO-5-SUSTITUIDOS']\n",
      "(5) ['Análisis teórico y computacional de las propiedades de matrices para ciertas discretizaciones numéricas.']\n",
      "(6) ['Una mirada computacional a la Teoría Algebraica de Códigos']\n",
      "(7) ['Fractales, matemáticas y algoritmos']\n",
      "(8) ['Desarrollo de una metodología de visualización interactiva y eficaz de información en Big Data.']\n",
      "(9) ['La lucha territorial de los indígenas en La Guerra de los Conventillos y otras revueltas locales.']\n",
      "(10) ['SISTEMA COMPUTACIONAL DE APOYO A LA GENERACIÓN DE HORARIOS DE CLASES PARA LA FACULTAD DE INGENIERÍA DE LA UNIVERSIDAD DE NARIÑO BASADO EN ALGORITMOS GENÉTICOS']\n",
      "(11) ['SÍNTESIS, CARACTERIZACIÓN ESTRUCTURAL, ACTIVIDAD ANTIFÚNGICA Y RELACIONES CUANTITATIVAS DE ESTRUCTURA-ACTIVIDAD DE NUEVOS 1,2,4-TRIAZOLES']\n",
      "(12) ['Comportamiento proecológico y austero en el personal administrativo, en el marco del Sistema de Gestión Ambiental de la Universidad de Nariño']\n",
      "(13) ['Configuraciones del sentido de comunidad y el tejido social a partir de los fenómenos de conurbación que se han vivido en los últimos 20 años en la comunidad de Jongovito - Municipio de Pasto.']\n",
      "(14) ['EFECTIVIDAD DE ESTRATEGIAS EDUCATIVAS, PARA MEJORAR CONOCIMIENTOS, ACTITUDES Y PRÁCTICAS SOBRE HIPERTENSIÓN ARTERIAL, EN PERSONAS AFILIADAS A LA EPS EMSSANAR, DENTRO DEL MARCO DEL MODELO DE ATENCIÓN INTEGRAL EN SALUD, EN EL MUNICIPIO DE IMUES - NARIÑO DURANTE EL PERIODO 2018 - 2019.']\n",
      "(15) ['Fortalecimiento del sentido de comunidad desde la recuperación de la memoria histórica y los encuentros intergeneracionales en el Sector de Cujacal Centro Corregimiento de Buesaquillo - Pasto en los años 2017 - 2018']\n",
      "(16) ['Inclusión de la Universidad de Nariño a la colaboración LAGO (Large Aperture Gamma Ray Burst Observatory) a través del Diseño, Construcción, e Instalación de un Tanque - Detector Cherenkov.']\n",
      "(17) ['Sistema de aprendizaje interactivo para la apropiación del conocimiento agroforestal']\n",
      "(18) ['Sistema de Información Integral Hacia la Estandarización de los Procesos de Producción de Cafés Especiales en el Municipio de Buesaco']\n",
      "(19) ['APROXIMACIÓN AL PENSAMIENTO JURÍDICO NARIÑENSE DESDE LAS FIGURAS DE JOSÉ RAFAEL SAÑUDO Y ERNESTO VELA ANGULO.']\n",
      "(20) ['Análisis histórico - tipográfico de las publicaciones periódicas publicadas en Pasto de 1856 a 1899.']\n"
     ]
    }
   ],
   "source": [
    "for index, doc in enumerate(result[:20]):\n",
    "    title = doc.get_titulo_proyecto_investigacion()\n",
    "    print(f'({index+1}) {title}')"
   ]
  }
 ],
 "metadata": {
  "kernelspec": {
   "display_name": "Python (tesis)",
   "language": "python",
   "name": "tesis"
  },
  "language_info": {
   "codemirror_mode": {
    "name": "ipython",
    "version": 3
   },
   "file_extension": ".py",
   "mimetype": "text/x-python",
   "name": "python",
   "nbconvert_exporter": "python",
   "pygments_lexer": "ipython3",
   "version": "3.7.7"
  }
 },
 "nbformat": 4,
 "nbformat_minor": 4
}
