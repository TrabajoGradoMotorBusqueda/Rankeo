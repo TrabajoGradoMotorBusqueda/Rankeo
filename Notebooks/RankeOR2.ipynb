{
 "cells": [
  {
   "cell_type": "markdown",
   "metadata": {},
   "source": [
    "### Cargamos Ontologia"
   ]
  },
  {
   "cell_type": "code",
   "execution_count": 1,
   "metadata": {},
   "outputs": [],
   "source": [
    "import sys\n",
    "# insert at 1, 0 is the script path (or '' in REPL)\n",
    "sys.path.insert(1, '../Scripts')\n",
    "import pandas as pd \n",
    "from ontologia import *\n",
    "import ast\n",
    "import difflib\n",
    "\n",
    "#Lectura de lemas \n",
    "import json\n",
    "with open('./Vocabulario/diccionario-lemas.json', 'r') as f:\n",
    "    diccionario_lemas = json.loads(f.read())\n",
    "\n",
    "lemas = list(diccionario_lemas.keys())"
   ]
  },
  {
   "cell_type": "markdown",
   "metadata": {},
   "source": [
    "### Cargamos Modelo W2V"
   ]
  },
  {
   "cell_type": "code",
   "execution_count": 167,
   "metadata": {},
   "outputs": [],
   "source": [
    "from gensim.test.utils import datapath\n",
    "from gensim import utils\n",
    "from gensim.models import Word2Vec\n",
    "import multiprocessing\n",
    "from time import time\n",
    "\n",
    "modelo = Word2Vec.load(\"./Modelos/modelo10FINAL.model\")"
   ]
  },
  {
   "cell_type": "code",
   "execution_count": 19,
   "metadata": {},
   "outputs": [
    {
     "data": {
      "text/plain": [
       "11445"
      ]
     },
     "execution_count": 19,
     "metadata": {},
     "output_type": "execute_result"
    }
   ],
   "source": [
    "len(list(modelo.wv.vectors))"
   ]
  },
  {
   "cell_type": "code",
   "execution_count": 40,
   "metadata": {
    "scrolled": true
   },
   "outputs": [
    {
     "data": {
      "text/plain": [
       "11445"
      ]
     },
     "execution_count": 40,
     "metadata": {},
     "output_type": "execute_result"
    }
   ],
   "source": [
    "len(modelo.wv.vocab)"
   ]
  },
  {
   "cell_type": "code",
   "execution_count": 168,
   "metadata": {},
   "outputs": [
    {
     "data": {
      "text/plain": [
       "300"
      ]
     },
     "execution_count": 168,
     "metadata": {},
     "output_type": "execute_result"
    }
   ],
   "source": [
    "vectores = list(modelo.wv.vectors)\n",
    "len(vectores[0])"
   ]
  },
  {
   "cell_type": "code",
   "execution_count": null,
   "metadata": {},
   "outputs": [],
   "source": [
    "modelo.wv.cosine_similarities()"
   ]
  },
  {
   "cell_type": "code",
   "execution_count": 169,
   "metadata": {},
   "outputs": [],
   "source": [
    "keyedvectors = modelo.wv\n",
    "keyedvectors.save('vectors.kv')\n",
    "del(modelo)"
   ]
  },
  {
   "cell_type": "code",
   "execution_count": 1,
   "metadata": {},
   "outputs": [],
   "source": [
    "from gensim.models import KeyedVectors\n",
    "keyedvectors = KeyedVectors.load('vectors.kv')"
   ]
  },
  {
   "cell_type": "code",
   "execution_count": 5,
   "metadata": {},
   "outputs": [
    {
     "data": {
      "text/plain": [
       "3433500"
      ]
     },
     "execution_count": 5,
     "metadata": {},
     "output_type": "execute_result"
    }
   ],
   "source": [
    "keyedvectors.similarity"
   ]
  },
  {
   "cell_type": "code",
   "execution_count": 8,
   "metadata": {
    "scrolled": true
   },
   "outputs": [
    {
     "data": {
      "text/plain": [
       "[('debilmente', 0.77090984582901),\n",
       " ('umayux', 0.7446715831756592),\n",
       " ('sgbd', 0.7438246011734009),\n",
       " ('sparql', 0.7421228885650635),\n",
       " ('rdf', 0.7153308391571045),\n",
       " ('postgresql', 0.7092360854148865),\n",
       " ('ontologias', 0.7078660726547241),\n",
       " ('fundamentandose', 0.699651837348938),\n",
       " ('solicitada', 0.6902329921722412),\n",
       " ('maskana', 0.6835665702819824)]"
      ]
     },
     "execution_count": 8,
     "metadata": {},
     "output_type": "execute_result"
    }
   ],
   "source": [
    "words = ['gestor', 'conocimiento']\n",
    "#Modelo W2v\n",
    "similar_words = keyedvectors.most_similar(words, topn=10)\n",
    "similar_words"
   ]
  },
  {
   "cell_type": "markdown",
   "metadata": {},
   "source": [
    "# MOST SIMILAR "
   ]
  },
  {
   "cell_type": "code",
   "execution_count": 185,
   "metadata": {
    "scrolled": true
   },
   "outputs": [
    {
     "data": {
      "text/plain": [
       "array([-5.83143793e-02,  2.25428659e-02, -1.40660226e-01,  4.73534279e-02,\n",
       "        4.85370159e-02, -2.98704095e-02,  9.87917185e-02, -6.42506406e-02,\n",
       "       -6.29628599e-02,  2.13934574e-02,  1.74135622e-02,  3.02295038e-03,\n",
       "       -9.79842395e-02, -1.74497142e-02,  8.29045195e-04,  1.06558308e-01,\n",
       "       -9.20203626e-02,  2.35471167e-02, -8.16599950e-02,  8.49523470e-02,\n",
       "        4.94701080e-02, -1.12909205e-01,  4.89118844e-02,  1.06700398e-01,\n",
       "       -2.74970178e-02,  6.21169386e-03,  2.86916588e-02, -5.79602569e-02,\n",
       "        4.31696810e-02,  1.11009374e-01,  5.13817519e-02, -8.28848034e-03,\n",
       "       -3.27971093e-02,  3.80460825e-03, -5.09236269e-02,  8.00407231e-02,\n",
       "        7.45652989e-03,  5.74851467e-04, -1.82522871e-02, -3.68378572e-02,\n",
       "       -1.21693751e-02,  4.33343798e-02,  8.92285928e-02, -4.33225073e-02,\n",
       "        2.76588788e-03, -7.20632672e-02, -8.34282767e-03,  8.30176771e-02,\n",
       "       -1.13498732e-01,  7.71138933e-04,  3.66494581e-02, -2.02630367e-02,\n",
       "        2.47475728e-02, -4.99797761e-02, -4.17618528e-02, -1.44199422e-02,\n",
       "       -2.86785029e-02,  7.69641716e-03, -1.49429508e-03,  2.89048590e-02,\n",
       "       -3.12444903e-02, -4.73891981e-02,  5.72889559e-02,  3.15031037e-02,\n",
       "        1.09151965e-02,  5.23399115e-02,  5.30568883e-02,  2.53325105e-02,\n",
       "       -9.05653089e-02, -7.87512287e-02, -1.07968748e-01, -5.25996462e-03,\n",
       "        2.11528447e-02,  9.34423655e-02, -1.39775174e-02, -6.90780720e-03,\n",
       "       -5.36019355e-02,  2.36623809e-02, -3.53962965e-02,  8.83317441e-02,\n",
       "       -4.57305432e-04,  8.28975216e-02, -2.24029948e-03, -1.29529275e-02,\n",
       "       -6.54545352e-02,  4.63890657e-02,  7.30668753e-02, -1.70584843e-01,\n",
       "        6.16142489e-02, -2.14520320e-02, -1.73176862e-02,  4.15285192e-02,\n",
       "        5.79485744e-02, -2.93161683e-02, -1.44807715e-02, -6.91949651e-02,\n",
       "       -2.93449294e-02, -3.94989289e-02,  2.57490843e-04,  1.23866852e-02,\n",
       "        4.48941886e-02, -3.36385816e-02, -1.17900949e-02,  2.39080917e-02,\n",
       "        4.41305675e-02,  4.60982323e-02,  8.92999768e-02, -7.48940976e-03,\n",
       "        3.97117659e-02, -5.86066023e-02,  3.77597958e-02,  8.32675844e-02,\n",
       "       -3.82975154e-02, -1.75401606e-02, -3.56152877e-02, -1.22384943e-01,\n",
       "        7.27718771e-02,  1.20256439e-01,  5.59192300e-02,  1.06224101e-02,\n",
       "       -1.63626671e-02, -3.51668000e-02,  1.34312017e-02, -7.01686442e-02,\n",
       "       -7.18120858e-02,  9.22531541e-03, -4.27725650e-02,  5.60145709e-04,\n",
       "       -7.96828419e-02,  2.64124945e-02, -6.52963743e-02, -3.27102840e-02,\n",
       "       -8.08097497e-02, -5.03790006e-02,  5.77153191e-02,  3.57260369e-02,\n",
       "       -4.68849577e-02,  4.07388434e-02, -9.90479738e-02,  5.56809129e-03,\n",
       "       -2.74435077e-02,  2.87426077e-02,  6.20842427e-02, -1.72688160e-02,\n",
       "       -6.34147823e-02, -5.99078722e-02, -4.44931686e-02,  7.98480883e-02,\n",
       "       -3.04917768e-02, -4.34743240e-02,  8.53355825e-02,  7.43388906e-02,\n",
       "       -8.41164729e-04,  1.45152025e-02, -2.79219579e-02, -1.40070338e-02,\n",
       "       -1.00604214e-01,  7.49198422e-02, -7.39000887e-02, -1.01496853e-01,\n",
       "       -8.51095747e-03,  7.77727515e-02, -1.28514785e-02, -8.20417702e-03,\n",
       "        4.82062288e-02,  1.98218338e-02,  8.19676295e-02, -3.36902812e-02,\n",
       "        6.06505908e-02,  1.28578112e-01, -6.26555234e-02, -2.64297854e-02,\n",
       "       -1.71660893e-02, -9.93680209e-03,  7.32020214e-02, -2.72714607e-02,\n",
       "       -4.21088800e-04, -4.81506176e-02,  3.09462529e-02, -3.06853335e-02,\n",
       "       -1.04334413e-05, -3.42901424e-02, -2.54675765e-02,  2.17369255e-02,\n",
       "        2.56180260e-02, -2.12333053e-02, -9.40614119e-02, -4.30427119e-02,\n",
       "        6.51661903e-02, -7.53675625e-02,  1.36356605e-02,  2.92536709e-02,\n",
       "       -1.43893110e-02,  6.19478449e-02, -1.76332463e-02, -1.53746456e-01,\n",
       "       -6.78313449e-02,  8.90012830e-02,  8.71625617e-02, -1.18003348e-02,\n",
       "       -5.93119189e-02, -6.20793700e-02,  6.59490228e-02, -7.25649484e-03,\n",
       "       -7.83877149e-02,  1.61598399e-02,  3.43238041e-02,  3.78049724e-02,\n",
       "       -6.01116270e-02, -5.14474474e-02, -1.25887007e-01, -9.02082399e-02,\n",
       "        6.14110939e-02,  7.57829621e-02,  4.08577025e-02, -1.62119288e-02,\n",
       "        7.57075520e-03, -8.08000565e-02, -5.38332425e-02, -4.09302302e-02,\n",
       "        5.73406108e-02, -3.86525355e-02, -5.47816791e-02,  4.66012163e-03,\n",
       "        7.25063169e-03,  1.08602099e-01,  7.19287694e-02, -2.91744173e-02,\n",
       "        3.13685536e-02,  2.31687855e-02,  7.03322096e-03,  2.41700891e-05,\n",
       "       -5.90136228e-03, -6.12013647e-03,  3.60246003e-02,  3.89907658e-02,\n",
       "       -5.79182878e-02, -2.44921744e-02,  6.64021149e-02, -3.59464958e-02,\n",
       "        5.94018660e-02, -9.61302519e-02,  1.87516231e-02, -3.56443785e-02,\n",
       "        6.12187795e-02, -7.87802413e-03,  7.08738342e-02, -8.12599137e-02,\n",
       "       -1.08444683e-01, -1.94185060e-02,  1.21763386e-01,  4.45941649e-02,\n",
       "       -4.01665308e-02,  1.62717365e-02,  6.22619763e-02,  5.30147664e-02,\n",
       "       -9.04330164e-02, -3.60997245e-02,  7.47722527e-03, -8.58758464e-02,\n",
       "       -3.14482562e-02, -6.47442937e-02, -1.21311180e-01,  2.23550666e-02,\n",
       "        1.55248687e-01, -9.12512392e-02,  6.42219707e-02, -1.13702314e-02,\n",
       "       -7.60704800e-02,  7.19463527e-02,  2.83825267e-02, -4.49248031e-02,\n",
       "       -9.36092585e-02,  1.06544100e-01, -1.47356726e-02,  4.08315249e-02,\n",
       "        7.55292177e-02, -4.67642210e-02, -7.45765194e-02,  8.95007793e-03,\n",
       "       -7.47436807e-02,  2.00508237e-02, -1.73490949e-03,  6.18400285e-03,\n",
       "       -3.81869101e-03, -1.46911191e-02,  6.35329708e-02, -8.74422044e-02,\n",
       "       -6.78303763e-02,  5.33170905e-03, -3.16014215e-02, -8.10703915e-03,\n",
       "       -3.07277273e-02, -7.77265355e-02,  9.37262177e-03,  1.32335108e-02,\n",
       "       -1.67992171e-02,  7.19442740e-02,  9.08658579e-02, -6.17777668e-02],\n",
       "      dtype=float32)"
      ]
     },
     "execution_count": 185,
     "metadata": {},
     "output_type": "execute_result"
    }
   ],
   "source": [
    "keyedvectors.word_vec('conocimiento', use_norm=True)"
   ]
  },
  {
   "cell_type": "code",
   "execution_count": 242,
   "metadata": {
    "scrolled": true
   },
   "outputs": [
    {
     "data": {
      "text/plain": [
       "array([-1.23168334e-01,  1.57891661e-01, -6.25096321e-01,  3.70365083e-01,\n",
       "        1.39905602e-01, -9.60560292e-02,  4.60902035e-01, -2.39172742e-01,\n",
       "       -2.81502545e-01,  1.50287807e-01,  4.66603264e-02, -1.49352513e-02,\n",
       "       -2.12155104e-01, -1.27391472e-01, -2.89045960e-01,  1.60912141e-01,\n",
       "       -4.02316093e-01,  1.88893974e-01, -3.37589920e-01,  3.65222931e-01,\n",
       "        1.61029562e-01, -3.79429370e-01,  3.99879813e-01,  5.25689602e-01,\n",
       "       -1.93456918e-01,  4.70395461e-02,  2.32833818e-01,  5.63850999e-03,\n",
       "        2.12130308e-01,  6.24908805e-01,  1.86493725e-01, -8.82985145e-02,\n",
       "        1.73825473e-01,  1.36649668e-01, -1.22122943e-01,  2.15896994e-01,\n",
       "        8.02406818e-02, -3.88773438e-03, -1.18246935e-02, -7.17988908e-02,\n",
       "        5.18715829e-02,  3.54395270e-01,  4.26124036e-01, -2.57471263e-01,\n",
       "       -6.19445816e-02, -4.32184219e-01, -8.69711563e-02,  3.19565952e-01,\n",
       "       -5.13556540e-01,  4.33931798e-02,  5.10791615e-02,  4.06885892e-02,\n",
       "        1.85201645e-01, -3.29197347e-01, -2.82423258e-01, -7.17930794e-02,\n",
       "        2.14701891e-02, -2.04162449e-01,  6.74372073e-04,  5.11414781e-02,\n",
       "       -2.79378533e-01, -2.69895017e-01,  1.87923759e-01,  1.59407362e-01,\n",
       "        8.85074884e-02,  2.70026714e-01,  2.76523322e-01, -2.16885656e-02,\n",
       "       -3.68455350e-01, -3.48087341e-01, -5.68412542e-01, -2.21393764e-01,\n",
       "       -4.13813815e-02,  1.59904972e-01,  3.20381634e-02,  4.11552191e-03,\n",
       "       -3.22131813e-02,  2.53375024e-01, -1.50886178e-01,  3.73307854e-01,\n",
       "        2.66801000e-01,  3.02308053e-01, -2.11147472e-01,  1.28157213e-02,\n",
       "       -2.82957375e-01,  4.32763219e-01,  1.74557000e-01, -7.75669098e-01,\n",
       "        1.65460542e-01, -1.42916799e-01, -7.08954111e-02,  1.59463987e-01,\n",
       "        3.21321666e-01, -2.22624838e-01, -3.30069102e-02, -4.61354315e-01,\n",
       "       -3.03363055e-02, -1.29026443e-01, -1.27554059e-01, -4.23346981e-02,\n",
       "        3.27727854e-01, -1.99096978e-01, -2.09143877e-01,  2.21249655e-01,\n",
       "        1.53233439e-01,  6.55340850e-02,  4.53663349e-01,  8.16217810e-02,\n",
       "        1.35764226e-01, -1.25782594e-01,  2.85065144e-01,  3.26340526e-01,\n",
       "       -2.29321316e-01, -1.97026685e-01, -3.15737098e-01, -4.79482949e-01,\n",
       "        3.56787175e-01,  3.20406467e-01,  1.68802530e-01, -1.11555770e-01,\n",
       "       -6.08714893e-02, -1.16611123e-02, -4.77267876e-02, -1.11220799e-01,\n",
       "       -4.22189116e-01,  8.30069482e-02, -2.85494953e-01,  5.93592189e-02,\n",
       "       -4.60987210e-01,  8.42953622e-02, -2.39135832e-01,  7.00533763e-02,\n",
       "       -4.66765642e-01, -9.26172510e-02, -4.17016149e-02,  2.47812063e-01,\n",
       "       -1.36522502e-01,  2.75925219e-01, -3.36950988e-01,  2.00144276e-02,\n",
       "       -2.64986277e-01,  4.40596417e-02,  1.84653521e-01, -2.46601813e-02,\n",
       "        4.81557399e-02, -1.16773553e-01, -2.87269652e-01,  2.69664466e-01,\n",
       "       -3.01439553e-01, -1.75018176e-01,  3.08837026e-01,  3.54723573e-01,\n",
       "       -3.35378088e-02, -1.31538972e-01, -2.55858377e-02,  4.65194359e-02,\n",
       "       -3.17049086e-01,  2.91025460e-01, -3.39658260e-01, -2.23197818e-01,\n",
       "        8.19491223e-02,  3.71134043e-01,  9.07320529e-03, -7.41154850e-02,\n",
       "        4.31727916e-01, -1.63579807e-02,  4.50808883e-01,  3.54881361e-02,\n",
       "        3.38023305e-02,  8.41078520e-01, -1.31539121e-01, -6.17660582e-04,\n",
       "       -9.84255075e-02, -1.29713804e-01,  3.92423332e-01, -7.03720525e-02,\n",
       "       -2.00962812e-01, -5.35234213e-02,  3.53956878e-01, -4.98851947e-02,\n",
       "        5.19993789e-02, -2.42885485e-01,  4.36953977e-02,  9.75122899e-02,\n",
       "        1.59082890e-01, -4.74962592e-02, -4.84513760e-01, -3.00375819e-01,\n",
       "        4.36898887e-01, -2.11818635e-01,  1.01380236e-01,  3.60067934e-02,\n",
       "       -2.21151620e-01,  3.30283403e-01,  1.23100273e-01, -6.39958978e-01,\n",
       "       -2.50594229e-01,  3.86929691e-01,  3.04677159e-01, -4.08104174e-02,\n",
       "       -3.41090560e-01, -3.43933970e-01,  3.09010416e-01,  1.01328060e-01,\n",
       "       -1.98961407e-01, -2.04977021e-03,  1.55908138e-01,  2.02555537e-01,\n",
       "       -2.22671732e-01,  3.27238142e-02, -6.71834588e-01, -4.79591250e-01,\n",
       "        2.09319204e-01, -8.78952742e-02,  8.96317065e-02, -2.78128684e-01,\n",
       "        1.60259873e-01, -5.07833719e-01, -3.69055659e-01, -2.04569519e-01,\n",
       "        1.49698138e-01, -5.07640094e-02, -2.49744013e-01, -7.29951933e-02,\n",
       "       -1.04175158e-01,  3.60474855e-01,  2.40108639e-01, -2.10094526e-01,\n",
       "        4.00949642e-02,  1.91683307e-01, -1.00688174e-01,  2.95009091e-02,\n",
       "       -1.98622376e-01,  1.43491209e-01,  4.97705221e-01,  3.24075699e-01,\n",
       "       -3.68923187e-01,  8.74119997e-03,  3.16789865e-01, -2.57430971e-01,\n",
       "        2.13823110e-01, -2.37743765e-01,  4.03504483e-02, -1.30398139e-01,\n",
       "        1.49535149e-01,  5.91745600e-03,  1.34532303e-01, -3.91870290e-01,\n",
       "       -4.72610712e-01,  2.41280198e-02,  5.90195000e-01,  1.87025249e-01,\n",
       "       -1.45297244e-01,  3.59253362e-02,  2.03590631e-01,  1.71559557e-01,\n",
       "       -5.19419789e-01, -1.78799227e-01, -8.46434087e-02, -4.92347240e-01,\n",
       "        2.97931209e-02, -3.57864648e-01, -5.63254178e-01,  1.56422362e-01,\n",
       "        2.80847907e-01, -4.74685967e-01,  3.63785684e-01, -4.28044572e-02,\n",
       "       -3.75687897e-01,  1.50759459e-01,  1.34579778e-01, -3.27650994e-01,\n",
       "       -4.65990990e-01,  5.35535097e-01,  8.55369642e-02,  3.05892110e-01,\n",
       "        3.55726808e-01, -2.30969518e-01, -2.54347146e-01,  1.26057208e-01,\n",
       "       -2.79663801e-01,  5.44886328e-02,  1.00284666e-01,  6.19008113e-03,\n",
       "       -1.05137996e-01, -1.55605987e-01,  4.98862326e-01, -1.57168329e-01,\n",
       "       -2.55587429e-01,  4.97588217e-02, -1.76424623e-01,  8.01281035e-02,\n",
       "       -1.84377074e-01, -2.64553756e-01,  3.77295256e-01, -1.53164864e-01,\n",
       "       -1.98433727e-01,  2.98537880e-01,  3.92974675e-01, -2.25827336e-01],\n",
       "      dtype=float32)"
      ]
     },
     "execution_count": 242,
     "metadata": {},
     "output_type": "execute_result"
    }
   ],
   "source": [
    "from numpy import (\n",
    "    dot, float32 as REAL\n",
    ")\n",
    "import numpy as np\n",
    "\n",
    "from gensim import matutils\n",
    "\n",
    "mean = [keyedvectors.get_vector('conocimiento')*1.0,keyedvectors.get_vector('gestor')*1.0]\n",
    "array = np.array(mean)\n",
    "#mean = matutils.unitvec(array.mean(axis=0)).astype(REAL)\n",
    "array.mean(axis=0)"
   ]
  },
  {
   "cell_type": "code",
   "execution_count": 214,
   "metadata": {},
   "outputs": [],
   "source": [
    "from numpy import linalg as LA\n",
    "norms=[]\n",
    "for vector in keyedvectors.vectors:\n",
    "    norms.append(LA.norm(vector))"
   ]
  },
  {
   "cell_type": "code",
   "execution_count": 237,
   "metadata": {},
   "outputs": [
    {
     "data": {
      "text/plain": [
       "array([   19,  4918,  4933,  6680,  6681,  6645,  6646,  2202, 11380,\n",
       "       11195, 11197, 11379])"
      ]
     },
     "execution_count": 237,
     "metadata": {},
     "output_type": "execute_result"
    }
   ],
   "source": [
    "dist = np.dot(keyedvectors.vectors[0:None], mean) / norms[0:None]\n",
    "best = matutils.argsort(dist, topn=10 + 2, reverse=True) \n",
    "best"
   ]
  },
  {
   "cell_type": "code",
   "execution_count": null,
   "metadata": {},
   "outputs": [],
   "source": [
    "result = [\n",
    "            (self.index_to_key[sim + clip_start], float(dists[sim]))\n",
    "            for sim in best if (sim + clip_start) not in all_keys\n",
    "        ]\n",
    "return result[:topn]"
   ]
  },
  {
   "cell_type": "code",
   "execution_count": 239,
   "metadata": {},
   "outputs": [
    {
     "data": {
      "text/plain": [
       "'debilmente'"
      ]
     },
     "execution_count": 239,
     "metadata": {},
     "output_type": "execute_result"
    }
   ],
   "source": [
    "keyedvectors.index2word[4933]"
   ]
  },
  {
   "cell_type": "code",
   "execution_count": 217,
   "metadata": {},
   "outputs": [
    {
     "data": {
      "text/plain": [
       "'adaptar'"
      ]
     },
     "execution_count": 217,
     "metadata": {},
     "output_type": "execute_result"
    }
   ],
   "source": [
    "words = list(keyedvectors.vocab.keys())\n",
    "words[4917]"
   ]
  },
  {
   "cell_type": "code",
   "execution_count": 137,
   "metadata": {
    "scrolled": false
   },
   "outputs": [
    {
     "data": {
      "text/plain": [
       "[('debilmente', 0.77090984582901),\n",
       " ('umayux', 0.7446715831756592),\n",
       " ('sgbd', 0.7438246011734009),\n",
       " ('sparql', 0.7421228885650635),\n",
       " ('rdf', 0.7153308391571045),\n",
       " ('postgresql', 0.7092360854148865),\n",
       " ('ontologias', 0.7078660726547241),\n",
       " ('fundamentandose', 0.699651837348938),\n",
       " ('solicitada', 0.6902329921722412),\n",
       " ('maskana', 0.6835665702819824)]"
      ]
     },
     "execution_count": 137,
     "metadata": {},
     "output_type": "execute_result"
    }
   ],
   "source": [
    "keyedvectors.most_similar(['conocimiento', 'gestor'], topn=10)"
   ]
  },
  {
   "cell_type": "markdown",
   "metadata": {},
   "source": [
    "# END"
   ]
  },
  {
   "cell_type": "markdown",
   "metadata": {},
   "source": [
    "### Lectura de palabras"
   ]
  },
  {
   "cell_type": "code",
   "execution_count": 54,
   "metadata": {},
   "outputs": [
    {
     "data": {
      "text/plain": [
       "['gestor',\n",
       " 'conocimiento',\n",
       " 'debilmente',\n",
       " 'umayux',\n",
       " 'sgbd',\n",
       " 'sparql',\n",
       " 'rdf',\n",
       " 'postgresql',\n",
       " 'ontologias',\n",
       " 'fundamentandose',\n",
       " 'solicitada',\n",
       " 'maskana',\n",
       " 'motor',\n",
       " 'transformarla',\n",
       " 'facilite',\n",
       " 'adquieran',\n",
       " 'buscador',\n",
       " 'digitalizados',\n",
       " 'flock',\n",
       " 'robusto',\n",
       " 'publicarlo',\n",
       " 'divulgarlo',\n",
       " 'reconocimiento',\n",
       " 'solicitado',\n",
       " 'transformarlo',\n",
       " 'transformar',\n",
       " 'buscado',\n",
       " 'flocks']"
      ]
     },
     "execution_count": 54,
     "metadata": {},
     "output_type": "execute_result"
    }
   ],
   "source": [
    "words = ['gestor', 'conocimiento']\n",
    "#Modelo W2v\n",
    "similar_words = modelo.wv.most_similar(words, topn=20)\n",
    "\n",
    "words.extend([word[0] for word in similar_words])\n",
    "\n",
    "#Palabras en plural o muy similares\n",
    "more_words=[]\n",
    "for word in words:\n",
    "    additional = difflib.get_close_matches(word, diccionario_lemas.keys(), n=5, cutoff=0.90)\n",
    "    more_words.extend(additional[1:])\n",
    "    \n",
    "#Añadir palabras finales\n",
    "words.extend(more_words)\n",
    "words"
   ]
  },
  {
   "cell_type": "markdown",
   "metadata": {},
   "source": [
    "# Recuperacion con OR2\n"
   ]
  },
  {
   "cell_type": "code",
   "execution_count": 55,
   "metadata": {},
   "outputs": [],
   "source": [
    "words_instances=[]\n",
    "\n",
    "for word in words:\n",
    "    instance = ontologia.search(descripcion_palabra=word)\n",
    "    words_instances.extend(instance)\n",
    "\n",
    "#print(words_instances)\n",
    "docs = []\n",
    "id_docs = []\n",
    "for word in words_instances:\n",
    "    for doc in word.palabra_describe_pi:\n",
    "        id_doc = doc.get_id_proyecto_investigacion()[0]\n",
    "        id_docs.append(id_doc)\n",
    "        docs.append(doc)"
   ]
  },
  {
   "cell_type": "markdown",
   "metadata": {},
   "source": [
    "# Ranking by Frequency"
   ]
  },
  {
   "cell_type": "code",
   "execution_count": 34,
   "metadata": {},
   "outputs": [
    {
     "data": {
      "text/plain": [
       "[(422, 7),\n",
       " (94, 5),\n",
       " (311, 5),\n",
       " (417, 5),\n",
       " (63, 4),\n",
       " (445, 4),\n",
       " (22, 3),\n",
       " (223, 2),\n",
       " (435, 2),\n",
       " (438, 2),\n",
       " (389, 2),\n",
       " (303, 2),\n",
       " (404, 2),\n",
       " (24, 2),\n",
       " (407, 2),\n",
       " (54, 2),\n",
       " (189, 2),\n",
       " (340, 2),\n",
       " (287, 2),\n",
       " (120, 1),\n",
       " (419, 1),\n",
       " (442, 1),\n",
       " (361, 1),\n",
       " (363, 1),\n",
       " (25, 1),\n",
       " (26, 1),\n",
       " (28, 1),\n",
       " (34, 1),\n",
       " (38, 1),\n",
       " (51, 1),\n",
       " (72, 1),\n",
       " (76, 1),\n",
       " (85, 1),\n",
       " (129, 1),\n",
       " (134, 1),\n",
       " (141, 1),\n",
       " (160, 1),\n",
       " (171, 1),\n",
       " (177, 1),\n",
       " (196, 1),\n",
       " (200, 1),\n",
       " (249, 1),\n",
       " (253, 1),\n",
       " (278, 1),\n",
       " (279, 1),\n",
       " (308, 1),\n",
       " (338, 1),\n",
       " (350, 1),\n",
       " (384, 1),\n",
       " (385, 1),\n",
       " (397, 1),\n",
       " (431, 1),\n",
       " (33, 1),\n",
       " (154, 1),\n",
       " (247, 1),\n",
       " (248, 1),\n",
       " (250, 1),\n",
       " (293, 1),\n",
       " (138, 1),\n",
       " (258, 1),\n",
       " (309, 1),\n",
       " (405, 1),\n",
       " (17, 1),\n",
       " (19, 1),\n",
       " (77, 1),\n",
       " (111, 1),\n",
       " (291, 1),\n",
       " (369, 1),\n",
       " (370, 1),\n",
       " (371, 1),\n",
       " (381, 1),\n",
       " (440, 1),\n",
       " (2, 1),\n",
       " (64, 1),\n",
       " (261, 1),\n",
       " (21, 1),\n",
       " (65, 1),\n",
       " (105, 1),\n",
       " (310, 1)]"
      ]
     },
     "execution_count": 34,
     "metadata": {},
     "output_type": "execute_result"
    }
   ],
   "source": [
    "Counter(id_docs).most_common()"
   ]
  },
  {
   "cell_type": "code",
   "execution_count": 56,
   "metadata": {},
   "outputs": [
    {
     "name": "stdout",
     "output_type": "stream",
     "text": [
      "initial list [422, 443, 3, 4, 6, 7, 8, 9, 10, 13, 14, 21, 24, 25, 28, 30, 34, 39, 48, 49, 53, 55, 58, 62, 63, 64, 65, 68, 73, 75, 77, 80, 83, 91, 94, 98, 103, 106, 107, 111, 117, 119, 122, 126, 127, 131, 143, 154, 157, 159, 160, 163, 168, 170, 177, 180, 188, 190, 191, 193, 196, 198, 201, 202, 204, 205, 212, 214, 219, 220, 223, 224, 229, 230, 231, 232, 238, 247, 248, 251, 261, 263, 266, 271, 272, 276, 280, 282, 284, 286, 288, 291, 292, 293, 304, 305, 308, 310, 311, 312, 320, 321, 329, 331, 332, 334, 336, 337, 338, 343, 345, 346, 349, 350, 352, 360, 368, 371, 375, 376, 377, 380, 382, 394, 405, 407, 409, 416, 417, 422, 430, 431, 433, 441, 443, 444, 445, 448, 443, 443, 443, 422, 422, 443, 422, 435, 438, 443, 422, 422, 443, 422, 337, 443, 1, 9, 34, 38, 64, 104, 173, 190, 197, 235, 247, 248, 255, 281, 292, 293, 304, 311, 320, 324, 395, 399, 400, 422, 431, 438, 62, 443, 444, 438, 422, 403, 63, 443, 443, 1, 12, 18, 38, 47, 56, 71, 193, 203, 204, 218, 226, 230, 231, 233, 243, 245, 281, 312, 320, 352, 375, 410, 419, 433, 451, 167, 187, 265, 443, 15, 232, 308, 442, 443, 254, 403] Cantidad: 226\n",
      "final list [443, 422, 320, 438, 9, 34, 62, 63, 64, 190, 193, 204, 230, 231, 232, 247, 248, 292, 293, 304, 308, 311, 312, 337, 352, 375, 431, 433, 444, 1, 38, 281, 403, 3, 4, 6, 7, 8, 10, 13, 14, 21, 24, 25, 28, 30, 39, 48, 49, 53, 55, 58, 65, 68, 73, 75, 77, 80, 83, 91, 94, 98, 103, 106, 107, 111, 117, 119, 122, 126, 127, 131, 143, 154, 157, 159, 160, 163, 168, 170, 177, 180, 188, 191, 196, 198, 201, 202, 205, 212, 214, 219, 220, 223, 224, 229, 238, 251, 261, 263, 266, 271, 272, 276, 280, 282, 284, 286, 288, 291, 305, 310, 321, 329, 331, 332, 334, 336, 338, 343, 345, 346, 349, 350, 360, 368, 371, 376, 377, 380, 382, 394, 405, 407, 409, 416, 417, 430, 441, 445, 448, 435, 104, 173, 197, 235, 255, 324, 395, 399, 400, 12, 18, 47, 56, 71, 203, 218, 226, 233, 243, 245, 410, 419, 451, 167, 187, 265, 15, 442, 254] Cantidad: 171\n"
     ]
    }
   ],
   "source": [
    "from collections import Counter \n",
    "from itertools import repeat, chain \n",
    "    \n",
    "# printing initial ini_list \n",
    "print (\"initial list\", str(id_docs), \"Cantidad:\" ,len(id_docs)) \n",
    "  \n",
    "# sorting on bais of frequency of elements \n",
    "result = list(chain(i for i, c in Counter(id_docs).most_common())) \n",
    "  \n",
    "# printing final result \n",
    "print(\"final list\", str(result), \"Cantidad:\",len(result)) \n"
   ]
  },
  {
   "cell_type": "markdown",
   "metadata": {},
   "source": [
    "### Ranking con Instancias de Documentos"
   ]
  },
  {
   "cell_type": "code",
   "execution_count": 57,
   "metadata": {},
   "outputs": [
    {
     "name": "stdout",
     "output_type": "stream",
     "text": [
      "initial list Cantidad: 226\n",
      "final list Cantidad: 171\n"
     ]
    }
   ],
   "source": [
    "# printing initial ini_list \n",
    "print (\"initial list\", \"Cantidad:\" ,len(docs)) \n",
    "  \n",
    "# sorting on bais of frequency of elements \n",
    "result = list(chain(i for i, c in Counter(docs).most_common())) \n",
    "  \n",
    "# printing final result\n",
    "print(\"final list\", \"Cantidad:\" ,len(result)) "
   ]
  },
  {
   "cell_type": "code",
   "execution_count": 58,
   "metadata": {},
   "outputs": [
    {
     "name": "stdout",
     "output_type": "stream",
     "text": [
      "(1) ['UMAYUX: UN MODELO DE SOFTWARE DE GESTION DE CONOCIMIENTO SOPORTADO EN UNA ONTOLOGIA DINAMICA DEBILMENTE ACOPLADO CON UN GESTOR DE BASE DE DATOS PARA LA UNIVERSIDAD DE NARIÑO']\n",
      "(2) ['MOTOR DE BÚSQUEDA INTELIGENTE DE INFORMES DE INVESTIGACIÓN BASADO EN RECURSOS SEMÁNTICOS PARA EL SISTEMA DE INVESTIGACIONES DE LA UNIVERSIDAD DE NARIÑO']\n",
      "(3) ['APROXIMACIÓN AL PENSAMIENTO JURÍDICO NARIÑENSE DESDE LAS FIGURAS DE JOSÉ RAFAEL SAÑUDO Y ERNESTO VELA ANGULO.']\n",
      "(4) ['SITAPP: UNA APLICACIÓN INTELIGENTE PARA DISPOSITIVOS MÓVILES DEL SISTEMA DE RUTAS DE TRANSPORTE URBANO DEL MUNICIPIO DE PASTO']\n",
      "(5) ['Análisis de factores de aprendizaje en seguridad alimentaria con comunidades rurales en el municipio de Pasto, departamento de Nariño.']\n",
      "(6) ['CARACTERIZACIÓN AEROBIA Y ANAEROBIA DEL ÁREA DE INFLUENCIA DE LA PRODUCCIÓN DE TRUCHA ARCOÍRIS (Oncorhynchus mykiss) DE LA ESTACIÓN PISCÍCOLA INTIYACO EN EL LAGO GUAMUEZ DEPARTAMENTO DE NARIÑO']\n",
      "(7) ['Desarrollo de una estrategia pedagógica que facilite la articulación de las prácticas del dibujo analógico y digital en diseño industrial, a través del uso de herramientas tecnológicas']\n",
      "(8) ['Desarrollo de una metodología de visualización interactiva y eficaz de información en Big Data.']\n",
      "(9) ['Desarrollo y Aplicación de la Tecnología de Oxidación Avanzada PCFH para Mejorar la Calidad del Agua Potable en el Departamento de Nariño']\n",
      "(10) ['Fortalecimiento asociativo y productivo de los pequeños y medianos cultivadores de trucha de los municipios de Guachucal, Cumbal y Potosí del departamento de Nariño a través de la red empresarial como estrategia asociativa']\n",
      "(11) ['Fortalecimiento de las actitudes tendientes a prevenir las manifestaciones de violencia basada en género en administrativos, docentes y estudiantes en la Universidad de Nariño']\n",
      "(12) ['HONGOS FITOPATÓGENOS ASOCIADOS AL LAUREL DE CERA Morella pubescens']\n",
      "(13) ['La historia crítica del arte en Nariño']\n",
      "(14) ['La lucha territorial de los indígenas en La Guerra de los Conventillos y otras revueltas locales.']\n",
      "(15) ['LA MEMORIA COLECTIVA SOBRE EL CAMBIO EN LA FIESTA DE LAS GUAGUAS DE PAN']\n",
      "(16) ['Modelo de Gestión Humana con Enfoque en Competencias Aplicable a Empresas del Sector Servicio de la Ciudad de Pasto']\n",
      "(17) ['Modelo de Gestión Humana con Enfoque en Competencias Aplicable a Empresas del Sector Servicio de la Ciudad de Pasto']\n",
      "(18) ['Sistema de aprendizaje interactivo para la apropiación del conocimiento agroforestal']\n",
      "(19) ['Sistema de Información Integral Hacia la Estandarización de los Procesos de Producción de Cafés Especiales en el Municipio de Buesaco']\n",
      "(20) ['VALIDACIÓN DE HERRAMIENTAS DIDÁCTICAS PARA LA ENSEÑANZA AGROFORESTAL, EN LAS VEREDAS SAN FELIPE, NUEVA CAMPILLA Y MARQUEZA, DEPARTAMENTO DE NARIÑO']\n"
     ]
    }
   ],
   "source": [
    "for index, doc in enumerate(result[:20]):\n",
    "    title = doc.get_titulo_proyecto_investigacion()\n",
    "    print(f'({index+1}) {title}')"
   ]
  }
 ],
 "metadata": {
  "kernelspec": {
   "display_name": "Python (tesis)",
   "language": "python",
   "name": "tesis"
  },
  "language_info": {
   "codemirror_mode": {
    "name": "ipython",
    "version": 3
   },
   "file_extension": ".py",
   "mimetype": "text/x-python",
   "name": "python",
   "nbconvert_exporter": "python",
   "pygments_lexer": "ipython3",
   "version": "3.7.7"
  }
 },
 "nbformat": 4,
 "nbformat_minor": 4
}
