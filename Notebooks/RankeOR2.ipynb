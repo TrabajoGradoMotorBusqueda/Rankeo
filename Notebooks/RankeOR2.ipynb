{
 "cells": [
  {
   "cell_type": "code",
   "execution_count": 64,
   "metadata": {},
   "outputs": [],
   "source": [
    "import sys\n",
    "# insert at 1, 0 is the script path (or '' in REPL)\n",
    "sys.path.insert(1, '../Scripts')\n",
    "import pandas as pd \n",
    "from ontologia import *\n",
    "import ast\n",
    "import difflib\n",
    "\n",
    "\n",
    "#Lectura de lemas \n",
    "import json\n",
    "with open('./Vocabulario/diccionario-lemas.json', 'r') as f:\n",
    "    diccionario_lemas = json.loads(f.read())\n",
    "\n",
    "lemas = list(diccionario_lemas.keys())"
   ]
  },
  {
   "cell_type": "code",
   "execution_count": 88,
   "metadata": {},
   "outputs": [
    {
     "data": {
      "text/plain": [
       "['carrozas', 'carroza']"
      ]
     },
     "execution_count": 88,
     "metadata": {},
     "output_type": "execute_result"
    }
   ],
   "source": [
    "difflib.get_close_matches('carrozas', diccionario_lemas.keys(), n=5, cutoff=0.90)"
   ]
  },
  {
   "cell_type": "code",
   "execution_count": 91,
   "metadata": {},
   "outputs": [],
   "source": [
    "words=['optica']\n",
    "more_words=[]\n",
    "for word in words:\n",
    "    additional = difflib.get_close_matches(word, diccionario_lemas.keys(), n=5, cutoff=0.90)\n",
    "    more_words.extend(additional[1:])\n",
    "    \n",
    "words.extend(more_words)"
   ]
  },
  {
   "cell_type": "code",
   "execution_count": 92,
   "metadata": {},
   "outputs": [
    {
     "data": {
      "text/plain": [
       "['optica', 'opticas']"
      ]
     },
     "execution_count": 92,
     "metadata": {},
     "output_type": "execute_result"
    }
   ],
   "source": [
    "words"
   ]
  },
  {
   "cell_type": "markdown",
   "metadata": {},
   "source": [
    "# Recuperacion con OR2\n"
   ]
  },
  {
   "cell_type": "code",
   "execution_count": 101,
   "metadata": {},
   "outputs": [
    {
     "name": "stdout",
     "output_type": "stream",
     "text": [
      "[OntologiaInvestigacionPrueba.optica, OntologiaInvestigacionPrueba.opticas]\n"
     ]
    }
   ],
   "source": [
    "# words=['gestor',\n",
    "# 'conocimiento',\n",
    "# 'sgbd',\n",
    "# 'debilmente',\n",
    "# 'postgresql',\n",
    "# 'sparql',\n",
    "# 'umayux',\n",
    "# 'tacito',\n",
    "# 'semantica',\n",
    "# 'motor',\n",
    "# 'rdf',\n",
    "# 'explicito']\n",
    "\n",
    "# words=['optica', 'progresista', 'ancladas', 'civilizacion',\n",
    "# 'provinciales',\n",
    "# 'opticos',\n",
    "# 'promueven',\n",
    "# 'retro',\n",
    "# 'irradiadas',\n",
    "# 'fenomenologia',\n",
    "# 'representantes',\n",
    "# 'guerreras',\n",
    "# 'moderna',\n",
    "# 'transparencia',\n",
    "# 'sustituido','amino',\n",
    "# 'rebeldias',\n",
    "# 'historiografia',\n",
    "# 'propicio','deconstruccion',\n",
    "# 'lineal'\n",
    "#       ]\n",
    "\n",
    "# words=['medicina', 'natural']\n",
    "\n",
    "words=['optica']\n",
    "\n",
    "more_words=[]\n",
    "for word in words:\n",
    "    additional = difflib.get_close_matches(word, diccionario_lemas.keys(), n=5, cutoff=0.90)\n",
    "    more_words.extend(additional[1:])\n",
    "    \n",
    "words.extend(more_words)\n",
    "\n",
    "\n",
    "\n",
    "\n",
    "words_instances=[]\n",
    "\n",
    "for word in words:\n",
    "    instance = ontologia.search(descripcion_palabra=word)\n",
    "    words_instances.extend(instance)\n",
    "\n",
    "print(words_instances)\n",
    "docs = []\n",
    "id_docs = []\n",
    "for word in words_instances:\n",
    "    for doc in word.palabra_describe_pi:\n",
    "        id_doc = doc.get_id_proyecto_investigacion()[0]\n",
    "        id_docs.append(id_doc)\n",
    "        docs.append(doc)\n"
   ]
  },
  {
   "cell_type": "markdown",
   "metadata": {},
   "source": [
    "# Ranking by Frequency"
   ]
  },
  {
   "cell_type": "code",
   "execution_count": 52,
   "metadata": {},
   "outputs": [
    {
     "name": "stdout",
     "output_type": "stream",
     "text": [
      "initial list [230, 231, 370, 230, 230, 230, 231, 370, 1, 5, 9, 12, 19, 28, 48, 50, 64, 83, 115, 116, 128, 147, 173, 194, 212, 215, 229, 230, 251, 269, 292, 293, 308, 394, 430, 15, 230, 230, 230, 45, 123, 230, 219, 231, 231, 230, 323, 207, 217, 370, 247, 248, 289, 370, 371, 390, 371, 231, 323, 147, 230, 308, 322, 218, 230, 429, 19, 245, 291, 303, 370] Cantidad: 71\n",
      "final list [230, 231, 370, 19, 147, 308, 323, 371, 1, 5, 9, 12, 28, 48, 50, 64, 83, 115, 116, 128, 173, 194, 212, 215, 229, 251, 269, 292, 293, 394, 430, 15, 45, 123, 219, 207, 217, 247, 248, 289, 390, 322, 218, 429, 245, 291, 303] Cantidad: 47\n"
     ]
    }
   ],
   "source": [
    "from collections import Counter \n",
    "from itertools import repeat, chain \n",
    "    \n",
    "# printing initial ini_list \n",
    "print (\"initial list\", str(id_docs), \"Cantidad:\" ,len(id_docs)) \n",
    "  \n",
    "# sorting on bais of frequency of elements \n",
    "result = list(chain(i for i, c in Counter(id_docs).most_common())) \n",
    "  \n",
    "# printing final result \n",
    "print(\"final list\", str(result), \"Cantidad:\",len(result)) \n"
   ]
  },
  {
   "cell_type": "code",
   "execution_count": 102,
   "metadata": {},
   "outputs": [
    {
     "name": "stdout",
     "output_type": "stream",
     "text": [
      "initial list Cantidad: 7\n",
      "final list Cantidad: 5\n"
     ]
    }
   ],
   "source": [
    "# printing initial ini_list \n",
    "print (\"initial list\", \"Cantidad:\" ,len(docs)) \n",
    "  \n",
    "# sorting on bais of frequency of elements \n",
    "result = list(chain(i for i, c in Counter(docs).most_common())) \n",
    "  \n",
    "# printing final result \n",
    "print(\"final list\", \"Cantidad:\" ,len(result)) "
   ]
  },
  {
   "cell_type": "code",
   "execution_count": 103,
   "metadata": {},
   "outputs": [
    {
     "name": "stdout",
     "output_type": "stream",
     "text": [
      "(1) ['La historia crítica del arte en Nariño']\n",
      "(2) ['Estudio computacional de las propiedades ópticas no-lineales de 1,2,4-triazoles sustituidos']\n",
      "(3) ['La lucha territorial de los indígenas en La Guerra de los Conventillos y otras revueltas locales.']\n",
      "(4) ['Formación \"in-situ\" de nanoclusters metálicos intercalados en arcillas naturales y sintéticas']\n",
      "(5) ['APROXIMACIÓN AL PENSAMIENTO JURÍDICO NARIÑENSE DESDE LAS FIGURAS DE JOSÉ RAFAEL SAÑUDO Y ERNESTO VELA ANGULO.']\n"
     ]
    }
   ],
   "source": [
    "for index, doc in enumerate(result[:20]):\n",
    "    title = doc.get_titulo_proyecto_investigacion()\n",
    "    print(f'({index+1}) {title}')"
   ]
  }
 ],
 "metadata": {
  "kernelspec": {
   "display_name": "Python (tesis)",
   "language": "python",
   "name": "tesis"
  },
  "language_info": {
   "codemirror_mode": {
    "name": "ipython",
    "version": 3
   },
   "file_extension": ".py",
   "mimetype": "text/x-python",
   "name": "python",
   "nbconvert_exporter": "python",
   "pygments_lexer": "ipython3",
   "version": "3.7.7"
  }
 },
 "nbformat": 4,
 "nbformat_minor": 4
}
