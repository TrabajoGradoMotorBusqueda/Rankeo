{
 "cells": [
  {
   "cell_type": "code",
   "execution_count": 1,
   "metadata": {},
   "outputs": [],
   "source": [
    "import sys\n",
    "# insert at 1, 0 is the script path (or '' in REPL)\n",
    "sys.path.insert(1, '../Scripts')\n",
    "import pandas as pd \n",
    "from ontologia import *\n",
    "import ast\n",
    "\n",
    "#Lectura de lemas \n",
    "import json\n",
    "with open('./Resumenes/diccionario-lemas.json', 'r') as f:\n",
    "    diccionario_lemas = json.loads(f.read())"
   ]
  },
  {
   "cell_type": "code",
   "execution_count": null,
   "metadata": {},
   "outputs": [],
   "source": [
    "ontologia.search()"
   ]
  },
  {
   "cell_type": "markdown",
   "metadata": {},
   "source": [
    "# Recuperacion con OR2\n"
   ]
  },
  {
   "cell_type": "code",
   "execution_count": 2,
   "metadata": {},
   "outputs": [
    {
     "data": {
      "text/plain": [
       "12204"
      ]
     },
     "execution_count": 2,
     "metadata": {},
     "output_type": "execute_result"
    }
   ],
   "source": [
    "palabras = ontologia.Palabra.instances()\n",
    "len(palabras)"
   ]
  },
  {
   "cell_type": "code",
   "execution_count": 6,
   "metadata": {},
   "outputs": [
    {
     "data": {
      "text/plain": [
       "OntologiaInvestigacionPrueba.artes"
      ]
     },
     "execution_count": 6,
     "metadata": {},
     "output_type": "execute_result"
    }
   ],
   "source": [
    "palabras[1]"
   ]
  },
  {
   "cell_type": "code",
   "execution_count": 33,
   "metadata": {},
   "outputs": [
    {
     "data": {
      "text/plain": [
       "['tipificar', 'tipificaran']"
      ]
     },
     "execution_count": 33,
     "metadata": {},
     "output_type": "execute_result"
    }
   ],
   "source": [
    "ontologia.Palabra.get_descripcion_palabra(palabras[10])"
   ]
  },
  {
   "cell_type": "code",
   "execution_count": 58,
   "metadata": {},
   "outputs": [
    {
     "name": "stdout",
     "output_type": "stream",
     "text": [
      "[OntologiaInvestigacionPrueba.gestor]\n",
      "[OntologiaInvestigacionPrueba.conocimiento]\n",
      "[OntologiaInvestigacionPrueba.sgbd]\n",
      "[OntologiaInvestigacionPrueba.debilmente]\n",
      "[OntologiaInvestigacionPrueba.postgresql]\n",
      "[OntologiaInvestigacionPrueba.sparql]\n",
      "[OntologiaInvestigacionPrueba.umayux]\n",
      "[OntologiaInvestigacionPrueba.tacito]\n",
      "[OntologiaInvestigacionPrueba.semantic]\n",
      "[OntologiaInvestigacionPrueba.motor]\n",
      "[OntologiaInvestigacionPrueba.rdf]\n",
      "[OntologiaInvestigacionPrueba.explicitos]\n"
     ]
    }
   ],
   "source": [
    "words=['gestor',\n",
    "'conocimiento',\n",
    "'sgbd',\n",
    "'debilmente',\n",
    "'postgresql',\n",
    "'sparql',\n",
    "'umayux',\n",
    "'tacito',\n",
    "'semantica',\n",
    "'motor',\n",
    "'rdf',\n",
    "'explicito']\n",
    "\n",
    "\n",
    "words_instances=[]\n",
    "\n",
    "for word in words:\n",
    "    instance = ontologia.search(descripcion_palabra=word)\n",
    "    print(instance)\n",
    "    words_instances.append(instance[0])\n",
    "\n",
    "# for palabra in palabras:\n",
    "#     descripciones = ontologia.Palabra.get_descripcion_palabra(palabra)\n",
    "#     for descripcion in descripciones:\n",
    "#         print(descripcion)\n",
    "#         if descripcion in words:\n",
    "#             words_instances.append(palabra)\n"
   ]
  },
  {
   "cell_type": "code",
   "execution_count": 59,
   "metadata": {},
   "outputs": [
    {
     "data": {
      "text/plain": [
       "[OntologiaInvestigacionPrueba.gestor,\n",
       " OntologiaInvestigacionPrueba.conocimiento,\n",
       " OntologiaInvestigacionPrueba.sgbd,\n",
       " OntologiaInvestigacionPrueba.debilmente,\n",
       " OntologiaInvestigacionPrueba.postgresql,\n",
       " OntologiaInvestigacionPrueba.sparql,\n",
       " OntologiaInvestigacionPrueba.umayux,\n",
       " OntologiaInvestigacionPrueba.tacito,\n",
       " OntologiaInvestigacionPrueba.semantic,\n",
       " OntologiaInvestigacionPrueba.motor,\n",
       " OntologiaInvestigacionPrueba.rdf,\n",
       " OntologiaInvestigacionPrueba.explicitos]"
      ]
     },
     "execution_count": 59,
     "metadata": {},
     "output_type": "execute_result"
    }
   ],
   "source": [
    "words_instances"
   ]
  },
  {
   "cell_type": "code",
   "execution_count": 67,
   "metadata": {},
   "outputs": [],
   "source": [
    "docs = []\n",
    "id_docs = []\n",
    "for word in words_instances:\n",
    "    for doc in word.palabra_describe_pi:\n",
    "        id_doc = doc.get_id_proyecto_investigacion()[0]\n",
    "        id_docs.append(id_doc)\n",
    "        docs.append(doc)"
   ]
  },
  {
   "cell_type": "code",
   "execution_count": 69,
   "metadata": {},
   "outputs": [
    {
     "data": {
      "text/plain": [
       "[422,\n",
       " 443,\n",
       " 3,\n",
       " 4,\n",
       " 6,\n",
       " 7,\n",
       " 8,\n",
       " 9,\n",
       " 10,\n",
       " 13,\n",
       " 14,\n",
       " 21,\n",
       " 24,\n",
       " 25,\n",
       " 28,\n",
       " 30,\n",
       " 34,\n",
       " 39,\n",
       " 48,\n",
       " 49,\n",
       " 53,\n",
       " 55,\n",
       " 58,\n",
       " 62,\n",
       " 63,\n",
       " 64,\n",
       " 65,\n",
       " 68,\n",
       " 73,\n",
       " 75,\n",
       " 77,\n",
       " 80,\n",
       " 83,\n",
       " 91,\n",
       " 94,\n",
       " 98,\n",
       " 103,\n",
       " 106,\n",
       " 107,\n",
       " 111,\n",
       " 117,\n",
       " 119,\n",
       " 122,\n",
       " 126,\n",
       " 127,\n",
       " 131,\n",
       " 143,\n",
       " 154,\n",
       " 157,\n",
       " 159,\n",
       " 160,\n",
       " 163,\n",
       " 168,\n",
       " 170,\n",
       " 177,\n",
       " 180,\n",
       " 188,\n",
       " 190,\n",
       " 191,\n",
       " 193,\n",
       " 196,\n",
       " 198,\n",
       " 201,\n",
       " 202,\n",
       " 204,\n",
       " 205,\n",
       " 212,\n",
       " 214,\n",
       " 219,\n",
       " 220,\n",
       " 223,\n",
       " 224,\n",
       " 229,\n",
       " 230,\n",
       " 231,\n",
       " 232,\n",
       " 238,\n",
       " 247,\n",
       " 248,\n",
       " 251,\n",
       " 261,\n",
       " 263,\n",
       " 266,\n",
       " 271,\n",
       " 272,\n",
       " 276,\n",
       " 280,\n",
       " 282,\n",
       " 284,\n",
       " 286,\n",
       " 288,\n",
       " 291,\n",
       " 292,\n",
       " 293,\n",
       " 304,\n",
       " 305,\n",
       " 308,\n",
       " 310,\n",
       " 311,\n",
       " 312,\n",
       " 320,\n",
       " 321,\n",
       " 329,\n",
       " 331,\n",
       " 332,\n",
       " 334,\n",
       " 336,\n",
       " 337,\n",
       " 338,\n",
       " 343,\n",
       " 345,\n",
       " 346,\n",
       " 349,\n",
       " 350,\n",
       " 352,\n",
       " 360,\n",
       " 368,\n",
       " 371,\n",
       " 375,\n",
       " 376,\n",
       " 377,\n",
       " 380,\n",
       " 382,\n",
       " 394,\n",
       " 405,\n",
       " 407,\n",
       " 409,\n",
       " 416,\n",
       " 417,\n",
       " 422,\n",
       " 430,\n",
       " 431,\n",
       " 433,\n",
       " 441,\n",
       " 443,\n",
       " 444,\n",
       " 445,\n",
       " 448,\n",
       " 443,\n",
       " 443,\n",
       " 443,\n",
       " 422,\n",
       " 443,\n",
       " 39,\n",
       " 443,\n",
       " 306,\n",
       " 422,\n",
       " 435,\n",
       " 422,\n",
       " 422,\n",
       " 18,\n",
       " 308,\n",
       " 443]"
      ]
     },
     "execution_count": 69,
     "metadata": {},
     "output_type": "execute_result"
    }
   ],
   "source": [
    "id_docs"
   ]
  },
  {
   "cell_type": "code",
   "execution_count": 10,
   "metadata": {},
   "outputs": [
    {
     "data": {
      "text/plain": [
       "[443]"
      ]
     },
     "execution_count": 10,
     "metadata": {},
     "output_type": "execute_result"
    }
   ],
   "source": [
    "docs[2].get_id_proyecto_investigacion()"
   ]
  },
  {
   "cell_type": "code",
   "execution_count": 52,
   "metadata": {},
   "outputs": [
    {
     "data": {
      "text/plain": [
       "[OntologiaInvestigacionPrueba.sgbd]"
      ]
     },
     "execution_count": 52,
     "metadata": {},
     "output_type": "execute_result"
    }
   ],
   "source": [
    "ontologia.search(descripcion_palabra='sgbd')"
   ]
  },
  {
   "cell_type": "code",
   "execution_count": 7,
   "metadata": {
    "scrolled": true
   },
   "outputs": [
    {
     "data": {
      "text/plain": [
       "OntologiaInvestigacionPrueba.implicar"
      ]
     },
     "execution_count": 7,
     "metadata": {},
     "output_type": "execute_result"
    }
   ],
   "source": [
    "palabra[1].get_"
   ]
  }
 ],
 "metadata": {
  "kernelspec": {
   "display_name": "Python (tesis)",
   "language": "python",
   "name": "tesis"
  },
  "language_info": {
   "codemirror_mode": {
    "name": "ipython",
    "version": 3
   },
   "file_extension": ".py",
   "mimetype": "text/x-python",
   "name": "python",
   "nbconvert_exporter": "python",
   "pygments_lexer": "ipython3",
   "version": "3.7.7"
  }
 },
 "nbformat": 4,
 "nbformat_minor": 4
}
