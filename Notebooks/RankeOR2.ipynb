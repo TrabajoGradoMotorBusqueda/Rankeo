{
 "cells": [
  {
   "cell_type": "markdown",
   "metadata": {},
   "source": [
    "### Cargamos Ontologia"
   ]
  },
  {
   "cell_type": "code",
   "execution_count": 47,
   "metadata": {},
   "outputs": [],
   "source": [
    "import sys\n",
    "# insert at 1, 0 is the script path (or '' in REPL)\n",
    "sys.path.insert(1, '../Scripts')\n",
    "import pandas as pd \n",
    "from ontologia import *\n",
    "import ast\n",
    "import difflib\n",
    "\n",
    "#Lectura de lemas \n",
    "import json\n",
    "with open('./Vocabulario/diccionario-lemas.json', 'r') as f:\n",
    "    diccionario_lemas = json.loads(f.read())\n",
    "\n",
    "lemas = list(diccionario_lemas.keys())"
   ]
  },
  {
   "cell_type": "markdown",
   "metadata": {},
   "source": [
    "### Cargamos Modelo W2V"
   ]
  },
  {
   "cell_type": "code",
   "execution_count": 48,
   "metadata": {},
   "outputs": [],
   "source": [
    "from gensim.test.utils import datapath\n",
    "from gensim import utils\n",
    "from gensim.models import Word2Vec\n",
    "import multiprocessing\n",
    "from time import time\n",
    "\n",
    "modelo = Word2Vec.load(\"./Modelos/modelo10FINAL.model\")"
   ]
  },
  {
   "cell_type": "markdown",
   "metadata": {},
   "source": [
    "### Lectura de palabras"
   ]
  },
  {
   "cell_type": "code",
   "execution_count": 54,
   "metadata": {},
   "outputs": [
    {
     "data": {
      "text/plain": [
       "['gestor',\n",
       " 'conocimiento',\n",
       " 'debilmente',\n",
       " 'umayux',\n",
       " 'sgbd',\n",
       " 'sparql',\n",
       " 'rdf',\n",
       " 'postgresql',\n",
       " 'ontologias',\n",
       " 'fundamentandose',\n",
       " 'solicitada',\n",
       " 'maskana',\n",
       " 'motor',\n",
       " 'transformarla',\n",
       " 'facilite',\n",
       " 'adquieran',\n",
       " 'buscador',\n",
       " 'digitalizados',\n",
       " 'flock',\n",
       " 'robusto',\n",
       " 'publicarlo',\n",
       " 'divulgarlo',\n",
       " 'reconocimiento',\n",
       " 'solicitado',\n",
       " 'transformarlo',\n",
       " 'transformar',\n",
       " 'buscado',\n",
       " 'flocks']"
      ]
     },
     "execution_count": 54,
     "metadata": {},
     "output_type": "execute_result"
    }
   ],
   "source": [
    "words = ['gestor', 'conocimiento']\n",
    "#Modelo W2v\n",
    "similar_words = modelo.wv.most_similar(words, topn=20)\n",
    "\n",
    "words.extend([word[0] for word in similar_words])\n",
    "\n",
    "#Palabras en plural o muy similares\n",
    "more_words=[]\n",
    "for word in words:\n",
    "    additional = difflib.get_close_matches(word, diccionario_lemas.keys(), n=5, cutoff=0.90)\n",
    "    more_words.extend(additional[1:])\n",
    "    \n",
    "#Añadir palabras finales\n",
    "words.extend(more_words)\n",
    "words"
   ]
  },
  {
   "cell_type": "markdown",
   "metadata": {},
   "source": [
    "# Recuperacion con OR2\n"
   ]
  },
  {
   "cell_type": "code",
   "execution_count": 55,
   "metadata": {},
   "outputs": [],
   "source": [
    "words_instances=[]\n",
    "\n",
    "for word in words:\n",
    "    instance = ontologia.search(descripcion_palabra=word)\n",
    "    words_instances.extend(instance)\n",
    "\n",
    "#print(words_instances)\n",
    "docs = []\n",
    "id_docs = []\n",
    "for word in words_instances:\n",
    "    for doc in word.palabra_describe_pi:\n",
    "        id_doc = doc.get_id_proyecto_investigacion()[0]\n",
    "        id_docs.append(id_doc)\n",
    "        docs.append(doc)"
   ]
  },
  {
   "cell_type": "markdown",
   "metadata": {},
   "source": [
    "# Ranking by Frequency"
   ]
  },
  {
   "cell_type": "code",
   "execution_count": 34,
   "metadata": {},
   "outputs": [
    {
     "data": {
      "text/plain": [
       "[(422, 7),\n",
       " (94, 5),\n",
       " (311, 5),\n",
       " (417, 5),\n",
       " (63, 4),\n",
       " (445, 4),\n",
       " (22, 3),\n",
       " (223, 2),\n",
       " (435, 2),\n",
       " (438, 2),\n",
       " (389, 2),\n",
       " (303, 2),\n",
       " (404, 2),\n",
       " (24, 2),\n",
       " (407, 2),\n",
       " (54, 2),\n",
       " (189, 2),\n",
       " (340, 2),\n",
       " (287, 2),\n",
       " (120, 1),\n",
       " (419, 1),\n",
       " (442, 1),\n",
       " (361, 1),\n",
       " (363, 1),\n",
       " (25, 1),\n",
       " (26, 1),\n",
       " (28, 1),\n",
       " (34, 1),\n",
       " (38, 1),\n",
       " (51, 1),\n",
       " (72, 1),\n",
       " (76, 1),\n",
       " (85, 1),\n",
       " (129, 1),\n",
       " (134, 1),\n",
       " (141, 1),\n",
       " (160, 1),\n",
       " (171, 1),\n",
       " (177, 1),\n",
       " (196, 1),\n",
       " (200, 1),\n",
       " (249, 1),\n",
       " (253, 1),\n",
       " (278, 1),\n",
       " (279, 1),\n",
       " (308, 1),\n",
       " (338, 1),\n",
       " (350, 1),\n",
       " (384, 1),\n",
       " (385, 1),\n",
       " (397, 1),\n",
       " (431, 1),\n",
       " (33, 1),\n",
       " (154, 1),\n",
       " (247, 1),\n",
       " (248, 1),\n",
       " (250, 1),\n",
       " (293, 1),\n",
       " (138, 1),\n",
       " (258, 1),\n",
       " (309, 1),\n",
       " (405, 1),\n",
       " (17, 1),\n",
       " (19, 1),\n",
       " (77, 1),\n",
       " (111, 1),\n",
       " (291, 1),\n",
       " (369, 1),\n",
       " (370, 1),\n",
       " (371, 1),\n",
       " (381, 1),\n",
       " (440, 1),\n",
       " (2, 1),\n",
       " (64, 1),\n",
       " (261, 1),\n",
       " (21, 1),\n",
       " (65, 1),\n",
       " (105, 1),\n",
       " (310, 1)]"
      ]
     },
     "execution_count": 34,
     "metadata": {},
     "output_type": "execute_result"
    }
   ],
   "source": [
    "Counter(id_docs).most_common()"
   ]
  },
  {
   "cell_type": "code",
   "execution_count": 56,
   "metadata": {},
   "outputs": [
    {
     "name": "stdout",
     "output_type": "stream",
     "text": [
      "initial list [422, 443, 3, 4, 6, 7, 8, 9, 10, 13, 14, 21, 24, 25, 28, 30, 34, 39, 48, 49, 53, 55, 58, 62, 63, 64, 65, 68, 73, 75, 77, 80, 83, 91, 94, 98, 103, 106, 107, 111, 117, 119, 122, 126, 127, 131, 143, 154, 157, 159, 160, 163, 168, 170, 177, 180, 188, 190, 191, 193, 196, 198, 201, 202, 204, 205, 212, 214, 219, 220, 223, 224, 229, 230, 231, 232, 238, 247, 248, 251, 261, 263, 266, 271, 272, 276, 280, 282, 284, 286, 288, 291, 292, 293, 304, 305, 308, 310, 311, 312, 320, 321, 329, 331, 332, 334, 336, 337, 338, 343, 345, 346, 349, 350, 352, 360, 368, 371, 375, 376, 377, 380, 382, 394, 405, 407, 409, 416, 417, 422, 430, 431, 433, 441, 443, 444, 445, 448, 443, 443, 443, 422, 422, 443, 422, 435, 438, 443, 422, 422, 443, 422, 337, 443, 1, 9, 34, 38, 64, 104, 173, 190, 197, 235, 247, 248, 255, 281, 292, 293, 304, 311, 320, 324, 395, 399, 400, 422, 431, 438, 62, 443, 444, 438, 422, 403, 63, 443, 443, 1, 12, 18, 38, 47, 56, 71, 193, 203, 204, 218, 226, 230, 231, 233, 243, 245, 281, 312, 320, 352, 375, 410, 419, 433, 451, 167, 187, 265, 443, 15, 232, 308, 442, 443, 254, 403] Cantidad: 226\n",
      "final list [443, 422, 320, 438, 9, 34, 62, 63, 64, 190, 193, 204, 230, 231, 232, 247, 248, 292, 293, 304, 308, 311, 312, 337, 352, 375, 431, 433, 444, 1, 38, 281, 403, 3, 4, 6, 7, 8, 10, 13, 14, 21, 24, 25, 28, 30, 39, 48, 49, 53, 55, 58, 65, 68, 73, 75, 77, 80, 83, 91, 94, 98, 103, 106, 107, 111, 117, 119, 122, 126, 127, 131, 143, 154, 157, 159, 160, 163, 168, 170, 177, 180, 188, 191, 196, 198, 201, 202, 205, 212, 214, 219, 220, 223, 224, 229, 238, 251, 261, 263, 266, 271, 272, 276, 280, 282, 284, 286, 288, 291, 305, 310, 321, 329, 331, 332, 334, 336, 338, 343, 345, 346, 349, 350, 360, 368, 371, 376, 377, 380, 382, 394, 405, 407, 409, 416, 417, 430, 441, 445, 448, 435, 104, 173, 197, 235, 255, 324, 395, 399, 400, 12, 18, 47, 56, 71, 203, 218, 226, 233, 243, 245, 410, 419, 451, 167, 187, 265, 15, 442, 254] Cantidad: 171\n"
     ]
    }
   ],
   "source": [
    "from collections import Counter \n",
    "from itertools import repeat, chain \n",
    "    \n",
    "# printing initial ini_list \n",
    "print (\"initial list\", str(id_docs), \"Cantidad:\" ,len(id_docs)) \n",
    "  \n",
    "# sorting on bais of frequency of elements \n",
    "result = list(chain(i for i, c in Counter(id_docs).most_common())) \n",
    "  \n",
    "# printing final result \n",
    "print(\"final list\", str(result), \"Cantidad:\",len(result)) \n"
   ]
  },
  {
   "cell_type": "markdown",
   "metadata": {},
   "source": [
    "### Ranking con Instancias de Documentos"
   ]
  },
  {
   "cell_type": "code",
   "execution_count": 57,
   "metadata": {},
   "outputs": [
    {
     "name": "stdout",
     "output_type": "stream",
     "text": [
      "initial list Cantidad: 226\n",
      "final list Cantidad: 171\n"
     ]
    }
   ],
   "source": [
    "# printing initial ini_list \n",
    "print (\"initial list\", \"Cantidad:\" ,len(docs)) \n",
    "  \n",
    "# sorting on bais of frequency of elements \n",
    "result = list(chain(i for i, c in Counter(docs).most_common())) \n",
    "  \n",
    "# printing final result\n",
    "print(\"final list\", \"Cantidad:\" ,len(result)) "
   ]
  },
  {
   "cell_type": "code",
   "execution_count": 58,
   "metadata": {},
   "outputs": [
    {
     "name": "stdout",
     "output_type": "stream",
     "text": [
      "(1) ['UMAYUX: UN MODELO DE SOFTWARE DE GESTION DE CONOCIMIENTO SOPORTADO EN UNA ONTOLOGIA DINAMICA DEBILMENTE ACOPLADO CON UN GESTOR DE BASE DE DATOS PARA LA UNIVERSIDAD DE NARIÑO']\n",
      "(2) ['MOTOR DE BÚSQUEDA INTELIGENTE DE INFORMES DE INVESTIGACIÓN BASADO EN RECURSOS SEMÁNTICOS PARA EL SISTEMA DE INVESTIGACIONES DE LA UNIVERSIDAD DE NARIÑO']\n",
      "(3) ['APROXIMACIÓN AL PENSAMIENTO JURÍDICO NARIÑENSE DESDE LAS FIGURAS DE JOSÉ RAFAEL SAÑUDO Y ERNESTO VELA ANGULO.']\n",
      "(4) ['SITAPP: UNA APLICACIÓN INTELIGENTE PARA DISPOSITIVOS MÓVILES DEL SISTEMA DE RUTAS DE TRANSPORTE URBANO DEL MUNICIPIO DE PASTO']\n",
      "(5) ['Análisis de factores de aprendizaje en seguridad alimentaria con comunidades rurales en el municipio de Pasto, departamento de Nariño.']\n",
      "(6) ['CARACTERIZACIÓN AEROBIA Y ANAEROBIA DEL ÁREA DE INFLUENCIA DE LA PRODUCCIÓN DE TRUCHA ARCOÍRIS (Oncorhynchus mykiss) DE LA ESTACIÓN PISCÍCOLA INTIYACO EN EL LAGO GUAMUEZ DEPARTAMENTO DE NARIÑO']\n",
      "(7) ['Desarrollo de una estrategia pedagógica que facilite la articulación de las prácticas del dibujo analógico y digital en diseño industrial, a través del uso de herramientas tecnológicas']\n",
      "(8) ['Desarrollo de una metodología de visualización interactiva y eficaz de información en Big Data.']\n",
      "(9) ['Desarrollo y Aplicación de la Tecnología de Oxidación Avanzada PCFH para Mejorar la Calidad del Agua Potable en el Departamento de Nariño']\n",
      "(10) ['Fortalecimiento asociativo y productivo de los pequeños y medianos cultivadores de trucha de los municipios de Guachucal, Cumbal y Potosí del departamento de Nariño a través de la red empresarial como estrategia asociativa']\n",
      "(11) ['Fortalecimiento de las actitudes tendientes a prevenir las manifestaciones de violencia basada en género en administrativos, docentes y estudiantes en la Universidad de Nariño']\n",
      "(12) ['HONGOS FITOPATÓGENOS ASOCIADOS AL LAUREL DE CERA Morella pubescens']\n",
      "(13) ['La historia crítica del arte en Nariño']\n",
      "(14) ['La lucha territorial de los indígenas en La Guerra de los Conventillos y otras revueltas locales.']\n",
      "(15) ['LA MEMORIA COLECTIVA SOBRE EL CAMBIO EN LA FIESTA DE LAS GUAGUAS DE PAN']\n",
      "(16) ['Modelo de Gestión Humana con Enfoque en Competencias Aplicable a Empresas del Sector Servicio de la Ciudad de Pasto']\n",
      "(17) ['Modelo de Gestión Humana con Enfoque en Competencias Aplicable a Empresas del Sector Servicio de la Ciudad de Pasto']\n",
      "(18) ['Sistema de aprendizaje interactivo para la apropiación del conocimiento agroforestal']\n",
      "(19) ['Sistema de Información Integral Hacia la Estandarización de los Procesos de Producción de Cafés Especiales en el Municipio de Buesaco']\n",
      "(20) ['VALIDACIÓN DE HERRAMIENTAS DIDÁCTICAS PARA LA ENSEÑANZA AGROFORESTAL, EN LAS VEREDAS SAN FELIPE, NUEVA CAMPILLA Y MARQUEZA, DEPARTAMENTO DE NARIÑO']\n"
     ]
    }
   ],
   "source": [
    "for index, doc in enumerate(result[:20]):\n",
    "    title = doc.get_titulo_proyecto_investigacion()\n",
    "    print(f'({index+1}) {title}')"
   ]
  }
 ],
 "metadata": {
  "kernelspec": {
   "display_name": "Python (tesis)",
   "language": "python",
   "name": "tesis"
  },
  "language_info": {
   "codemirror_mode": {
    "name": "ipython",
    "version": 3
   },
   "file_extension": ".py",
   "mimetype": "text/x-python",
   "name": "python",
   "nbconvert_exporter": "python",
   "pygments_lexer": "ipython3",
   "version": "3.7.7"
  }
 },
 "nbformat": 4,
 "nbformat_minor": 4
}
