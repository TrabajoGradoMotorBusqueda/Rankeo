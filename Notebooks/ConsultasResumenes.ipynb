{
 "cells": [
  {
   "cell_type": "code",
   "execution_count": 1,
   "metadata": {},
   "outputs": [
    {
     "output_type": "execute_result",
     "data": {
      "text/plain": "{'head': {'vars': ['id_pi', 'Titulo', 'proyecto_investigacion', 'c']},\n 'results': {'bindings': [{'id_pi': {'type': 'literal', 'value': '324'},\n    'Titulo': {'type': 'literal',\n     'value': 'APROXIMACIÓN AL PENSAMIENTO JURÍDICO NARIÑENSE DESDE LAS FIGURAS DE JOSÉ RAFAEL SAÑUDO Y ERNESTO VELA ANGULO.'},\n    'proyecto_investigacion': {'type': 'uri',\n     'value': 'http://www.semanticweb.org/OntologiaInvestigacionPrueba#pi324'},\n    'c': {'type': 'literal',\n     'datatype': 'http://www.w3.org/2001/XMLSchema#integer',\n     'value': '4'}},\n   {'id_pi': {'type': 'literal', 'value': '204'},\n    'Titulo': {'type': 'literal',\n     'value': 'HONGOS FITOPATÓGENOS ASOCIADOS AL LAUREL DE CERA Morella pubescens'},\n    'proyecto_investigacion': {'type': 'uri',\n     'value': 'http://www.semanticweb.org/OntologiaInvestigacionPrueba#pi204'},\n    'c': {'type': 'literal',\n     'datatype': 'http://www.w3.org/2001/XMLSchema#integer',\n     'value': '3'}},\n   {'id_pi': {'type': 'literal', 'value': '314'},\n    'Titulo': {'type': 'literal',\n     'value': 'ANÁLISIS DE ALGORITMOS PARALELOS PARA LA TAREA DE MINERÍA DE DATOS ASOCIACIÓN'},\n    'proyecto_investigacion': {'type': 'uri',\n     'value': 'http://www.semanticweb.org/OntologiaInvestigacionPrueba#pi314'},\n    'c': {'type': 'literal',\n     'datatype': 'http://www.w3.org/2001/XMLSchema#integer',\n     'value': '2'}},\n   {'id_pi': {'type': 'literal', 'value': '315'},\n    'Titulo': {'type': 'literal',\n     'value': 'ANÁLISIS DE FUNCIONALIDAD DE LA HERRAMIENTA DE INTELIGENCIA DE NEGOCIOS DE SOFTWARE LIBRE SPAGO BI ORIENTADA AL USO EN LAS PYMES DE LA REGIÓN'},\n    'proyecto_investigacion': {'type': 'uri',\n     'value': 'http://www.semanticweb.org/OntologiaInvestigacionPrueba#pi315'},\n    'c': {'type': 'literal',\n     'datatype': 'http://www.w3.org/2001/XMLSchema#integer',\n     'value': '2'}},\n   {'id_pi': {'type': 'literal', 'value': '316'},\n    'Titulo': {'type': 'literal',\n     'value': 'ANÁLISIS DE LA CONTRIBUCIÓN SOCIOECONÓMICA DE LAS MUJERES TRABAJADORAS EN LAS ZONAS RURALES DEL MUNICIPIO DE GUACHUCAL-DEPARTAMENTO DE NARIÑO. 2018'},\n    'proyecto_investigacion': {'type': 'uri',\n     'value': 'http://www.semanticweb.org/OntologiaInvestigacionPrueba#pi316'},\n    'c': {'type': 'literal',\n     'datatype': 'http://www.w3.org/2001/XMLSchema#integer',\n     'value': '2'}},\n   {'id_pi': {'type': 'literal', 'value': '24'},\n    'Titulo': {'type': 'literal',\n     'value': 'APLICACIÓN DE TÉCNICAS DE MINERÍA DE DATOS PARA EL DESCUBRIMIENTO DE FACTORES ASOCIADOS AL DESEMPEÑO ACADÉMICO EN LAS PRUEBAS SABER 5° DE LOS ESTUDIANTES DE LAS INSTITUCIONES EDUCATIVAS DEL DEPARTAMENTO DE NARIÑO.'},\n    'proyecto_investigacion': {'type': 'uri',\n     'value': 'http://www.semanticweb.org/OntologiaInvestigacionPrueba#pi24'},\n    'c': {'type': 'literal',\n     'datatype': 'http://www.w3.org/2001/XMLSchema#integer',\n     'value': '2'}},\n   {'id_pi': {'type': 'literal', 'value': '341'},\n    'Titulo': {'type': 'literal',\n     'value': 'CONSTRUCCIÓN DE UN REPOSITORIO LIMPIO DE DATOS PARA LA DETECCIÓN DE PATRONES DE EVENTOS ERUPTIVOS DEL VOLCÁN GALERAS CON TÉCNICAS DE MINERÍA DE DATOS'},\n    'proyecto_investigacion': {'type': 'uri',\n     'value': 'http://www.semanticweb.org/OntologiaInvestigacionPrueba#pi341'},\n    'c': {'type': 'literal',\n     'datatype': 'http://www.w3.org/2001/XMLSchema#integer',\n     'value': '2'}},\n   {'id_pi': {'type': 'literal', 'value': '65'},\n    'Titulo': {'type': 'literal',\n     'value': 'DESCUBRIMIENTO DE FACTORES ASOCIADOS AL DESEMPEÑO ACADÉMICO EN LAS PRUEBAS SABER 11° DE LOS ESTUDIANTES DE LAS INSTITUCIONES EDUCATIVAS DEL DEPARTAMENTO DE NARIÑO CON TÉCNICAS DESCRIPTIVAS DE MINERÍA DE DATOS'},\n    'proyecto_investigacion': {'type': 'uri',\n     'value': 'http://www.semanticweb.org/OntologiaInvestigacionPrueba#pi65'},\n    'c': {'type': 'literal',\n     'datatype': 'http://www.w3.org/2001/XMLSchema#integer',\n     'value': '2'}},\n   {'id_pi': {'type': 'literal', 'value': '356'},\n    'Titulo': {'type': 'literal',\n     'value': 'DISEÑO COLABORATIVO DE ESTRATEGIAS INTEGRALES PARA LUGARES DE ESPARCIMIENTO JUVENIL EN LA CIUDAD DE PASTO QUE FORTALEZCAN SU RECONOCIMIENTO E IMPULSEN EL TURISMO URBANO CON PROPIOS Y TURISTAS'},\n    'proyecto_investigacion': {'type': 'uri',\n     'value': 'http://www.semanticweb.org/OntologiaInvestigacionPrueba#pi356'},\n    'c': {'type': 'literal',\n     'datatype': 'http://www.w3.org/2001/XMLSchema#integer',\n     'value': '2'}},\n   {'id_pi': {'type': 'literal', 'value': '119'},\n    'Titulo': {'type': 'literal',\n     'value': 'ESTUDIO DE LA CINÉTICA DE PÉRDIDA DE HUMEDAD Y ABSORCIÓN DE ACEITE DURANTE LA FRITURA DE ARVEJA (PISUM SATIVUM L), DE DOS VARIEDADES CULTIVADAS EN EL DEPARTAMENTO DE NARIÑO.'},\n    'proyecto_investigacion': {'type': 'uri',\n     'value': 'http://www.semanticweb.org/OntologiaInvestigacionPrueba#pi119'},\n    'c': {'type': 'literal',\n     'datatype': 'http://www.w3.org/2001/XMLSchema#integer',\n     'value': '2'}}]}}"
     },
     "metadata": {},
     "execution_count": 1
    }
   ],
   "source": [
    "from SPARQLWrapper import SPARQLWrapper, JSON\n",
    "\n",
    "sparql = SPARQLWrapper(\"http://localhost:3030/TestJena/sparql\")\n",
    "sparql.setQuery(\"\"\"\n",
    "\n",
    "PREFIX po: <http://www.semanticweb.org/OntologiaInvestigacionPrueba#>\n",
    "select ?id_pi?Titulo?proyecto_investigacion (count(?id_pi)as ?c)\n",
    "where{\n",
    "        ?proyecto_investigacion po:pi_tiene_palabra ?palabra.\n",
    "        ?proyecto_investigacion po:titulo_proyecto_investigacion ?Titulo.\n",
    "        ?proyecto_investigacion po:id_proyecto_investigacion ?id_pi.\n",
    "        ?palabra po:descripcion_palabra ?descripcion.\n",
    "        FILTER (\n",
    "            REGEX(str(?descripcion), 'descubrimiento','i')||\n",
    "            REGEX(str(?descripcion), 'conocimiento','i')\n",
    "        )\n",
    "    }\n",
    "group by ?id_pi?Titulo?proyecto_investigacion\n",
    "order by DESC(?c)\n",
    "LIMIT 10\n",
    "\"\"\")\n",
    "sparql.setReturnFormat(JSON)\n",
    "\n",
    "results = sparql.query().convert()\n",
    "results"
   ]
  },
  {
   "cell_type": "code",
   "execution_count": 2,
   "metadata": {},
   "outputs": [],
   "source": [
    "results = sparql.query().convert()\n"
   ]
  },
  {
   "cell_type": "code",
   "execution_count": 3,
   "metadata": {},
   "outputs": [
    {
     "output_type": "execute_result",
     "data": {
      "text/plain": "{'head': {'vars': ['id_pi', 'Titulo', 'proyecto_investigacion', 'c']},\n 'results': {'bindings': [{'id_pi': {'type': 'literal', 'value': '324'},\n    'Titulo': {'type': 'literal',\n     'value': 'APROXIMACIÓN AL PENSAMIENTO JURÍDICO NARIÑENSE DESDE LAS FIGURAS DE JOSÉ RAFAEL SAÑUDO Y ERNESTO VELA ANGULO.'},\n    'proyecto_investigacion': {'type': 'uri',\n     'value': 'http://www.semanticweb.org/OntologiaInvestigacionPrueba#pi324'},\n    'c': {'type': 'literal',\n     'datatype': 'http://www.w3.org/2001/XMLSchema#integer',\n     'value': '4'}},\n   {'id_pi': {'type': 'literal', 'value': '204'},\n    'Titulo': {'type': 'literal',\n     'value': 'HONGOS FITOPATÓGENOS ASOCIADOS AL LAUREL DE CERA Morella pubescens'},\n    'proyecto_investigacion': {'type': 'uri',\n     'value': 'http://www.semanticweb.org/OntologiaInvestigacionPrueba#pi204'},\n    'c': {'type': 'literal',\n     'datatype': 'http://www.w3.org/2001/XMLSchema#integer',\n     'value': '3'}},\n   {'id_pi': {'type': 'literal', 'value': '314'},\n    'Titulo': {'type': 'literal',\n     'value': 'ANÁLISIS DE ALGORITMOS PARALELOS PARA LA TAREA DE MINERÍA DE DATOS ASOCIACIÓN'},\n    'proyecto_investigacion': {'type': 'uri',\n     'value': 'http://www.semanticweb.org/OntologiaInvestigacionPrueba#pi314'},\n    'c': {'type': 'literal',\n     'datatype': 'http://www.w3.org/2001/XMLSchema#integer',\n     'value': '2'}},\n   {'id_pi': {'type': 'literal', 'value': '315'},\n    'Titulo': {'type': 'literal',\n     'value': 'ANÁLISIS DE FUNCIONALIDAD DE LA HERRAMIENTA DE INTELIGENCIA DE NEGOCIOS DE SOFTWARE LIBRE SPAGO BI ORIENTADA AL USO EN LAS PYMES DE LA REGIÓN'},\n    'proyecto_investigacion': {'type': 'uri',\n     'value': 'http://www.semanticweb.org/OntologiaInvestigacionPrueba#pi315'},\n    'c': {'type': 'literal',\n     'datatype': 'http://www.w3.org/2001/XMLSchema#integer',\n     'value': '2'}},\n   {'id_pi': {'type': 'literal', 'value': '316'},\n    'Titulo': {'type': 'literal',\n     'value': 'ANÁLISIS DE LA CONTRIBUCIÓN SOCIOECONÓMICA DE LAS MUJERES TRABAJADORAS EN LAS ZONAS RURALES DEL MUNICIPIO DE GUACHUCAL-DEPARTAMENTO DE NARIÑO. 2018'},\n    'proyecto_investigacion': {'type': 'uri',\n     'value': 'http://www.semanticweb.org/OntologiaInvestigacionPrueba#pi316'},\n    'c': {'type': 'literal',\n     'datatype': 'http://www.w3.org/2001/XMLSchema#integer',\n     'value': '2'}},\n   {'id_pi': {'type': 'literal', 'value': '24'},\n    'Titulo': {'type': 'literal',\n     'value': 'APLICACIÓN DE TÉCNICAS DE MINERÍA DE DATOS PARA EL DESCUBRIMIENTO DE FACTORES ASOCIADOS AL DESEMPEÑO ACADÉMICO EN LAS PRUEBAS SABER 5° DE LOS ESTUDIANTES DE LAS INSTITUCIONES EDUCATIVAS DEL DEPARTAMENTO DE NARIÑO.'},\n    'proyecto_investigacion': {'type': 'uri',\n     'value': 'http://www.semanticweb.org/OntologiaInvestigacionPrueba#pi24'},\n    'c': {'type': 'literal',\n     'datatype': 'http://www.w3.org/2001/XMLSchema#integer',\n     'value': '2'}},\n   {'id_pi': {'type': 'literal', 'value': '341'},\n    'Titulo': {'type': 'literal',\n     'value': 'CONSTRUCCIÓN DE UN REPOSITORIO LIMPIO DE DATOS PARA LA DETECCIÓN DE PATRONES DE EVENTOS ERUPTIVOS DEL VOLCÁN GALERAS CON TÉCNICAS DE MINERÍA DE DATOS'},\n    'proyecto_investigacion': {'type': 'uri',\n     'value': 'http://www.semanticweb.org/OntologiaInvestigacionPrueba#pi341'},\n    'c': {'type': 'literal',\n     'datatype': 'http://www.w3.org/2001/XMLSchema#integer',\n     'value': '2'}},\n   {'id_pi': {'type': 'literal', 'value': '65'},\n    'Titulo': {'type': 'literal',\n     'value': 'DESCUBRIMIENTO DE FACTORES ASOCIADOS AL DESEMPEÑO ACADÉMICO EN LAS PRUEBAS SABER 11° DE LOS ESTUDIANTES DE LAS INSTITUCIONES EDUCATIVAS DEL DEPARTAMENTO DE NARIÑO CON TÉCNICAS DESCRIPTIVAS DE MINERÍA DE DATOS'},\n    'proyecto_investigacion': {'type': 'uri',\n     'value': 'http://www.semanticweb.org/OntologiaInvestigacionPrueba#pi65'},\n    'c': {'type': 'literal',\n     'datatype': 'http://www.w3.org/2001/XMLSchema#integer',\n     'value': '2'}},\n   {'id_pi': {'type': 'literal', 'value': '356'},\n    'Titulo': {'type': 'literal',\n     'value': 'DISEÑO COLABORATIVO DE ESTRATEGIAS INTEGRALES PARA LUGARES DE ESPARCIMIENTO JUVENIL EN LA CIUDAD DE PASTO QUE FORTALEZCAN SU RECONOCIMIENTO E IMPULSEN EL TURISMO URBANO CON PROPIOS Y TURISTAS'},\n    'proyecto_investigacion': {'type': 'uri',\n     'value': 'http://www.semanticweb.org/OntologiaInvestigacionPrueba#pi356'},\n    'c': {'type': 'literal',\n     'datatype': 'http://www.w3.org/2001/XMLSchema#integer',\n     'value': '2'}},\n   {'id_pi': {'type': 'literal', 'value': '119'},\n    'Titulo': {'type': 'literal',\n     'value': 'ESTUDIO DE LA CINÉTICA DE PÉRDIDA DE HUMEDAD Y ABSORCIÓN DE ACEITE DURANTE LA FRITURA DE ARVEJA (PISUM SATIVUM L), DE DOS VARIEDADES CULTIVADAS EN EL DEPARTAMENTO DE NARIÑO.'},\n    'proyecto_investigacion': {'type': 'uri',\n     'value': 'http://www.semanticweb.org/OntologiaInvestigacionPrueba#pi119'},\n    'c': {'type': 'literal',\n     'datatype': 'http://www.w3.org/2001/XMLSchema#integer',\n     'value': '2'}}]}}"
     },
     "metadata": {},
     "execution_count": 3
    }
   ],
   "source": [
    "results"
   ]
  },
  {
   "cell_type": "code",
   "execution_count": 1,
   "metadata": {},
   "outputs": [],
   "source": [
    "import sys\n",
    "# insert at 1, 0 is the script path (or '' in REPL)\n",
    "sys.path.insert(1, '../Scripts')\n",
    "from ontologia import *"
   ]
  },
  {
   "cell_type": "code",
   "execution_count": 2,
   "metadata": {
    "tags": []
   },
   "outputs": [
    {
     "output_type": "stream",
     "name": "stderr",
     "text": "* Owlready2 * Running HermiT...\n    java -Xmx2000M -cp /home/sangeeky/anaconda3/envs/tesis/lib/python3.7/site-packages/owlready2/hermit:/home/sangeeky/anaconda3/envs/tesis/lib/python3.7/site-packages/owlready2/hermit/HermiT.jar org.semanticweb.HermiT.cli.CommandLine -c -O -D -I file:////tmp/tmpuvntmp6v\n* Owlready2 * HermiT took 14.36101770401001 seconds\n* Owlready * (NB: only changes on entities loaded in Python are shown, other changes are done but not listed)\n"
    }
   ],
   "source": [
    "sync_reasoner() g"
   ]
  },
  {
   "cell_type": "code",
   "execution_count": 2,
   "metadata": {},
   "outputs": [
    {
     "output_type": "execute_result",
     "data": {
      "text/plain": "OntologiaInvestigacionPrueba.pi1"
     },
     "metadata": {},
     "execution_count": 2
    }
   ],
   "source": [
    "palabra = (ontologia.Palabra.instances())[0]\n",
    "trabajo = (palabra.palabra_describe_pi)[0]\n",
    "trabajo"
   ]
  },
  {
   "cell_type": "code",
   "execution_count": 3,
   "metadata": {
    "tags": []
   },
   "outputs": [
    {
     "output_type": "stream",
     "name": "stdout",
     "text": "[OntologiaInvestigacionPrueba.Proyecto_investigacion]\n[OntologiaInvestigacionPrueba.Universidad]\n[OntologiaInvestigacionPrueba.VIIS, OntologiaInvestigacionPrueba.Facultad]\n"
    }
   ],
   "source": [
    "print(trabajo.is_a)\n",
    "#print(ontologia.get_instances_of(parent))\n",
    "print(ontologia.get_parents_of(Facultad))\n",
    "print(ontologia.get_children_of(Universidad))"
   ]
  },
  {
   "cell_type": "code",
   "execution_count": 2,
   "metadata": {},
   "outputs": [],
   "source": [
    "graph = default_world.as_rdflib_graph()"
   ]
  },
  {
   "cell_type": "code",
   "execution_count": 3,
   "metadata": {},
   "outputs": [
    {
     "data": {
      "text/plain": "[[OntologiaInvestigacionPrueba.Convocatoria,\n  OntologiaInvestigacionPrueba.VIIS],\n [OntologiaInvestigacionPrueba.VIIS, OntologiaInvestigacionPrueba.Universidad],\n [OntologiaInvestigacionPrueba.Departamento,\n  OntologiaInvestigacionPrueba.Facultad],\n [OntologiaInvestigacionPrueba.Facultad,\n  OntologiaInvestigacionPrueba.Universidad],\n [OntologiaInvestigacionPrueba.Programa,\n  OntologiaInvestigacionPrueba.Departamento],\n [OntologiaInvestigacionPrueba.Docente,\n  OntologiaInvestigacionPrueba.Investigador],\n [OntologiaInvestigacionPrueba.Estudiante,\n  OntologiaInvestigacionPrueba.Investigador],\n [OntologiaInvestigacionPrueba.Linea_investigacion,\n  OntologiaInvestigacionPrueba.Grupo_investigacion],\n [OntologiaInvestigacionPrueba.Investigador_externo,\n  OntologiaInvestigacionPrueba.Investigador]]"
     },
     "execution_count": 4,
     "metadata": {},
     "execution_count": 3
    }
   ],
   "source": [
    "list(graph.query_owlready(\"\"\"\n",
    "PREFIX rdf: <http://www.w3.org/1999/02/22-rdf-syntax-ns#>\n",
    "PREFIX owl: <http://www.w3.org/2002/07/owl#>\n",
    "PREFIX rdfs: <http://www.w3.org/2000/01/rdf-schema#>\n",
    "PREFIX xsd: <http://www.w3.org/2001/XMLSchema#>\n",
    "SELECT ?subject ?object\n",
    "\tWHERE { ?subject rdfs:subClassOf ?object }\n",
    "\"\"\"))"
   ]
  },
  {
   "cell_type": "code",
   "execution_count": 4,
   "metadata": {
    "tags": []
   },
   "outputs": [
    {
     "name": "stdout",
     "text": "['APLICACIÓN DE LA MINERÍA DE DATOS EN LA DETECCIÓN DE PATRONES DE DESEMPEÑO EN LAS COMPETENCIAS GENÉRICAS DE LAS PRUEBAS SABER PRO 2012, 2013 y 2014 DE LOS ESTUDIANTES DE LOS PROGRAMAS PROFESIONALES DE LA UNIVERSIDAD DE NARIÑO']\n{OntologiaInvestigacionPrueba.resumen_proyecto_investigacion, OntologiaInvestigacionPrueba.estado_proyecto_investigacion, OntologiaInvestigacionPrueba.id_proyecto_investigacion, OntologiaInvestigacionPrueba.pi_tiene_palabra, OntologiaInvestigacionPrueba.tipo_proyecto_investigacion, OntologiaInvestigacionPrueba.titulo_proyecto_investigacion}\n"
    }
   ],
   "source": [
    "duro = list(graph.query_owlready(\"\"\"\n",
    "PREFIX rdf: <http://www.w3.org/1999/02/22-rdf-syntax-ns#>\n",
    "PREFIX owl: <http://www.w3.org/2002/07/owl#>\n",
    "PREFIX rdfs: <http://www.w3.org/2000/01/rdf-schema#>\n",
    "PREFIX xsd: <http://www.w3.org/2001/XMLSchema#>\n",
    "PREFIX po: <http://www.semanticweb.org/OntologiaInvestigacionPrueba#>\n",
    "SELECT ?Proyecto\n",
    "\tWHERE { ?Proyecto po:pi_tiene_palabra po:ricardo.}\n",
    "\"\"\"))[0]\n",
    "print(duro[0].get_titulo_proyecto_investigacion())\n",
    "print(duro[0].get_properties())"
   ]
  },
  {
   "cell_type": "code",
   "execution_count": 1,
   "metadata": {
    "tags": []
   },
   "outputs": [
    {
     "output_type": "stream",
     "name": "stderr",
     "text": "http://www.semanticweb.org/OntologiaInvestigacionPrueba#d.i.a . does not look like a valid URI, trying to serialize this will break.\nhttp://www.semanticweb.org/OntologiaInvestigacionPrueba#e.e . does not look like a valid URI, trying to serialize this will break.\nhttp://www.semanticweb.org/OntologiaInvestigacionPrueba#d.c . does not look like a valid URI, trying to serialize this will break.\nhttp://www.semanticweb.org/OntologiaInvestigacionPrueba#s.a . does not look like a valid URI, trying to serialize this will break.\nhttp://www.semanticweb.org/OntologiaInvestigacionPrueba#e.s.p . does not look like a valid URI, trying to serialize this will break.\nhttp://www.semanticweb.org/OntologiaInvestigacionPrueba#s.d . does not look like a valid URI, trying to serialize this will break.\nhttp://www.semanticweb.org/OntologiaInvestigacionPrueba#l.f . does not look like a valid URI, trying to serialize this will break.\nhttp://www.semanticweb.org/OntologiaInvestigacionPrueba#h.b.k . does not look like a valid URI, trying to serialize this will break.\nhttp://www.semanticweb.org/OntologiaInvestigacionPrueba#p.t.a . does not look like a valid URI, trying to serialize this will break.\nhttp://www.semanticweb.org/OntologiaInvestigacionPrueba#m.s.n.m . does not look like a valid URI, trying to serialize this will break.\nhttp://www.semanticweb.org/OntologiaInvestigacionPrueba#i.d.s . does not look like a valid URI, trying to serialize this will break.\nhttp://www.semanticweb.org/OntologiaInvestigacionPrueba#m.s.n.m . does not look like a valid URI, trying to serialize this will break.\nhttp://www.semanticweb.org/OntologiaInvestigacionPrueba#h.b . does not look like a valid URI, trying to serialize this will break.\nhttp://www.semanticweb.org/OntologiaInvestigacionPrueba#m.s.n . does not look like a valid URI, trying to serialize this will break.\nhttp://www.semanticweb.org/OntologiaInvestigacionPrueba#s.v . does not look like a valid URI, trying to serialize this will break.\nhttp://www.semanticweb.org/OntologiaInvestigacionPrueba#m.s.n.m . does not look like a valid URI, trying to serialize this will break.\nhttp://www.semanticweb.org/OntologiaInvestigacionPrueba#s.v . does not look like a valid URI, trying to serialize this will break.\nhttp://www.semanticweb.org/OntologiaInvestigacionPrueba#e.p . does not look like a valid URI, trying to serialize this will break.\nhttp://www.semanticweb.org/OntologiaInvestigacionPrueba#m.s.n . does not look like a valid URI, trying to serialize this will break.\nhttp://www.semanticweb.org/OntologiaInvestigacionPrueba#j.m . does not look like a valid URI, trying to serialize this will break.\nhttp://www.semanticweb.org/OntologiaInvestigacionPrueba#m.s.n.m . does not look like a valid URI, trying to serialize this will break.\nhttp://www.semanticweb.org/OntologiaInvestigacionPrueba#m.s.n.m . does not look like a valid URI, trying to serialize this will break.\nhttp://www.semanticweb.org/OntologiaInvestigacionPrueba#s.f . does not look like a valid URI, trying to serialize this will break.\nhttp://www.semanticweb.org/OntologiaInvestigacionPrueba#h.b . does not look like a valid URI, trying to serialize this will break.\nhttp://www.semanticweb.org/OntologiaInvestigacionPrueba#e.g . does not look like a valid URI, trying to serialize this will break.\nhttp://www.semanticweb.org/OntologiaInvestigacionPrueba#d.i.a . does not look like a valid URI, trying to serialize this will break.\nhttp://www.semanticweb.org/OntologiaInvestigacionPrueba#e.e . does not look like a valid URI, trying to serialize this will break.\nhttp://www.semanticweb.org/OntologiaInvestigacionPrueba#d.c . does not look like a valid URI, trying to serialize this will break.\nhttp://www.semanticweb.org/OntologiaInvestigacionPrueba#s.a . does not look like a valid URI, trying to serialize this will break.\nhttp://www.semanticweb.org/OntologiaInvestigacionPrueba#e.s.p . does not look like a valid URI, trying to serialize this will break.\nhttp://www.semanticweb.org/OntologiaInvestigacionPrueba#s.d . does not look like a valid URI, trying to serialize this will break.\nhttp://www.semanticweb.org/OntologiaInvestigacionPrueba#l.f . does not look like a valid URI, trying to serialize this will break.\nhttp://www.semanticweb.org/OntologiaInvestigacionPrueba#h.b.k . does not look like a valid URI, trying to serialize this will break.\nhttp://www.semanticweb.org/OntologiaInvestigacionPrueba#p.t.a . does not look like a valid URI, trying to serialize this will break.\nhttp://www.semanticweb.org/OntologiaInvestigacionPrueba#m.s.n.m . does not look like a valid URI, trying to serialize this will break.\nhttp://www.semanticweb.org/OntologiaInvestigacionPrueba#i.d.s . does not look like a valid URI, trying to serialize this will break.\nhttp://www.semanticweb.org/OntologiaInvestigacionPrueba#h.b . does not look like a valid URI, trying to serialize this will break.\nhttp://www.semanticweb.org/OntologiaInvestigacionPrueba#m.s.n . does not look like a valid URI, trying to serialize this will break.\nhttp://www.semanticweb.org/OntologiaInvestigacionPrueba#s.v . does not look like a valid URI, trying to serialize this will break.\nhttp://www.semanticweb.org/OntologiaInvestigacionPrueba#e.p . does not look like a valid URI, trying to serialize this will break.\nhttp://www.semanticweb.org/OntologiaInvestigacionPrueba#j.m . does not look like a valid URI, trying to serialize this will break.\nhttp://www.semanticweb.org/OntologiaInvestigacionPrueba#s.f . does not look like a valid URI, trying to serialize this will break.\nhttp://www.semanticweb.org/OntologiaInvestigacionPrueba#e.g . does not look like a valid URI, trying to serialize this will break.\n"
    },
    {
     "output_type": "execute_result",
     "data": {
      "text/plain": "<Graph identifier=N37364de645be4f8b93bc362f2fd115cb (<class 'rdflib.graph.Graph'>)>"
     },
     "metadata": {},
     "execution_count": 1
    }
   ],
   "source": [
    "import rdflib\n",
    "\n",
    "g = rdflib.Graph()\n",
    "\n",
    "# ... add some triples to g somehow ...\n",
    "g.parse(\"../Data/OntologiaInvestigacionPrueba.owl\")\n",
    "\n"
   ]
  },
  {
   "cell_type": "code",
   "execution_count": 2,
   "metadata": {},
   "outputs": [],
   "source": [
    "qres = g.query(\n",
    "    \"\"\"\n",
    "PREFIX rdf: <http://www.w3.org/1999/02/22-rdf-syntax-ns#>\n",
    "PREFIX owl: <http://www.w3.org/2002/07/owl#>\n",
    "PREFIX rdfs: <http://www.w3.org/2000/01/rdf-schema#>\n",
    "PREFIX xsd: <http://www.w3.org/2001/XMLSchema#>\n",
    "PREFIX po: <http://www.semanticweb.org/OntologiaInvestigacionPrueba#>\n",
    "select ?id_pi?Titulo?proyecto_investigacion (count(?id_pi)as ?c)\n",
    "where{\n",
    "        ?proyecto_investigacion po:pi_tiene_palabra ?palabra.\n",
    "        ?proyecto_investigacion po:titulo_proyecto_investigacion ?Titulo.\n",
    "        ?proyecto_investigacion po:id_proyecto_investigacion ?id_pi.\n",
    "        ?palabra po:descripcion_palabra ?descripcion.\n",
    "        FILTER (\n",
    "            REGEX(str(?descripcion), 'descubrimiento','i')||\n",
    "            REGEX(str(?descripcion), 'conocimiento','i')\n",
    "        )\n",
    "    }\n",
    "group by ?id_pi?Titulo?proyecto_investigacion\n",
    "\"\"\")\n"
   ]
  },
  {
   "cell_type": "code",
   "execution_count": 11,
   "metadata": {},
   "outputs": [],
   "source": [
    "qres = g.query(\n",
    "    \"\"\"\n",
    "PREFIX rdf: <http://www.w3.org/1999/02/22-rdf-syntax-ns#>\n",
    "PREFIX owl: <http://www.w3.org/2002/07/owl#>\n",
    "PREFIX rdfs: <http://www.w3.org/2000/01/rdf-schema#>\n",
    "PREFIX xsd: <http://www.w3.org/2001/XMLSchema#>\n",
    "PREFIX po: <http://www.semanticweb.org/OntologiaInvestigacionPrueba#>\n",
    "select ?id_pi?Titulo?proyecto_investigacion (count(?id_pi)as ?c)\n",
    "where{\n",
    "        ?palabras po:palabra_describe_pi ?proyecto_investigacion.\n",
    "        ?proyecto_investigacion po:titulo_proyecto_investigacion ?Titulo.\n",
    "        ?proyecto_investigacion po:id_proyecto_investigacion ?id_pi.\n",
    "        ?palabras po:descripcion_palabra ?descripcion.\n",
    "        FILTER (\n",
    "            REGEX(str(?descripcion), 'descubrimiento','i')||\n",
    "            REGEX(str(?descripcion), 'conocimiento','i')\n",
    "        )\n",
    "    }\n",
    "group by ?id_pi?Titulo?proyecto_investigacion\n",
    "order by DESC(?c)\n",
    "\"\"\")"
   ]
  },
  {
   "cell_type": "code",
   "execution_count": 12,
   "metadata": {},
   "outputs": [
    {
     "data": {
      "text/plain": "[]"
     },
     "execution_count": 22,
     "metadata": {},
     "execution_count": 12
    }
   ],
   "source": [
    "list(qres)"
   ]
  },
  {
   "cell_type": "code",
   "execution_count": 5,
   "metadata": {
    "tags": []
   },
   "outputs": [],
   "source": [
    "#Directa\n",
    "trabajos = list(graph.query(\"\"\"\n",
    "PREFIX rdf: <http://www.w3.org/1999/02/22-rdf-syntax-ns#>\n",
    "PREFIX owl: <http://www.w3.org/2002/07/owl#>\n",
    "PREFIX rdfs: <http://www.w3.org/2000/01/rdf-schema#>\n",
    "PREFIX xsd: <http://www.w3.org/2001/XMLSchema#>\n",
    "PREFIX po: <http://www.semanticweb.org/OntologiaInvestigacionPrueba#>\n",
    "select ?id_pi?Titulo?proyecto_investigacion (count(?id_pi)as ?c)\n",
    "where{\n",
    "        ?proyecto_investigacion po:pi_tiene_palabra ?palabra.\n",
    "        ?proyecto_investigacion po:titulo_proyecto_investigacion ?Titulo.\n",
    "        ?proyecto_investigacion po:id_proyecto_investigacion ?id_pi.\n",
    "        ?palabra po:descripcion_palabra ?descripcion.\n",
    "        FILTER (\n",
    "            REGEX(str(?descripcion), 'descubrimiento','i')||\n",
    "            REGEX(str(?descripcion), 'conocimiento','i')\n",
    "        )\n",
    "    }\n",
    "group by ?id_pi?Titulo?proyecto_investigacion\n",
    "order by DESC(?c)\n",
    "\"\"\"))\n",
    "\n",
    "#trabajos\n",
    "                "
   ]
  },
  {
   "cell_type": "code",
   "execution_count": 6,
   "metadata": {},
   "outputs": [
    {
     "output_type": "execute_result",
     "data": {
      "text/plain": "(rdflib.term.Literal('204', datatype=rdflib.term.URIRef('http://www.w3.org/2001/XMLSchema#string')),\n rdflib.term.Literal('HONGOS FITOPATÓGENOS ASOCIADOS AL LAUREL DE CERA Morella pubescens', datatype=rdflib.term.URIRef('http://www.w3.org/2001/XMLSchema#string')),\n rdflib.term.URIRef('http://www.semanticweb.org/OntologiaInvestigacionPrueba#pi204'),\n rdflib.term.Literal('3', datatype=rdflib.term.URIRef('http://www.w3.org/2001/XMLSchema#integer')))"
     },
     "metadata": {},
     "execution_count": 6
    }
   ],
   "source": [
    "trabajos[1]"
   ]
  },
  {
   "cell_type": "code",
   "execution_count": 3,
   "metadata": {
    "tags": []
   },
   "outputs": [
    {
     "output_type": "stream",
     "name": "stderr",
     "text": "http://www.semanticweb.org/OntologiaInvestigacionPrueba#d.i.a . does not look like a valid URI, trying to serialize this will break.\nhttp://www.semanticweb.org/OntologiaInvestigacionPrueba#d.i.a . does not look like a valid URI, trying to serialize this will break.\nhttp://www.semanticweb.org/OntologiaInvestigacionPrueba#e.e . does not look like a valid URI, trying to serialize this will break.\nhttp://www.semanticweb.org/OntologiaInvestigacionPrueba#e.e . does not look like a valid URI, trying to serialize this will break.\nhttp://www.semanticweb.org/OntologiaInvestigacionPrueba#d.c . does not look like a valid URI, trying to serialize this will break.\nhttp://www.semanticweb.org/OntologiaInvestigacionPrueba#d.c . does not look like a valid URI, trying to serialize this will break.\nhttp://www.semanticweb.org/OntologiaInvestigacionPrueba#s.a . does not look like a valid URI, trying to serialize this will break.\nhttp://www.semanticweb.org/OntologiaInvestigacionPrueba#s.a . does not look like a valid URI, trying to serialize this will break.\nhttp://www.semanticweb.org/OntologiaInvestigacionPrueba#e.s.p . does not look like a valid URI, trying to serialize this will break.\nhttp://www.semanticweb.org/OntologiaInvestigacionPrueba#e.s.p . does not look like a valid URI, trying to serialize this will break.\nhttp://www.semanticweb.org/OntologiaInvestigacionPrueba#s.d . does not look like a valid URI, trying to serialize this will break.\nhttp://www.semanticweb.org/OntologiaInvestigacionPrueba#s.d . does not look like a valid URI, trying to serialize this will break.\nhttp://www.semanticweb.org/OntologiaInvestigacionPrueba#l.f . does not look like a valid URI, trying to serialize this will break.\nhttp://www.semanticweb.org/OntologiaInvestigacionPrueba#l.f . does not look like a valid URI, trying to serialize this will break.\nhttp://www.semanticweb.org/OntologiaInvestigacionPrueba#h.b.k . does not look like a valid URI, trying to serialize this will break.\nhttp://www.semanticweb.org/OntologiaInvestigacionPrueba#h.b.k . does not look like a valid URI, trying to serialize this will break.\nhttp://www.semanticweb.org/OntologiaInvestigacionPrueba#p.t.a . does not look like a valid URI, trying to serialize this will break.\nhttp://www.semanticweb.org/OntologiaInvestigacionPrueba#p.t.a . does not look like a valid URI, trying to serialize this will break.\nhttp://www.semanticweb.org/OntologiaInvestigacionPrueba#m.s.n.m . does not look like a valid URI, trying to serialize this will break.\nhttp://www.semanticweb.org/OntologiaInvestigacionPrueba#m.s.n.m . does not look like a valid URI, trying to serialize this will break.\nhttp://www.semanticweb.org/OntologiaInvestigacionPrueba#i.d.s . does not look like a valid URI, trying to serialize this will break.\nhttp://www.semanticweb.org/OntologiaInvestigacionPrueba#i.d.s . does not look like a valid URI, trying to serialize this will break.\nhttp://www.semanticweb.org/OntologiaInvestigacionPrueba#m.s.n.m . does not look like a valid URI, trying to serialize this will break.\nhttp://www.semanticweb.org/OntologiaInvestigacionPrueba#m.s.n.m . does not look like a valid URI, trying to serialize this will break.\nhttp://www.semanticweb.org/OntologiaInvestigacionPrueba#h.b . does not look like a valid URI, trying to serialize this will break.\nhttp://www.semanticweb.org/OntologiaInvestigacionPrueba#h.b . does not look like a valid URI, trying to serialize this will break.\nhttp://www.semanticweb.org/OntologiaInvestigacionPrueba#m.s.n . does not look like a valid URI, trying to serialize this will break.\nhttp://www.semanticweb.org/OntologiaInvestigacionPrueba#m.s.n . does not look like a valid URI, trying to serialize this will break.\nhttp://www.semanticweb.org/OntologiaInvestigacionPrueba#s.v . does not look like a valid URI, trying to serialize this will break.\nhttp://www.semanticweb.org/OntologiaInvestigacionPrueba#s.v . does not look like a valid URI, trying to serialize this will break.\nhttp://www.semanticweb.org/OntologiaInvestigacionPrueba#m.s.n.m . does not look like a valid URI, trying to serialize this will break.\nhttp://www.semanticweb.org/OntologiaInvestigacionPrueba#m.s.n.m . does not look like a valid URI, trying to serialize this will break.\nhttp://www.semanticweb.org/OntologiaInvestigacionPrueba#s.v . does not look like a valid URI, trying to serialize this will break.\nhttp://www.semanticweb.org/OntologiaInvestigacionPrueba#s.v . does not look like a valid URI, trying to serialize this will break.\nhttp://www.semanticweb.org/OntologiaInvestigacionPrueba#e.p . does not look like a valid URI, trying to serialize this will break.\nhttp://www.semanticweb.org/OntologiaInvestigacionPrueba#e.p . does not look like a valid URI, trying to serialize this will break.\nhttp://www.semanticweb.org/OntologiaInvestigacionPrueba#m.s.n . does not look like a valid URI, trying to serialize this will break.\nhttp://www.semanticweb.org/OntologiaInvestigacionPrueba#m.s.n . does not look like a valid URI, trying to serialize this will break.\nhttp://www.semanticweb.org/OntologiaInvestigacionPrueba#j.m . does not look like a valid URI, trying to serialize this will break.\nhttp://www.semanticweb.org/OntologiaInvestigacionPrueba#j.m . does not look like a valid URI, trying to serialize this will break.\nhttp://www.semanticweb.org/OntologiaInvestigacionPrueba#m.s.n.m . does not look like a valid URI, trying to serialize this will break.\nhttp://www.semanticweb.org/OntologiaInvestigacionPrueba#m.s.n.m . does not look like a valid URI, trying to serialize this will break.\nhttp://www.semanticweb.org/OntologiaInvestigacionPrueba#m.s.n.m . does not look like a valid URI, trying to serialize this will break.\nhttp://www.semanticweb.org/OntologiaInvestigacionPrueba#m.s.n.m . does not look like a valid URI, trying to serialize this will break.\nhttp://www.semanticweb.org/OntologiaInvestigacionPrueba#s.f . does not look like a valid URI, trying to serialize this will break.\nhttp://www.semanticweb.org/OntologiaInvestigacionPrueba#s.f . does not look like a valid URI, trying to serialize this will break.\nhttp://www.semanticweb.org/OntologiaInvestigacionPrueba#h.b . does not look like a valid URI, trying to serialize this will break.\nhttp://www.semanticweb.org/OntologiaInvestigacionPrueba#h.b . does not look like a valid URI, trying to serialize this will break.\nhttp://www.semanticweb.org/OntologiaInvestigacionPrueba#e.g . does not look like a valid URI, trying to serialize this will break.\nhttp://www.semanticweb.org/OntologiaInvestigacionPrueba#e.g . does not look like a valid URI, trying to serialize this will break.\n"
    },
    {
     "output_type": "execute_result",
     "data": {
      "text/plain": "<rdflib.plugins.sparql.processor.SPARQLResult at 0x7fe3d5512990>"
     },
     "metadata": {},
     "execution_count": 3
    }
   ],
   "source": [
    "#Inversa\n",
    "trabajos = graph.query(\"\"\"\n",
    "PREFIX rdf: <http://www.w3.org/1999/02/22-rdf-syntax-ns#>\n",
    "PREFIX owl: <http://www.w3.org/2002/07/owl#>\n",
    "PREFIX rdfs: <http://www.w3.org/2000/01/rdf-schema#>\n",
    "PREFIX xsd: <http://www.w3.org/2001/XMLSchema#>\n",
    "PREFIX po: <http://www.semanticweb.org/OntologiaInvestigacionPrueba#>\n",
    "select ?id_pi?Titulo?proyecto_investigacion (count(?id_pi)as ?c)\n",
    "where{\n",
    "        ?palabras po:descripcion_palabra ?descripcion.\n",
    "        ?palabras po:palabra_describe_pi ?proyecto_investigacion.\n",
    "        ?proyecto_investigacion po:titulo_proyecto_investigacion ?Titulo.\n",
    "        ?proyecto_investigacion po:id_proyecto_investigacion ?id_pi.\n",
    "        FILTER (\n",
    "            REGEX(str(?descripcion), 'descubrimiento','i')||\n",
    "            REGEX(str(?descripcion), 'conocimiento','i')\n",
    "        )\n",
    "    }\n",
    "group by ?id_pi?Titulo?proyecto_investigacion\n",
    "order by DESC(?c)\n",
    "\"\"\")\n",
    "\n",
    "trabajos"
   ]
  },
  {
   "cell_type": "code",
   "execution_count": 4,
   "metadata": {},
   "outputs": [
    {
     "output_type": "execute_result",
     "data": {
      "text/plain": "(rdflib.term.Literal('324', datatype=rdflib.term.URIRef('http://www.w3.org/2001/XMLSchema#string')),\n rdflib.term.Literal('APROXIMACIÓN AL PENSAMIENTO JURÍDICO NARIÑENSE DESDE LAS FIGURAS DE JOSÉ RAFAEL SAÑUDO Y ERNESTO VELA ANGULO.', datatype=rdflib.term.URIRef('http://www.w3.org/2001/XMLSchema#string')),\n rdflib.term.URIRef('http://www.semanticweb.org/OntologiaInvestigacionPrueba#pi324'),\n rdflib.term.Literal('4', datatype=rdflib.term.URIRef('http://www.w3.org/2001/XMLSchema#integer')))"
     },
     "metadata": {},
     "execution_count": 4
    }
   ],
   "source": [
    "list(trabajos)[0]"
   ]
  },
  {
   "cell_type": "code",
   "execution_count": 17,
   "metadata": {},
   "outputs": [
    {
     "output_type": "execute_result",
     "data": {
      "text/plain": "OntologiaInvestigacionPrueba.Palabra"
     },
     "metadata": {},
     "execution_count": 17
    }
   ],
   "source": [
    "ontologia.Palabra.get_pr"
   ]
  },
  {
   "cell_type": "code",
   "execution_count": 3,
   "metadata": {
    "tags": []
   },
   "outputs": [
    {
     "output_type": "stream",
     "name": "stdout",
     "text": "['herramienta']\n{OntologiaInvestigacionPrueba.palabra_describe_pi, OntologiaInvestigacionPrueba.descripcion_palabra}\n"
    }
   ],
   "source": [
    "mini_palabra = list(graph.query_owlready(\"\"\"\n",
    "PREFIX rdf: <http://www.w3.org/1999/02/22-rdf-syntax-ns#>\n",
    "PREFIX owl: <http://www.w3.org/2002/07/owl#>\n",
    "PREFIX rdfs: <http://www.w3.org/2000/01/rdf-schema#>\n",
    "PREFIX xsd: <http://www.w3.org/2001/XMLSchema#>\n",
    "PREFIX po: <http://www.semanticweb.org/OntologiaInvestigacionPrueba#>\n",
    "SELECT ?Palabra\n",
    "WHERE { ?Palabra po:palabra_describe_pi po:pi427. } \n",
    "LIMIT 1\n",
    "\"\"\"))[0]\n",
    "print(mini_palabra[0].get_descripcion_palabra())\n",
    "print(mini_palabra[0].get_properties())\n"
   ]
  }
 ],
 "metadata": {
  "kernelspec": {
   "display_name": "Python 3",
   "language": "python",
   "name": "python3"
  },
  "language_info": {
   "codemirror_mode": {
    "name": "ipython",
    "version": 3
   },
   "file_extension": ".py",
   "mimetype": "text/x-python",
   "name": "python",
   "nbconvert_exporter": "python",
   "pygments_lexer": "ipython3",
   "version": "3.8.3"
  }
 },
 "nbformat": 4,
 "nbformat_minor": 2
}
