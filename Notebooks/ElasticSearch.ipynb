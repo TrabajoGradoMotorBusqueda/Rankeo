{
 "cells": [
  {
   "cell_type": "code",
   "execution_count": 1,
   "metadata": {},
   "outputs": [],
   "source": [
    "from gensim.test.utils import datapath\n",
    "from gensim import utils\n",
    "from gensim.models.doc2vec import Doc2Vec, TaggedDocument\n",
    "from gensim.models import Word2Vec\n",
    "from time import time"
   ]
  },
  {
   "cell_type": "markdown",
   "metadata": {},
   "source": [
    "Cargar Modelos originales"
   ]
  },
  {
   "cell_type": "code",
   "execution_count": 2,
   "metadata": {},
   "outputs": [],
   "source": [
    "modeloD2V = Doc2Vec.load(\"./Modelos/modelo2_FINALD2V.model\")\n",
    "modeloW2V = Word2Vec.load(\"./Modelos/modelo10FINAL.model\")"
   ]
  },
  {
   "cell_type": "markdown",
   "metadata": {},
   "source": [
    "Obtener Vectores e inferencia"
   ]
  },
  {
   "cell_type": "code",
   "execution_count": null,
   "metadata": {},
   "outputs": [],
   "source": [
    "#GUARDAR MODELO SIN INFERENCIA\n",
    "modeloD2V.delete_temporary_training_data(keep_doctags_vectors=False, keep_inference=False)\n",
    "modeloD2V.save('modelofree.model')\n",
    "modeloD2V.trainables.save('neural.mm')\n"
   ]
  },
  {
   "cell_type": "markdown",
   "metadata": {},
   "source": [
    "# Inferir Vectores"
   ]
  },
  {
   "cell_type": "code",
   "execution_count": null,
   "metadata": {},
   "outputs": [],
   "source": [
    "#Vectores y matriz de inferencia\n",
    "red = modeloD2V.trainables.save('neural.mm')\n",
    "vectorlockf = red.vectors_lockf\n",
    "syn1neg = red.syn1neg\n",
    "del(red)"
   ]
  },
  {
   "cell_type": "code",
   "execution_count": null,
   "metadata": {},
   "outputs": [],
   "source": [
    "modelo.trainables.vectors_lockf = vectorlockf\n",
    "modelo.trainables.syn1neg = syn1neg\n",
    "del(vectorlockf)\n",
    "del(syn1neg)"
   ]
  },
  {
   "cell_type": "code",
   "execution_count": null,
   "metadata": {},
   "outputs": [],
   "source": [
    "modelo.infer_vector(['hola'])"
   ]
  },
  {
   "cell_type": "markdown",
   "metadata": {},
   "source": [
    "# Función similiar w2v"
   ]
  },
  {
   "cell_type": "code",
   "execution_count": null,
   "metadata": {},
   "outputs": [],
   "source": [
    "keyedvectors = modeloW2V.wv\n",
    "#keyedvectors.save('vectors.kv')\n",
    "del(modeloW2V)"
   ]
  },
  {
   "cell_type": "markdown",
   "metadata": {},
   "source": [
    "##### modelo original"
   ]
  },
  {
   "cell_type": "code",
   "execution_count": null,
   "metadata": {},
   "outputs": [],
   "source": [
    "words = ['gestor', 'conocimiento']\n",
    "#Modelo W2v\n",
    "similar_words = keyedvectors.most_similar(words, topn=10)\n",
    "similar_words"
   ]
  },
  {
   "cell_type": "markdown",
   "metadata": {},
   "source": [
    "##### Pesos a las palabras y encontrar la media"
   ]
  },
  {
   "cell_type": "code",
   "execution_count": 29,
   "metadata": {},
   "outputs": [
    {
     "ename": "NameError",
     "evalue": "name 'keyedvectors' is not defined",
     "output_type": "error",
     "traceback": [
      "\u001b[0;31m---------------------------------------------------------------------------\u001b[0m",
      "\u001b[0;31mNameError\u001b[0m                                 Traceback (most recent call last)",
      "\u001b[0;32m<ipython-input-29-fa7338917567>\u001b[0m in \u001b[0;36m<module>\u001b[0;34m\u001b[0m\n\u001b[1;32m      6\u001b[0m \u001b[0;32mfrom\u001b[0m \u001b[0mgensim\u001b[0m \u001b[0;32mimport\u001b[0m \u001b[0mmatutils\u001b[0m\u001b[0;34m\u001b[0m\u001b[0;34m\u001b[0m\u001b[0m\n\u001b[1;32m      7\u001b[0m \u001b[0;34m\u001b[0m\u001b[0m\n\u001b[0;32m----> 8\u001b[0;31m \u001b[0mmean\u001b[0m \u001b[0;34m=\u001b[0m \u001b[0;34m[\u001b[0m\u001b[0mkeyedvectors\u001b[0m\u001b[0;34m.\u001b[0m\u001b[0mget_vector\u001b[0m\u001b[0;34m(\u001b[0m\u001b[0;34m'conocimiento'\u001b[0m\u001b[0;34m)\u001b[0m\u001b[0;34m*\u001b[0m\u001b[0;36m1.0\u001b[0m\u001b[0;34m,\u001b[0m\u001b[0mkeyedvectors\u001b[0m\u001b[0;34m.\u001b[0m\u001b[0mget_vector\u001b[0m\u001b[0;34m(\u001b[0m\u001b[0;34m'gestor'\u001b[0m\u001b[0;34m)\u001b[0m\u001b[0;34m*\u001b[0m\u001b[0;36m1.0\u001b[0m\u001b[0;34m]\u001b[0m\u001b[0;34m\u001b[0m\u001b[0;34m\u001b[0m\u001b[0m\n\u001b[0m\u001b[1;32m      9\u001b[0m \u001b[0marray\u001b[0m \u001b[0;34m=\u001b[0m \u001b[0mnp\u001b[0m\u001b[0;34m.\u001b[0m\u001b[0marray\u001b[0m\u001b[0;34m(\u001b[0m\u001b[0mmean\u001b[0m\u001b[0;34m)\u001b[0m\u001b[0;34m\u001b[0m\u001b[0;34m\u001b[0m\u001b[0m\n\u001b[1;32m     10\u001b[0m \u001b[0;31m#mean = matutils.unitvec(array.mean(axis=0)).astype(REAL)\u001b[0m\u001b[0;34m\u001b[0m\u001b[0;34m\u001b[0m\u001b[0;34m\u001b[0m\u001b[0m\n",
      "\u001b[0;31mNameError\u001b[0m: name 'keyedvectors' is not defined"
     ]
    }
   ],
   "source": [
    "from numpy import (\n",
    "    dot, float32 as REAL\n",
    ")\n",
    "import numpy as np\n",
    "\n",
    "from gensim import matutils\n",
    "\n",
    "mean = [keyedvectors.get_vector('conocimiento')*1.0,keyedvectors.get_vector('gestor')*1.0]\n",
    "array = np.array(mean)\n",
    "#mean = matutils.unitvec(array.mean(axis=0)).astype(REAL)\n",
    "array.mean(axis=0)"
   ]
  },
  {
   "cell_type": "markdown",
   "metadata": {},
   "source": [
    "##### Vectores normalizados"
   ]
  },
  {
   "cell_type": "code",
   "execution_count": null,
   "metadata": {},
   "outputs": [],
   "source": [
    "from numpy import linalg as LA\n",
    "norms=[]\n",
    "for vector in keyedvectors.vectors:\n",
    "    norms.append(LA.norm(vector))"
   ]
  },
  {
   "cell_type": "markdown",
   "metadata": {},
   "source": [
    "##### Producto punto y normalizar \n",
    "Ordenar de mayor a menor y su cantidad"
   ]
  },
  {
   "cell_type": "code",
   "execution_count": null,
   "metadata": {},
   "outputs": [],
   "source": [
    "dist = np.dot(keyedvectors.vectors[0:None], mean) / norms[0:None]\n",
    "best = matutils.argsort(dist, topn=10 + 2, reverse=True) \n",
    "best"
   ]
  },
  {
   "cell_type": "markdown",
   "metadata": {},
   "source": [
    "##### Encontrar la palabra"
   ]
  },
  {
   "cell_type": "code",
   "execution_count": null,
   "metadata": {},
   "outputs": [],
   "source": [
    "keyedvectors.index2word[4933]"
   ]
  },
  {
   "cell_type": "markdown",
   "metadata": {},
   "source": [
    "# Funcion similar d2v"
   ]
  },
  {
   "cell_type": "code",
   "execution_count": 61,
   "metadata": {},
   "outputs": [
    {
     "data": {
      "text/plain": [
       "300"
      ]
     },
     "execution_count": 61,
     "metadata": {},
     "output_type": "execute_result"
    }
   ],
   "source": [
    "len(modeloD2V.docvecs.vectors_docs_norm[1])"
   ]
  },
  {
   "cell_type": "code",
   "execution_count": 85,
   "metadata": {},
   "outputs": [
    {
     "data": {
      "text/plain": [
       "[(215, 0.6413873434066772),\n",
       " (416, 0.608231782913208),\n",
       " (267, 0.6046205163002014),\n",
       " (437, 0.5960988998413086),\n",
       " (10, 0.5945175886154175),\n",
       " (200, 0.5925189256668091),\n",
       " (237, 0.5828874111175537),\n",
       " (20, 0.5821707248687744),\n",
       " (375, 0.5795838832855225),\n",
       " (157, 0.5784246921539307)]"
      ]
     },
     "execution_count": 85,
     "metadata": {},
     "output_type": "execute_result"
    }
   ],
   "source": [
    "infer = modeloD2V.infer_vector(['conocimiento'])\n",
    "modeloD2V.docvecs.most_similar([infer], topn=10)"
   ]
  },
  {
   "cell_type": "code",
   "execution_count": 88,
   "metadata": {},
   "outputs": [],
   "source": [
    "from numpy import (\n",
    "    dot, float32 as REAL\n",
    ")\n",
    "import numpy as np\n",
    "\n",
    "from gensim import matutils\n",
    "\n",
    "mean = [infer*1.0]\n",
    "array = np.array(mean)\n",
    "mean = matutils.unitvec(array.mean(axis=0)).astype(REAL)\n",
    "#array.mean(axis=0)"
   ]
  },
  {
   "cell_type": "markdown",
   "metadata": {},
   "source": [
    "##### Vectores normalizados"
   ]
  },
  {
   "cell_type": "code",
   "execution_count": 30,
   "metadata": {},
   "outputs": [],
   "source": [
    "from numpy import linalg as LA\n",
    "norms=[]\n",
    "for vector in modeloD2V.docvecs.vectors:\n",
    "    norms.append(LA.norm(vector))"
   ]
  },
  {
   "cell_type": "markdown",
   "metadata": {},
   "source": [
    "##### Producto punto y normalizar \n",
    "Ordenar de mayor a menor y su cantidad"
   ]
  },
  {
   "cell_type": "code",
   "execution_count": 89,
   "metadata": {},
   "outputs": [
    {
     "data": {
      "text/plain": [
       "array([215, 416, 267, 437,  10, 200, 237,  20, 375, 157, 271, 291])"
      ]
     },
     "execution_count": 89,
     "metadata": {},
     "output_type": "execute_result"
    }
   ],
   "source": [
    "dist = np.dot(modeloD2V.docvecs.vectors_docs_norm[0:None], mean)\n",
    "best = matutils.argsort(dist, topn=10 + 2, reverse=True) \n",
    "best"
   ]
  },
  {
   "cell_type": "markdown",
   "metadata": {},
   "source": [
    "##### Encontrar la palabra"
   ]
  },
  {
   "cell_type": "code",
   "execution_count": null,
   "metadata": {},
   "outputs": [],
   "source": [
    "keyedvectors.index2word[4933]"
   ]
  },
  {
   "cell_type": "markdown",
   "metadata": {},
   "source": [
    "# Vectores a ElasticSearch"
   ]
  },
  {
   "cell_type": "code",
   "execution_count": 3,
   "metadata": {},
   "outputs": [
    {
     "data": {
      "text/plain": [
       "True"
      ]
     },
     "execution_count": 3,
     "metadata": {},
     "output_type": "execute_result"
    }
   ],
   "source": [
    "from elasticsearch import Elasticsearch\n",
    "\n",
    "es = Elasticsearch()\n",
    "es.ping()"
   ]
  },
  {
   "cell_type": "markdown",
   "metadata": {},
   "source": [
    "**creación de indices Palabras**"
   ]
  },
  {
   "cell_type": "code",
   "execution_count": 9,
   "metadata": {},
   "outputs": [
    {
     "data": {
      "text/plain": [
       "{'acknowledged': True, 'shards_acknowledged': True, 'index': 'palabras'}"
      ]
     },
     "execution_count": 9,
     "metadata": {},
     "output_type": "execute_result"
    }
   ],
   "source": [
    "mapping_palabras=\"\"\"\n",
    "{\n",
    "    \"mappings\":{\n",
    "        \"properties\":{\n",
    "            \"index\":{\"type\": \"integer\"},\n",
    "            \"palabra\":{\"type\": \"keyword\"},\n",
    "            \"vector\":{\n",
    "                \"type\": \"dense_vector\",\n",
    "                \"dims\": 300\n",
    "            },\n",
    "            \"norm_vec\":{\n",
    "                \"type\": \"dense_vector\",\n",
    "                \"dims\": 300\n",
    "            }\n",
    "        }\n",
    "    }\n",
    "}\n",
    "\"\"\"\n",
    "# es.indices.delete(index='palabras')\n",
    "es.indices.create(body=mapping_palabras, index='palabras')"
   ]
  },
  {
   "cell_type": "markdown",
   "metadata": {},
   "source": [
    "**creación de indices Documentos**"
   ]
  },
  {
   "cell_type": "code",
   "execution_count": 67,
   "metadata": {},
   "outputs": [
    {
     "data": {
      "text/plain": [
       "{'acknowledged': True, 'shards_acknowledged': True, 'index': 'documentos'}"
      ]
     },
     "execution_count": 67,
     "metadata": {},
     "output_type": "execute_result"
    }
   ],
   "source": [
    "mapping_docs=\"\"\"\n",
    "{\n",
    "    \"mappings\":{\n",
    "        \"properties\":{\n",
    "            \"tag\":{\"type\": \"integer\"},\n",
    "            \"vector\":{\n",
    "                \"type\": \"dense_vector\",\n",
    "                \"dims\": 300\n",
    "            },\n",
    "            \"norm_vec\":{\n",
    "                \"type\": \"dense_vector\",\n",
    "                \"dims\": 300\n",
    "            }\n",
    "        }\n",
    "    }\n",
    "}\n",
    "\"\"\"\n",
    "# es.indices.delete(index='documentos')\n",
    "es.indices.create(body=mapping_docs, index='documentos')"
   ]
  },
  {
   "cell_type": "code",
   "execution_count": 13,
   "metadata": {},
   "outputs": [
    {
     "name": "stdout",
     "output_type": "stream",
     "text": [
      "{'palabras': {'aliases': {}, 'mappings': {'properties': {'index': {'type': 'integer'}, 'norm_vec': {'type': 'dense_vector', 'dims': 300}, 'palabra': {'type': 'keyword'}, 'vector': {'type': 'dense_vector', 'dims': 300}}}, 'settings': {'index': {'creation_date': '1608162403100', 'number_of_shards': '1', 'number_of_replicas': '1', 'uuid': 'v2mqowdGSuGXzRYCOihh3A', 'version': {'created': '7060099'}, 'provided_name': 'palabras'}}}}\n",
      "\n",
      "{'documentos': {'aliases': {}, 'mappings': {'properties': {'norm_vec': {'type': 'dense_vector', 'dims': 300}, 'tag': {'type': 'integer'}, 'vector': {'type': 'dense_vector', 'dims': 300}}}, 'settings': {'index': {'creation_date': '1607123586198', 'number_of_shards': '1', 'number_of_replicas': '1', 'uuid': 'hFkHM_O3TWmms3zkhR36BQ', 'version': {'created': '7060099'}, 'provided_name': 'documentos'}}}}\n"
     ]
    }
   ],
   "source": [
    "print(es.indices.get('palabras'), end='\\n\\n')\n",
    "print(es.indices.get('documentos'))"
   ]
  },
  {
   "cell_type": "markdown",
   "metadata": {},
   "source": [
    "**Datos para Palabras**"
   ]
  },
  {
   "cell_type": "code",
   "execution_count": 82,
   "metadata": {},
   "outputs": [],
   "source": [
    "for i, (vector, vector_norm, palabra) in enumerate(zip(modeloW2V.wv.vectors, modeloW2V.wv.vectors_norm,modeloW2V.wv.vocab.keys())):\n",
    "\n",
    "    data = {\n",
    "        \"index\":i,\n",
    "        \"palabra\":palabra,\n",
    "        \"vector\":vector,\n",
    "        \"norm_vec\":vector_norm\n",
    "    }\n",
    "\n",
    "    es.index(index=\"palabras\", body=data, id=i)\n",
    "\n",
    "print(es.count(index='palabras'))"
   ]
  },
  {
   "cell_type": "markdown",
   "metadata": {},
   "source": [
    "**Datos Documentos D2V**"
   ]
  },
  {
   "cell_type": "code",
   "execution_count": 108,
   "metadata": {},
   "outputs": [
    {
     "name": "stdout",
     "output_type": "stream",
     "text": [
      "{'count': 451, '_shards': {'total': 1, 'successful': 1, 'skipped': 0, 'failed': 0}}\n"
     ]
    }
   ],
   "source": [
    "for i, (vector, vector_norm) in enumerate(zip(modeloD2V.docvecs.vectors_docs, modeloD2V.docvecs.vectors_docs_norm)):\n",
    "\n",
    "    data = {\n",
    "        \"tag\":i,\n",
    "        \"vector\":vector,\n",
    "        \"norm_vec\":vector_norm\n",
    "    }\n",
    "\n",
    "    es.index(index=\"documentos\", body=data, id=i)\n",
    "\n",
    "print(es.count(index='documentos'))"
   ]
  },
  {
   "cell_type": "code",
   "execution_count": 77,
   "metadata": {},
   "outputs": [],
   "source": [
    "modeloW2V.wv.init_sims()"
   ]
  },
  {
   "cell_type": "code",
   "execution_count": 18,
   "metadata": {},
   "outputs": [
    {
     "data": {
      "text/plain": [
       "'nariño'"
      ]
     },
     "execution_count": 18,
     "metadata": {},
     "output_type": "execute_result"
    }
   ],
   "source": [
    "#indice Enumerate\n",
    "#print(modeloW2V.wv.vectors) Vector\n",
    "print(modeloW2V.wv.index2word[1]) # palabra\n",
    "#from numpy import linalg as \n",
    "#LA.norm(vector) Norm Vector"
   ]
  },
  {
   "cell_type": "code",
   "execution_count": 17,
   "metadata": {
    "collapsed": true
   },
   "outputs": [
    {
     "data": {
      "text/plain": [
       "[array([-0.0125217 ,  0.01232493, -0.09510542,  0.03245121,  0.0276857 ,\n",
       "         0.02566618,  0.07061847,  0.02696814,  0.0088935 ,  0.11625333,\n",
       "         0.06977809,  0.05276983, -0.12684561,  0.03838859,  0.10287628,\n",
       "        -0.07816274, -0.02390791, -0.03260178, -0.02424236,  0.02812636,\n",
       "         0.12942778, -0.11180716,  0.00476846,  0.05713879,  0.13059047,\n",
       "         0.00018749, -0.00914336,  0.01083683,  0.00910252,  0.08247272,\n",
       "         0.05373651,  0.0007051 ,  0.011437  , -0.01691145, -0.10644438,\n",
       "        -0.03954473, -0.04432227,  0.08751375,  0.01707965, -0.0289205 ,\n",
       "        -0.00749234,  0.0687811 ,  0.07332145, -0.01046571, -0.03993998,\n",
       "         0.01192035, -0.03088628,  0.00045177,  0.01446927, -0.06940972,\n",
       "        -0.00417179, -0.01960897, -0.06405704,  0.03820181,  0.03848344,\n",
       "         0.00920843,  0.03239372, -0.02567745, -0.05019053,  0.04907716,\n",
       "        -0.0071375 ,  0.00595792, -0.03083108,  0.05917067, -0.13350867,\n",
       "         0.03162795,  0.04597617, -0.07804945,  0.0323598 , -0.00364587,\n",
       "        -0.06604765,  0.02239543, -0.00814177,  0.03840559, -0.10330827,\n",
       "        -0.04808164, -0.05455966, -0.00596693,  0.03227479,  0.07197601,\n",
       "         0.0035135 , -0.08168284, -0.02619348, -0.01289941,  0.02979642,\n",
       "         0.08576991,  0.00046225, -0.01500394, -0.02858565,  0.02649311,\n",
       "         0.03233998, -0.03245549, -0.0017    ,  0.02304603, -0.10423799,\n",
       "        -0.09936098, -0.00486943, -0.08699791,  0.0037166 , -0.04996898,\n",
       "         0.00224637,  0.00376291, -0.05591356, -0.01508457,  0.00897145,\n",
       "         0.07461431, -0.17993647,  0.02437589, -0.01250647, -0.05397045,\n",
       "         0.02845921,  0.01800959,  0.01452393, -0.05715152, -0.04459134,\n",
       "        -0.03204271, -0.0525407 , -0.00511256,  0.04634796, -0.05673848,\n",
       "        -0.04852023,  0.10921546, -0.03818298,  0.07752052, -0.15484531,\n",
       "         0.08011399, -0.03788822, -0.03611967, -0.10125683, -0.10937569,\n",
       "        -0.06231621,  0.00080429,  0.02810853,  0.00614083, -0.00757566,\n",
       "        -0.07622774, -0.07027733, -0.02484487,  0.01962135, -0.06027362,\n",
       "         0.02792282, -0.02467679, -0.10303029,  0.04509287, -0.0472798 ,\n",
       "         0.04871847, -0.03906627,  0.04731143,  0.01261283,  0.04421946,\n",
       "        -0.12028216,  0.01060839, -0.02051037, -0.01809414, -0.06551363,\n",
       "         0.06664976, -0.08567652,  0.04311624,  0.04697674,  0.03974661,\n",
       "         0.03794969,  0.00887887,  0.05259863, -0.06241757,  0.05762642,\n",
       "        -0.02978842,  0.10092039, -0.0702326 , -0.06444507,  0.09423576,\n",
       "         0.00346833, -0.08715848,  0.16960621, -0.05661291,  0.06552906,\n",
       "         0.05847928, -0.0912407 , -0.07405031,  0.06104194,  0.03820267,\n",
       "        -0.04847274, -0.04309469, -0.00497144, -0.01990704, -0.1429508 ,\n",
       "         0.01579425, -0.04815028,  0.10048967, -0.01703369,  0.0566948 ,\n",
       "        -0.0424252 ,  0.02453787, -0.02595212, -0.02601431,  0.03272104,\n",
       "        -0.10081246,  0.06826724,  0.1061781 , -0.07457288, -0.06126907,\n",
       "        -0.01661183, -0.05789419, -0.1304638 ,  0.01090023,  0.02651774,\n",
       "        -0.0441379 ,  0.04776285,  0.01656534, -0.01186939,  0.00328887,\n",
       "        -0.10241523, -0.06889766,  0.09239761, -0.06246241,  0.03848873,\n",
       "        -0.04286846,  0.14947812, -0.05135826, -0.01514854, -0.04951277,\n",
       "         0.0032264 , -0.03119527, -0.05334984,  0.08173817, -0.04594536,\n",
       "         0.00630345,  0.0754624 ,  0.09677743,  0.02760184,  0.01697656,\n",
       "        -0.01790489,  0.02141873, -0.00588928, -0.01281818,  0.01702321,\n",
       "         0.07343965, -0.06933017,  0.07681331,  0.07638403,  0.06069922,\n",
       "        -0.01450783, -0.02552365, -0.0067894 ,  0.04728872,  0.0091672 ,\n",
       "        -0.0076478 ,  0.04718433, -0.04044909,  0.04987035,  0.02812854,\n",
       "        -0.00723419, -0.06870314, -0.05386336,  0.00981109, -0.02844555,\n",
       "         0.01120479, -0.01944308,  0.05063442, -0.0552919 , -0.0843748 ,\n",
       "        -0.04810455,  0.08405942, -0.09329623,  0.05643274,  0.01104615,\n",
       "        -0.05099808, -0.00987285,  0.11299869, -0.00437442, -0.05607194,\n",
       "         0.03032929, -0.13363141, -0.0789099 ,  0.04621253, -0.00183987,\n",
       "         0.00449376, -0.02341514, -0.01407988, -0.09674372, -0.05943975,\n",
       "         0.01528905,  0.0048214 , -0.01814832,  0.01883442, -0.01095316,\n",
       "         0.02977821,  0.04486549, -0.00295656,  0.02732874, -0.01336289,\n",
       "         0.06288125, -0.01983959,  0.01160072, -0.03558617, -0.01648196,\n",
       "        -0.05330629, -0.08795264,  0.04458427, -0.10399686,  0.01081224],\n",
       "       dtype=float32)]"
      ]
     },
     "execution_count": 17,
     "metadata": {},
     "output_type": "execute_result"
    }
   ],
   "source": [
    "array = [modeloW2V.wv.vectors_norm[1]*1.0]\n",
    "array"
   ]
  },
  {
   "cell_type": "code",
   "execution_count": 19,
   "metadata": {},
   "outputs": [],
   "source": [
    "from numpy import (\n",
    "    dot, float32 as REAL\n",
    ")\n",
    "import numpy as np\n",
    "from gensim import matutils\n",
    "\n",
    "mean = matutils.unitvec(np.array(array).mean(axis=0)).astype(REAL)\n",
    "limited = modeloW2V.wv.vectors_norm\n",
    "dist = np.dot(limited, mean)"
   ]
  },
  {
   "cell_type": "code",
   "execution_count": 20,
   "metadata": {},
   "outputs": [
    {
     "data": {
      "text/plain": [
       "array([    1,     5,    12, 10108,  7477,  2105,  8797,  5250,  4333,\n",
       "       10642])"
      ]
     },
     "execution_count": 20,
     "metadata": {},
     "output_type": "execute_result"
    }
   ],
   "source": [
    "best = matutils.argsort(dist, topn=10, reverse=True)\n",
    "best"
   ]
  }
 ],
 "metadata": {
  "kernelspec": {
   "display_name": "Python (tesis)",
   "language": "python",
   "name": "tesis"
  },
  "language_info": {
   "codemirror_mode": {
    "name": "ipython",
    "version": 3
   },
   "file_extension": ".py",
   "mimetype": "text/x-python",
   "name": "python",
   "nbconvert_exporter": "python",
   "pygments_lexer": "ipython3",
   "version": "3.7.7"
  }
 },
 "nbformat": 4,
 "nbformat_minor": 4
}
